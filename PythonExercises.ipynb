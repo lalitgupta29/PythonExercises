{
 "cells": [
  {
   "cell_type": "markdown",
   "metadata": {},
   "source": [
    "# Exercise 1\n",
    "\n",
    "Create a program that asks the user to enter their name and their age. Print out a message addressed to them that tells them the year that they will turn 100 years old.\n",
    "\n",
    "Extras:\n",
    "\n",
    "1. Add on to the previous program by asking the user for another number and printing out that many copies of the previous message. (Hint: order of operations exists in Python)\n",
    "2. Print out that many copies of the previous message on separate lines. (Hint: the string \"\\n is the same as pressing the ENTER button)"
   ]
  },
  {
   "cell_type": "code",
   "execution_count": 11,
   "metadata": {
    "collapsed": false
   },
   "outputs": [
    {
     "name": "stdout",
     "output_type": "stream",
     "text": [
      "Please Enter Your Name: Lalit\n",
      "Please Enter you Age: 33\n",
      "How many copies would you like to print? 2\n",
      "Lalit will turn 100 in the year:  2084 \n",
      "\n",
      "Lalit will turn 100 in the year:  2084 \n",
      "\n"
     ]
    }
   ],
   "source": [
    "def hit_century(age):\n",
    "    \"\"\"(int) --> int\n",
    "\n",
    "    Returns the year when the person who has given age turns 100.\n",
    "    \n",
    "    >>>hit_century(33)\n",
    "    2084\n",
    "    >>>hit_century(3)\n",
    "    2114\n",
    "    \"\"\"\n",
    "    \n",
    "    ### get the current year\n",
    "    import datetime\n",
    "    now = datetime.datetime.now()\n",
    "    current_year = now.year\n",
    "    \n",
    "    ### calculate the numbers of years to go for completing century\n",
    "    years_to_go = 100-age\n",
    "    \n",
    "    return current_year + years_to_go\n",
    "\n",
    "name = input('Please Enter Your Name: ')\n",
    "age = int(input('Please Enter you Age: '))\n",
    "copies = int(input('How many copies would you like to print? '))\n",
    "\n",
    "while int(copies) > 0:\n",
    "    print(name,'will turn 100 in the year: ', hit_century(age), '\\n')\n",
    "    copies = copies - 1"
   ]
  },
  {
   "cell_type": "markdown",
   "metadata": {},
   "source": [
    "# Exercise 2\n",
    "\n",
    "Ask the user for a number. Depending on whether the number is even or odd, print out an appropriate message to the user. Hint: how does an even / odd number react differently when divided by 2?\n",
    "\n",
    "Extras:\n",
    "\n",
    "1. If the number is a multiple of 4, print out a different message.\n",
    "2. Ask the user for two numbers: one number to check (call it num) and one number to divide by (check). If check divides evenly into num, tell that to the user. If not, print a different appropriate message."
   ]
  },
  {
   "cell_type": "code",
   "execution_count": 2,
   "metadata": {
    "collapsed": false
   },
   "outputs": [
    {
     "name": "stdout",
     "output_type": "stream",
     "text": [
      "Please enter a number: 24\n",
      "The given number is Even\n",
      "The given number is also a multiple of 4\n"
     ]
    }
   ],
   "source": [
    "number = input('Please enter a number: ')\n",
    "\n",
    "remainder = int(number)%2\n",
    "\n",
    "if remainder == 1:\n",
    "    print('The given number is Odd')\n",
    "else:\n",
    "    print('The given number is Even')\n",
    "\n",
    "remainder4 = int(number)%4\n",
    "\n",
    "### If the number is a multiple of 4, print out a different message\n",
    "if remainder4 == 0:\n",
    "    print('The given number is also a multiple of 4')"
   ]
  },
  {
   "cell_type": "markdown",
   "metadata": {},
   "source": [
    "# Exercise 3 (and Solution)\n",
    "\n",
    "Take a list, say for example this one:\n",
    "\n",
    "  a = [1, 1, 2, 3, 5, 8, 13, 21, 34, 55, 89]\n",
    "and write a program that prints out all the elements of the list that are less than 5.\n",
    "\n",
    "Extras:\n",
    "\n",
    "1. Instead of printing the elements one by one, make a new list that has all the elements less than 5 from this list in it and print out this new list.\n",
    "2. Write this in one line of Python.\n",
    "3. Ask the user for a number and return a list that contains only elements from the original list a that are smaller than that number given by the user."
   ]
  },
  {
   "cell_type": "code",
   "execution_count": 4,
   "metadata": {
    "collapsed": false
   },
   "outputs": [
    {
     "name": "stdout",
     "output_type": "stream",
     "text": [
      "1\n",
      "1\n",
      "2\n",
      "3\n",
      "[1, 1, 2, 3]\n",
      "[1, 1, 2, 3]\n",
      "Please input a number: 90\n",
      "Incorrect input. The number entered is larger than any number in the list\n"
     ]
    }
   ],
   "source": [
    "list = [1, 1, 2, 3, 5, 8, 13, 21, 34, 55, 89]\n",
    "new_list = []\n",
    "\n",
    "### print each element that is less than 5\n",
    "for i in list:\n",
    "    if i < 5:\n",
    "        print(i)\n",
    "\n",
    "### create a new list with elements less than 5 and print the list\n",
    "for i in list:\n",
    "    if i < 5:\n",
    "        new_list.append(i)\n",
    "print(new_list)\n",
    "\n",
    "### write this in one line of Python\n",
    "print([x for x in list if x < 5])\n",
    "\n",
    "### Ask the user for a number and return a list that contains only elements from \n",
    "### the original list a that are smaller than that number given by the user.\n",
    "user_input = input('Please input a number: ')\n",
    "\n",
    "if int(user_input) > max(list):\n",
    "    print('Incorrect input. The number entered is larger than any number in the list.')\n",
    "else:\n",
    "    print([x for x in list if x < int(user_input)])\n",
    "    "
   ]
  },
  {
   "cell_type": "markdown",
   "metadata": {},
   "source": [
    "# Exercise 4 (and Solution)\n",
    "\n",
    "Create a program that asks the user for a number and then prints out a list of all the divisors of that number. (If you don’t know what a divisor is, it is a number that divides evenly into another number. For example, 13 is a divisor of 26 because 26 / 13 has no remainder.)"
   ]
  },
  {
   "cell_type": "code",
   "execution_count": 10,
   "metadata": {
    "collapsed": false
   },
   "outputs": [
    {
     "name": "stdout",
     "output_type": "stream",
     "text": [
      "Please enter a number: 10\n",
      "5 is a divisor of 10\n",
      "2 is a divisor of 10\n",
      "[5, 2]\n"
     ]
    }
   ],
   "source": [
    "number = input('Please enter a number: ')\n",
    "\n",
    "# convert number from str to int\n",
    "number = int(number)\n",
    "\n",
    "# printing one divisor at a time\n",
    "i = 1\n",
    "while (number - i) > 1:\n",
    "    divisor = number - i\n",
    "    if (number%divisor == 0):\n",
    "        print(divisor, 'is a divisor of', number)\n",
    "    i = i+1\n",
    "    \n",
    "# printing a list of divisors\n",
    "divisor_list = []\n",
    "for i in range(1,number-1):\n",
    "    divisor = number-i\n",
    "    if (number%divisor == 0):\n",
    "        divisor_list.append(divisor)\n",
    "\n",
    "print(divisor_list)"
   ]
  },
  {
   "cell_type": "markdown",
   "metadata": {},
   "source": [
    "# Exercise 5 \n",
    "\n",
    "Take two lists, say for example these two:\n",
    "\n",
    "  a = [1, 1, 2, 3, 5, 8, 13, 21, 34, 55, 89]\n",
    "  b = [1, 2, 3, 4, 5, 6, 7, 8, 9, 10, 11, 12, 13]\n",
    "and write a program that returns a list that contains only the elements that are common between the lists (without duplicates). Make sure your program works on two lists of different sizes.\n",
    "\n",
    "Extras:\n",
    "\n",
    "1. Randomly generate two lists to test this\n",
    "2. Write this in one line of Python (don’t worry if you can’t figure this out at this point - we’ll get to it soon)"
   ]
  },
  {
   "cell_type": "code",
   "execution_count": 168,
   "metadata": {
    "collapsed": false
   },
   "outputs": [
    {
     "name": "stdout",
     "output_type": "stream",
     "text": [
      "The common elements between: \n",
      " [1, 1, 2, 3, 5, 8, 13, 21, 34, 55, 89] \n",
      "and\n",
      " [1, 2, 3, 4, 5, 6, 7, 8, 9, 10, 11, 12, 13] \n",
      "are: \n",
      " [1, 2, 3, 5, 8, 13]\n",
      "List1:  [18, 22, 44, 40, 77, 11, 28, 78, 27, 1]\n",
      "List2:  [6, 24, 37, 31, 75, 45, 68, 60, 15, 77]\n",
      "Common List:  [77]\n"
     ]
    }
   ],
   "source": [
    "list1 =  [1, 1, 2, 3, 5, 8, 13, 21, 34, 55, 89]\n",
    "list2 =  [1, 2, 3, 4, 5, 6, 7, 8, 9, 10, 11, 12, 13]\n",
    "\n",
    "# create new list which has only common elements\n",
    "common_list = []\n",
    "for x in list1:\n",
    "    if x in list2 and x not in common_list:\n",
    "        common_list.append(x)\n",
    "        \n",
    "# remove duplicates from common_list\n",
    "#for i in range(len(common_list)-1):\n",
    "#    if common_list[i] in common_list[i+1:]:\n",
    "#        del common_list[i]\n",
    "\n",
    "# output the common list without duplicates\n",
    "print('The common elements between:','\\n',list1,'\\nand\\n',list2,'\\nare: \\n',common_list)\n",
    "\n",
    "### Randomly generate two lists to test this\n",
    "import random\n",
    "random_list1 = [int(100*random.random()) for i in range(10)]\n",
    "random_list2 = [int(100*random.random()) for i in range(10)]\n",
    "list1 = random_list1    #comment this line if you want to use the initial list - list1\n",
    "list2 = random_list2    #comment this line if you want to use the initial list - list2\n",
    "\n",
    "### Write this in one line of Python\n",
    "common_list = [x for x in list1 if x in list2]\n",
    "# remove duplicates from common_list\n",
    "for i in range(len(common_list)-1):\n",
    "    if common_list[i] in common_list[i+1:]:\n",
    "        del common_list[i]\n",
    "# print the list\n",
    "print('List1: ', list1)\n",
    "print('List2: ', list2)\n",
    "print('Common List: ', common_list)"
   ]
  },
  {
   "cell_type": "markdown",
   "metadata": {},
   "source": [
    "# Exercise 6\n",
    "\n",
    "Ask the user for a string and print out whether this string is a palindrome or not. (A palindrome is a string that reads the same forwards and backwards.)"
   ]
  },
  {
   "cell_type": "code",
   "execution_count": 178,
   "metadata": {
    "collapsed": false
   },
   "outputs": [
    {
     "name": "stdout",
     "output_type": "stream",
     "text": [
      "Please enter a string: letter\n",
      "The entered string \"letter\" is not a palindrome\n"
     ]
    }
   ],
   "source": [
    "def is_palindrome(s):\n",
    "    \"\"\"(str) --> bool\n",
    "    \n",
    "    Returns True if and only if the string s is a palindrome (a string \n",
    "    that reads the same forwards and backwards). \n",
    "    \n",
    "    >>>is_palindrome('racecar')\n",
    "    True\n",
    "    >>>is_palindrome('letter')\n",
    "    False\n",
    "    >>>is_palindrome('deed')\n",
    "    True\n",
    "    \"\"\"\n",
    "    \n",
    "    length = len(s)\n",
    "    for i in range(length//2):\n",
    "        if s[i] != s[length-1-i]:\n",
    "            return False\n",
    "    \n",
    "    return True\n",
    "\n",
    "input_string = input('Please enter a string: ')\n",
    "if is_palindrome(input_string):\n",
    "    palindrome = 'a palindrome'\n",
    "else:\n",
    "    palindrome = 'not a palindrome'\n",
    "    \n",
    "print('The entered string \"' + input_string +'\" is', palindrome)"
   ]
  },
  {
   "cell_type": "markdown",
   "metadata": {
    "collapsed": true
   },
   "source": [
    "# Exercise 7 \n",
    "\n",
    "Let’s say I give you a list saved in a variable: a = [1, 4, 9, 16, 25, 36, 49, 64, 81, 100]. Write one line of Python that takes this list a and makes a new list that has only the even elements of this list in it."
   ]
  },
  {
   "cell_type": "code",
   "execution_count": 182,
   "metadata": {
    "collapsed": false
   },
   "outputs": [
    {
     "name": "stdout",
     "output_type": "stream",
     "text": [
      "The even elements from below list: \n",
      " [1, 4, 9, 16, 25, 36, 49, 64, 81, 100, 102, 88, 77, 66]\n",
      "are: \n",
      " [4, 16, 36, 64, 100, 102, 88, 66]\n"
     ]
    }
   ],
   "source": [
    "a = [1, 4, 9, 16, 25, 36, 49, 64, 81, 100, 102, 88, 77, 66]\n",
    "\n",
    "list_even = [x for x in a if x % 2 == 0]\n",
    "\n",
    "print('The even elements from below list: \\n',a)\n",
    "\n",
    "print('are: \\n', list_even)"
   ]
  },
  {
   "cell_type": "markdown",
   "metadata": {
    "collapsed": true
   },
   "source": [
    "# Exercise 8 (and Solution)\n",
    "\n",
    "Make a two-player Rock-Paper-Scissors game. (Hint: Ask for player plays (using input), compare them, print out a message of congratulations to the winner, and ask if the players want to start a new game)\n",
    "\n",
    "Remember the rules:\n",
    "\n",
    "1. Rock beats scissors\n",
    "2. Scissors beats paper\n",
    "3. Paper beats rock"
   ]
  },
  {
   "cell_type": "code",
   "execution_count": 22,
   "metadata": {
    "collapsed": false
   },
   "outputs": [
    {
     "name": "stdout",
     "output_type": "stream",
     "text": [
      "User1 - Please enter your choice (rock, paper or scissors): scissors\n",
      "User2 - Please enter your choice (rock, paper or scissors): paper\n",
      "User1 beats User2\n"
     ]
    }
   ],
   "source": [
    "# list of valid inputs for verification\n",
    "valid_strings = ['rock', 'paper', 'scissors']\n",
    "\n",
    "# Get valid inputs from the users\n",
    "invalid_input = True\n",
    "while invalid_input:\n",
    "    user1_input = input('User1 - Please enter your choice (rock, paper or scissors): ')\n",
    "    user1_input = user1_input.lower()\n",
    "    invalid_input = False\n",
    "    if user1_input not in valid_strings:\n",
    "        print('Please enter a valid input.')\n",
    "        invalid_input = True\n",
    "\n",
    "invalid_input = True\n",
    "while invalid_input:\n",
    "    user2_input = input('User2 - Please enter your choice (rock, paper or scissors): ')\n",
    "    user2_input = user2_input.lower()\n",
    "    invalid_input = False\n",
    "    if user2_input not in valid_strings:\n",
    "        print('Please enter a valid input.')\n",
    "        invalid_input = True\n",
    "\n",
    "# winning combinations\n",
    "win = [['rock','scissors'], ['scissors','paper'], ['paper','rock']]\n",
    "\n",
    "# loosing combinations\n",
    "loose = [['rock','paper'],['scissors','rock'],['paper','scissors']]\n",
    "\n",
    "if [user1_input, user2_input] in win:\n",
    "    print('User1 beats User2')\n",
    "elif [user1_input, user2_input] in loose:\n",
    "    print('User2 beats User1')\n",
    "else:\n",
    "    print('It is a tie!!')      \n",
    "        "
   ]
  },
  {
   "cell_type": "markdown",
   "metadata": {},
   "source": [
    "# Exercise 9\n",
    "\n",
    "Generate a random number between 1 and 9 (including 1 and 9). Ask the user to guess the number, then tell them whether they guessed too low, too high, or exactly right. (Hint: remember to use the user input lessons from the very first exercise)\n",
    "\n",
    "Extras:\n",
    "\n",
    "1. Keep the game going until the user types “exit”\n",
    "2. Keep track of how many guesses the user has taken, and when the game ends, print this out."
   ]
  },
  {
   "cell_type": "code",
   "execution_count": 143,
   "metadata": {
    "collapsed": false
   },
   "outputs": [
    {
     "name": "stdout",
     "output_type": "stream",
     "text": [
      "3\n",
      "Enter \"Exit\" anytime in the input to exit.\n",
      "Please guess a number between 1 and 9: 2\n",
      "Your guess was too low\n",
      "Please guess a number between 1 and 9: 3\n",
      "You guessed right!!\n",
      "No of total attempts: 2\n"
     ]
    }
   ],
   "source": [
    "# Generate a random number between 1 and 9\n",
    "import random\n",
    "random_num = random.random() \n",
    "\n",
    "# random.random() give a float between 0.0 to 1.0. The below code converts it to a number \n",
    "# between 1 and 9\n",
    "random_num = int(random_num*10)\n",
    "if random_num < 9:\n",
    "    random_num = random_num + 1\n",
    "    \n",
    "# other way to get a random number between a range\n",
    "random_num = random.randint(1,9) # random.randint(a,b) gives a random integer n such that a<= n <= b\n",
    "\n",
    "print(random_num)\n",
    "print('Enter \"Exit\" anytime in the input to exit.')\n",
    "\n",
    "# initiate the counter\n",
    "count = 0\n",
    "\n",
    "# while loop which will run untill the guess is right or user enters exit\n",
    "while True:\n",
    "    # Ask the user to guess a number\n",
    "    guess = input('Please guess a number between 1 and 9: ')\n",
    "    \n",
    "    # check if the user entered exit\n",
    "    if guess.lower() == 'exit':\n",
    "        print('No of total attempts:', count)\n",
    "        break\n",
    "    \n",
    "    # if user didn't eneterd exit increment the counter\n",
    "    count = count + 1\n",
    "    \n",
    "    # Check if the entered input is an integer between 1 and 9. if not print message.\n",
    "    if guess not in '123456789':\n",
    "        print('Please enter a valid input (number between 1 and 9 or \"Exit\").')\n",
    "        continue\n",
    "    elif random_num == int(guess):\n",
    "        print('You guessed right!!')\n",
    "        print('No of total attempts:', count)\n",
    "        break\n",
    "    elif random_num < int(guess):\n",
    "        print('Your guess was too high')\n",
    "    else:\n",
    "        print('Your guess was too low')\n",
    "\n",
    "    "
   ]
  },
  {
   "cell_type": "markdown",
   "metadata": {},
   "source": [
    "# Exercise 10\n",
    "\n",
    "This week’s exercise is going to be revisiting an old exercise (see Exercise 5), except require the solution in a different way.\n",
    "\n",
    "Take two lists, say for example these two:\n",
    "\n",
    "\ta = [1, 1, 2, 3, 5, 8, 13, 21, 34, 55, 89]\n",
    "\tb = [1, 2, 3, 4, 5, 6, 7, 8, 9, 10, 11, 12, 13]\n",
    "and write a program that returns a list that contains only the elements that are common between the lists (without duplicates). Make sure your program works on two lists of different sizes. Write this in one line of Python using at least one list comprehension. (Hint: Remember list comprehensions from Exercise 7).\n",
    "\n",
    "The original formulation of this exercise said to write the solution using one line of Python, but a few readers pointed out that this was impossible to do without using sets that I had not yet discussed on the blog, so you can either choose to use the original directive and read about the set command in Python 3.3, or try to implement this on your own and use at least one list comprehension in the solution.\n",
    "\n",
    "Extra:\n",
    "\n",
    "Randomly generate two lists to test this "
   ]
  },
  {
   "cell_type": "code",
   "execution_count": 27,
   "metadata": {
    "collapsed": false
   },
   "outputs": [
    {
     "name": "stdout",
     "output_type": "stream",
     "text": [
      "Common list using list comprehension: [38]\n",
      "Common List using sets: [38]\n",
      "Common List using sets: [38]\n"
     ]
    }
   ],
   "source": [
    "# Detailed info on sets: https://www.programiz.com/python-programming/set\n",
    "\n",
    "a = [1, 1, 2, 3, 5, 8, 13, 21, 34, 55, 89]\n",
    "b = [1, 2, 3, 4, 5, 6, 7, 8, 9, 10, 11, 12, 13]\n",
    "\n",
    "### Randomly generate two lists to test this\n",
    "import random\n",
    "random_list1 = [int(100*random.random()) for i in range(10)]\n",
    "random_list2 = [int(100*random.random()) for i in range(10)]\n",
    "a = random_list1    #comment this line if you want to use the initial list - list1\n",
    "b = random_list2    #comment this line if you want to use the initial list - list2\n",
    "\n",
    "# using list comprehension and sets\n",
    "common_list = [x for x in set(a) if x in b]\n",
    "print('Common list using list comprehension:',common_list)\n",
    "\n",
    "# using only sets - Method 1\n",
    "common_list_set = list(set(a).intersection(set(b)))\n",
    "print('Common List using sets:',common_list_set)\n",
    "\n",
    "# using only sets - Method 2\n",
    "common_list_set = list(set(a)&set(b))\n",
    "print('Common List using sets:',common_list_set)"
   ]
  },
  {
   "cell_type": "markdown",
   "metadata": {},
   "source": [
    "# Exercise 11\n",
    "\n",
    "Ask the user for a number and determine whether the number is prime or not. (For those who have forgotten, a prime number is a number that has no divisors.). You can (and should!) use your answer to Exercise 4 to help you."
   ]
  },
  {
   "cell_type": "code",
   "execution_count": 25,
   "metadata": {
    "collapsed": false
   },
   "outputs": [
    {
     "name": "stdout",
     "output_type": "stream",
     "text": [
      "Please enter a number: 43\n",
      "The given number 43 is prime.\n"
     ]
    }
   ],
   "source": [
    "#### create a function using the code in Exercise 4 to determine if \n",
    "# a number has divisors in other words if it is prime\n",
    "\n",
    "def is_prime(num):\n",
    "    \"\"\"(int) -> bool\n",
    "    \n",
    "    Returns True if and only if num has no divisor other than 1 and itself.\n",
    "    In other words it returns True if and only if num is a prime number.\n",
    "    \n",
    "    >>>is_prime(24)\n",
    "    True\n",
    "    >>>is_prime(13)\n",
    "    False\n",
    "    \"\"\"\n",
    "    for divisor in range(2,(num//2+1)):\n",
    "        if (num%divisor == 0):\n",
    "            return False\n",
    "        \n",
    "    return True\n",
    "\n",
    "# get a valid input from user\n",
    "invalid_input = True\n",
    "while invalid_input:\n",
    "    user_input = input('Please enter a number: ')\n",
    "    # check if the input is an integer\n",
    "    if user_input.isdigit():\n",
    "        invalid_input = False\n",
    "    else:\n",
    "        print(\"Invalid input.\")\n",
    "        \n",
    "# convert user_input from str to int\n",
    "user_input = int(user_input)\n",
    "\n",
    "if (is_prime(user_input)):\n",
    "    print(\"The given number %s is prime.\" % user_input)\n",
    "else:\n",
    "    print(\"The given number %s is not a prime number.\" % user_input)"
   ]
  },
  {
   "cell_type": "markdown",
   "metadata": {},
   "source": [
    "# Exercise 12\n",
    "\n",
    "Write a program that takes a list of numbers (for example, a = [5, 10, 15, 20, 25]) and makes a new list of only the first and last elements of the given list. For practice, write this code inside a function."
   ]
  },
  {
   "cell_type": "code",
   "execution_count": 3,
   "metadata": {
    "collapsed": false
   },
   "outputs": [
    {
     "name": "stdout",
     "output_type": "stream",
     "text": [
      "[1, 3]\n"
     ]
    }
   ],
   "source": [
    "# function to get the first and last element of a list\n",
    "def get_first_last(L):\n",
    "    \"\"\"(list) -> list\n",
    "    \n",
    "    Returns a list with first and last element of list L\n",
    "    \n",
    "    Pre-condition: The list L should have atleast 2 elements.\n",
    "    \n",
    "    >>>get_first_last([2,3, 5, 3 ,9])\n",
    "    [2,9]\n",
    "    >>>get_first_last([1,3])\n",
    "    [1,3]\n",
    "    \"\"\"\n",
    "    \n",
    "    return [L[0], L[-1]]\n",
    "\n",
    "print(get_first_last([1,3]))"
   ]
  },
  {
   "cell_type": "markdown",
   "metadata": {},
   "source": [
    "# Exercise 13\n",
    "\n",
    "Write a program that asks the user how many Fibonnaci numbers to generate and then generates them. Take this opportunity to think about how you can use functions. Make sure to ask the user to enter the number of numbers in the sequence to generate.(Hint: The Fibonnaci seqence is a sequence of numbers where the next number in the sequence is the sum of the previous two numbers in the sequence. The sequence looks like this: 1, 1, 2, 3, 5, 8, 13, …)"
   ]
  },
  {
   "cell_type": "code",
   "execution_count": 11,
   "metadata": {
    "collapsed": false
   },
   "outputs": [
    {
     "name": "stdout",
     "output_type": "stream",
     "text": [
      "Please enter the no. of elements to print from fibonacci series: 6\n",
      "[1, 1, 2, 3, 5, 8]\n"
     ]
    }
   ],
   "source": [
    "# write function to get a valid integer value from the user\n",
    "def get_valid_input():\n",
    "    \"\"\"() -> int\n",
    "    \n",
    "    Returns valid integer input from the user\n",
    "    \n",
    "    >>>get_valid_input()\n",
    "    integer\n",
    "    \"\"\"\n",
    "\n",
    "    # get a valid input from user\n",
    "    invalid_input = True\n",
    "    while invalid_input:\n",
    "        user_input = input('Please enter the no. of elements to print from fibonacci series: ')\n",
    "        # check if the input is an integer\n",
    "        if user_input.isdigit():\n",
    "            invalid_input = False\n",
    "        else:\n",
    "            print(\"Invalid input. Please enter a valid integer.\")\n",
    "            \n",
    "    return int(user_input)\n",
    "\n",
    "# write function to create fibonnaaci series\n",
    "def get_fibonnaci(i):\n",
    "    \"\"\"(int) -> list\n",
    "    \n",
    "    Returns a list of fibonnaci sequence with first i elements\n",
    "    \n",
    "    >>>get_fibonnaci(5)\n",
    "    [1,1,2,3,5]\n",
    "    >>>get_fibonnaci(3)\n",
    "    [1,1,2]\n",
    "    \"\"\"\n",
    "    fib = []\n",
    "    \n",
    "    for x in range(i):\n",
    "        if x < 2:\n",
    "            fib.append(1)\n",
    "        else:\n",
    "            fib.append((fib[x-2] + fib[x-1]))\n",
    "            \n",
    "    return fib\n",
    "\n",
    "# call functions get_valid_input to get the number of elements in fibonnaci series from user\n",
    "# pass on the input to function get_fibonacci to get the fibonnaci series\n",
    "print(get_fibonnaci(get_valid_input()))\n",
    "\n",
    "    "
   ]
  },
  {
   "cell_type": "code",
   "execution_count": 28,
   "metadata": {
    "collapsed": false
   },
   "outputs": [
    {
     "name": "stdout",
     "output_type": "stream",
     "text": [
      "None\n"
     ]
    }
   ],
   "source": [
    "def contains_item(L, s):\n",
    "    \"\"\" (list, object) -> bool\n",
    "\n",
    "    Return True if and only if s is an item of L.\n",
    "    \"\"\"\n",
    "\n",
    "    for item in L:\n",
    "        if item == s:\n",
    "            return True\n",
    "        else:\n",
    "            return False\n",
    "        \n",
    "print(contains_item([], 1))"
   ]
  },
  {
   "cell_type": "markdown",
   "metadata": {},
   "source": [
    "# Exercise 14 (and Solution)\n",
    "\n",
    "Write a program (function!) that takes a list and returns a new list that contains all the elements of the first list minus all the duplicates.\n",
    "\n",
    "Extras:\n",
    "\n",
    "1. Write two different functions to do this - one using a loop and constructing a list, and another using sets.\n",
    "2. Go back and do Exercise 5 using sets, and write the solution for that in a different function."
   ]
  },
  {
   "cell_type": "code",
   "execution_count": 2,
   "metadata": {
    "collapsed": false
   },
   "outputs": [
    {
     "name": "stdout",
     "output_type": "stream",
     "text": [
      "[1, 3, 4, 5]\n",
      "{1, 3, 4, 5}\n"
     ]
    }
   ],
   "source": [
    "# function that returns list with duplicates removed using loop\n",
    "def rem_dup(L):\n",
    "    \"\"\"(list) -> list\n",
    "    \n",
    "    Returns a list with all elements of list L but no duplicates. This function uses loops\n",
    "    \n",
    "    >>>rem_dup([1,1,3,4,5,5])\n",
    "    [1,3,4,5]\n",
    "    >>>rem_dup([1,2,3,4,5,6,6,6,6])\n",
    "    [1,2,3,4,5,6]\n",
    "    \"\"\"\n",
    "    list = []\n",
    "    for x in L:\n",
    "        if x not in list:\n",
    "            list.append(x)\n",
    "    return list\n",
    "\n",
    "# function that returns list with duplicates removed using sets\n",
    "def remove_dup(L):\n",
    "    \"\"\"(list) -> list\n",
    "    \n",
    "    Returns a list with all elements of list L but no duplicates. This function uses sets\n",
    "    \n",
    "    >>>remove_dup([1,1,3,4,5,5])\n",
    "    [1,3,4,5]\n",
    "    >>>remove_dup([1,2,3,4,5,6,6,6,6])\n",
    "    [1,2,3,4,5,6]\n",
    "    \"\"\"\n",
    "    return set(L)\n",
    "\n",
    "print(rem_dup([1,1,3,4,5,5]))\n",
    "print(remove_dup([1,1,3,4,5,5]))"
   ]
  },
  {
   "cell_type": "markdown",
   "metadata": {},
   "source": [
    "# Exercise 15 \n",
    "\n",
    "Write a program (using functions!) that asks the user for a long string containing multiple words. Print back to the user the same string, except with the words in backwards order. For example, say I type the string:\n",
    "\n",
    "  My name is Michele\n",
    "Then I would see the string:\n",
    "\n",
    "  Michele is name My\n",
    "shown back to me."
   ]
  },
  {
   "cell_type": "code",
   "execution_count": 4,
   "metadata": {
    "collapsed": false
   },
   "outputs": [
    {
     "name": "stdout",
     "output_type": "stream",
     "text": [
      "Please enter the long string you want to reverse: my name is lalit gupta\n",
      "The reversed string is: gupta lalit is name my\n"
     ]
    }
   ],
   "source": [
    "# function to return reverse of a long string by words\n",
    "def rev_string(s):\n",
    "    \"\"\"(str) -> str\n",
    "    \n",
    "    Returns a reversed string by word for given string s\n",
    "    \n",
    "    >>>rev_string('my name is lalit')\n",
    "    'lalit is name my'\n",
    "    >>>rev_string('test')\n",
    "    'test'\n",
    "    \"\"\"\n",
    "    split = s.split(\" \")\n",
    "    split.reverse()\n",
    "    return \" \".join(split)\n",
    "    \n",
    "# get the long string from user to be reversed\n",
    "usr_input = input('Please enter the long string you want to reverse: ')\n",
    "\n",
    "# print the output\n",
    "print(\"The reversed string is:\", rev_string(usr_input))\n"
   ]
  },
  {
   "cell_type": "markdown",
   "metadata": {},
   "source": [
    "# Exercise 16\n",
    "\n",
    "## Password Generator\n",
    "\n",
    "Write a password generator in Python. Be creative with how you generate passwords - strong passwords have a mix of lowercase letters, uppercase letters, numbers, and symbols. The passwords should be random, generating a new password every time the user asks for a new password. Include your run-time code in a main method.\n",
    "\n",
    "Extra:\n",
    "\n",
    "Ask the user how strong they want their password to be. For weak passwords, pick a word or two from a list. "
   ]
  },
  {
   "cell_type": "code",
   "execution_count": 7,
   "metadata": {
    "collapsed": false
   },
   "outputs": [],
   "source": [
    "# import library random\n",
    "import random\n"
   ]
  },
  {
   "cell_type": "code",
   "execution_count": 36,
   "metadata": {
    "collapsed": false
   },
   "outputs": [
    {
     "name": "stdout",
     "output_type": "stream",
     "text": [
      "How strong password do you need? very strng\n",
      "Please provide a valid input: weak, medium, strong or very strong\n",
      "How strong password do you need? srtong\n",
      "Please provide a valid input: weak, medium, strong or very strong\n",
      "How strong password do you need? strong\n",
      "The new password is: S9k13X9hg4YD6\n"
     ]
    }
   ],
   "source": [
    "# ask user if they want a weak, medium, strong or very strong password\n",
    "invalid_input = True\n",
    "while invalid_input:\n",
    "    usr_input = input(\"How strong password do you need? \")\n",
    "    if usr_input.lower() in ['weak', 'medium', 'strong', 'very strong']:\n",
    "        invalid_input = False\n",
    "    else:\n",
    "        print(\"Please provide a valid input: weak, medium, strong or very strong\")\n",
    "        \n",
    "# get the index of the option selected by user. we will use is later in the code to select\n",
    "# the types that will be used for each one of them\n",
    "pwd_strength = ['weak', 'medium', 'strong', 'very strong'].index(usr_input.lower()) + 1\n",
    "\n",
    "# randomly get the length of the password (a number between 8 and 13, both inclusive)\n",
    "length = random.randint(8,13) # random.randint(a,b) gives a random integer n such that a<= n <= b\n",
    "\n",
    "# initialize password\n",
    "password = ''\n",
    "\n",
    "# initialize letters\n",
    "letters = 'abcdefghijklmnopqrstuvwxyz'\n",
    "\n",
    "# initialize symbols (18 symbols)\n",
    "symbols = '!@#$%^&*(){}|,./\\~'\n",
    "\n",
    "while length > 0:\n",
    "    # get the next type of element for password\n",
    "    # 1 - lowecase letter\n",
    "    # 2 - uppercase letter\n",
    "    # 3 - number\n",
    "    # 4 - symbol\n",
    "    typ = random.randint(1,pwd_strength)\n",
    "    if typ == 1:\n",
    "        password = password + letters[random.randint(0,25)]\n",
    "    elif typ == 2:\n",
    "        password = password + letters[random.randint(0,25)].upper()\n",
    "    elif typ == 3:\n",
    "        password = password + str(random.randint(0,9))\n",
    "    else:\n",
    "        password = password + symbols[random.randint(0,17)]\n",
    "    length = length - 1\n",
    "        \n",
    "print(\"The new password is: %s\" % password)\n"
   ]
  }
 ],
 "metadata": {
  "anaconda-cloud": {},
  "kernelspec": {
   "display_name": "Python [default]",
   "language": "python",
   "name": "python3"
  },
  "language_info": {
   "codemirror_mode": {
    "name": "ipython",
    "version": 3
   },
   "file_extension": ".py",
   "mimetype": "text/x-python",
   "name": "python",
   "nbconvert_exporter": "python",
   "pygments_lexer": "ipython3",
   "version": "3.5.2"
  }
 },
 "nbformat": 4,
 "nbformat_minor": 0
}
