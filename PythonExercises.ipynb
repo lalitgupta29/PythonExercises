{
 "cells": [
  {
   "cell_type": "markdown",
   "metadata": {},
   "source": [
    "# Exercise 1\n",
    "\n",
    "Create a program that asks the user to enter their name and their age. Print out a message addressed to them that tells them the year that they will turn 100 years old.\n",
    "\n",
    "Extras:\n",
    "\n",
    "1. Add on to the previous program by asking the user for another number and printing out that many copies of the previous message. (Hint: order of operations exists in Python)\n",
    "2. Print out that many copies of the previous message on separate lines. (Hint: the string \"\\n is the same as pressing the ENTER button)"
   ]
  },
  {
   "cell_type": "code",
   "execution_count": 11,
   "metadata": {
    "collapsed": false
   },
   "outputs": [
    {
     "name": "stdout",
     "output_type": "stream",
     "text": [
      "Please Enter Your Name: Lalit\n",
      "Please Enter you Age: 33\n",
      "How many copies would you like to print? 2\n",
      "Lalit will turn 100 in the year:  2084 \n",
      "\n",
      "Lalit will turn 100 in the year:  2084 \n",
      "\n"
     ]
    }
   ],
   "source": [
    "def hit_century(age):\n",
    "    \"\"\"(int) --> int\n",
    "\n",
    "    Returns the year when the person who has given age turns 100.\n",
    "    \n",
    "    >>>hit_century(33)\n",
    "    2084\n",
    "    >>>hit_century(3)\n",
    "    2114\n",
    "    \"\"\"\n",
    "    \n",
    "    ### get the current year\n",
    "    import datetime\n",
    "    now = datetime.datetime.now()\n",
    "    current_year = now.year\n",
    "    \n",
    "    ### calculate the numbers of years to go for completing century\n",
    "    years_to_go = 100-age\n",
    "    \n",
    "    return current_year + years_to_go\n",
    "\n",
    "name = input('Please Enter Your Name: ')\n",
    "age = int(input('Please Enter you Age: '))\n",
    "copies = int(input('How many copies would you like to print? '))\n",
    "\n",
    "while int(copies) > 0:\n",
    "    print(name,'will turn 100 in the year: ', hit_century(age), '\\n')\n",
    "    copies = copies - 1"
   ]
  },
  {
   "cell_type": "markdown",
   "metadata": {},
   "source": [
    "# Exercise 2\n",
    "\n",
    "Ask the user for a number. Depending on whether the number is even or odd, print out an appropriate message to the user. Hint: how does an even / odd number react differently when divided by 2?\n",
    "\n",
    "Extras:\n",
    "\n",
    "1. If the number is a multiple of 4, print out a different message.\n",
    "2. Ask the user for two numbers: one number to check (call it num) and one number to divide by (check). If check divides evenly into num, tell that to the user. If not, print a different appropriate message."
   ]
  },
  {
   "cell_type": "code",
   "execution_count": 1,
   "metadata": {
    "collapsed": false
   },
   "outputs": [
    {
     "name": "stdout",
     "output_type": "stream",
     "text": [
      "Please enter a number: 43\n",
      "The given number is Odd\n"
     ]
    }
   ],
   "source": [
    "number = input('Please enter a number: ')\n",
    "\n",
    "remainder = int(number)%2\n",
    "\n",
    "if remainder == 1:\n",
    "    print('The given number is Odd')\n",
    "else:\n",
    "    print('The given number is Even')\n",
    "\n",
    "remainder4 = int(number)%4\n",
    "\n",
    "### If the number is a multiple of 4, print out a different message\n",
    "if remainder4 == 0:\n",
    "    print('The given number is also a multiple of 4')"
   ]
  },
  {
   "cell_type": "markdown",
   "metadata": {},
   "source": [
    "# Exercise 3 (and Solution)\n",
    "\n",
    "Take a list, say for example this one:\n",
    "\n",
    "  a = [1, 1, 2, 3, 5, 8, 13, 21, 34, 55, 89]\n",
    "and write a program that prints out all the elements of the list that are less than 5.\n",
    "\n",
    "Extras:\n",
    "\n",
    "1. Instead of printing the elements one by one, make a new list that has all the elements less than 5 from this list in it and print out this new list.\n",
    "2. Write this in one line of Python.\n",
    "3. Ask the user for a number and return a list that contains only elements from the original list a that are smaller than that number given by the user."
   ]
  },
  {
   "cell_type": "code",
   "execution_count": 5,
   "metadata": {
    "collapsed": false
   },
   "outputs": [
    {
     "name": "stdout",
     "output_type": "stream",
     "text": [
      "1\n",
      "1\n",
      "2\n",
      "3\n",
      "[1, 1, 2, 3]\n",
      "[1, 1, 2, 3]\n",
      "Please input a number: 90\n",
      "Incorrect input. The number entered is larger than any number in the list.\n"
     ]
    }
   ],
   "source": [
    "list = [1, 1, 2, 3, 5, 8, 13, 21, 34, 55, 89]\n",
    "new_list = []\n",
    "\n",
    "### print each element that is less than 5\n",
    "for i in list:\n",
    "    if i < 5:\n",
    "        print(i)\n",
    "\n",
    "### create a new list with elements less than 5 and print the list\n",
    "for i in list:\n",
    "    if i < 5:\n",
    "        new_list.append(i)\n",
    "print(new_list)\n",
    "\n",
    "### write this in one line of Python\n",
    "print([x for x in list if x < 5])\n",
    "\n",
    "# Ask the user for a number and return a list that contains only elements \n",
    "# from the original list a that are smaller than that number given by user\n",
    "user_input = input('Please input a number: ')\n",
    "\n",
    "if int(user_input) > max(list):\n",
    "    print('Incorrect input. The number entered is ' \n",
    "          'larger than any number in the list.')\n",
    "else:\n",
    "    print([x for x in list if x < int(user_input)])\n",
    "    "
   ]
  },
  {
   "cell_type": "markdown",
   "metadata": {},
   "source": [
    "# Exercise 4 (and Solution)\n",
    "\n",
    "Create a program that asks the user for a number and then prints out a list of all the divisors of that number. (If you don’t know what a divisor is, it is a number that divides evenly into another number. For example, 13 is a divisor of 26 because 26 / 13 has no remainder.)"
   ]
  },
  {
   "cell_type": "code",
   "execution_count": 10,
   "metadata": {
    "collapsed": false
   },
   "outputs": [
    {
     "name": "stdout",
     "output_type": "stream",
     "text": [
      "Please enter a number: 10\n",
      "5 is a divisor of 10\n",
      "2 is a divisor of 10\n",
      "[5, 2]\n"
     ]
    }
   ],
   "source": [
    "number = input('Please enter a number: ')\n",
    "\n",
    "# convert number from str to int\n",
    "number = int(number)\n",
    "\n",
    "# printing one divisor at a time\n",
    "i = 1\n",
    "while (number - i) > 1:\n",
    "    divisor = number - i\n",
    "    if (number%divisor == 0):\n",
    "        print(divisor, 'is a divisor of', number)\n",
    "    i = i+1\n",
    "    \n",
    "# printing a list of divisors\n",
    "divisor_list = []\n",
    "for i in range(1,number-1):\n",
    "    divisor = number-i\n",
    "    if (number%divisor == 0):\n",
    "        divisor_list.append(divisor)\n",
    "\n",
    "print(divisor_list)"
   ]
  },
  {
   "cell_type": "markdown",
   "metadata": {},
   "source": [
    "# Exercise 5 \n",
    "\n",
    "Take two lists, say for example these two:\n",
    "\n",
    "  a = [1, 1, 2, 3, 5, 8, 13, 21, 34, 55, 89]\n",
    "  b = [1, 2, 3, 4, 5, 6, 7, 8, 9, 10, 11, 12, 13]\n",
    "and write a program that returns a list that contains only the elements that are common between the lists (without duplicates). Make sure your program works on two lists of different sizes.\n",
    "\n",
    "Extras:\n",
    "\n",
    "1. Randomly generate two lists to test this\n",
    "2. Write this in one line of Python (don’t worry if you can’t figure this out at this point - we’ll get to it soon)"
   ]
  },
  {
   "cell_type": "code",
   "execution_count": 168,
   "metadata": {
    "collapsed": false
   },
   "outputs": [
    {
     "name": "stdout",
     "output_type": "stream",
     "text": [
      "The common elements between: \n",
      " [1, 1, 2, 3, 5, 8, 13, 21, 34, 55, 89] \n",
      "and\n",
      " [1, 2, 3, 4, 5, 6, 7, 8, 9, 10, 11, 12, 13] \n",
      "are: \n",
      " [1, 2, 3, 5, 8, 13]\n",
      "List1:  [18, 22, 44, 40, 77, 11, 28, 78, 27, 1]\n",
      "List2:  [6, 24, 37, 31, 75, 45, 68, 60, 15, 77]\n",
      "Common List:  [77]\n"
     ]
    }
   ],
   "source": [
    "list1 =  [1, 1, 2, 3, 5, 8, 13, 21, 34, 55, 89]\n",
    "list2 =  [1, 2, 3, 4, 5, 6, 7, 8, 9, 10, 11, 12, 13]\n",
    "\n",
    "# create new list which has only common elements\n",
    "common_list = []\n",
    "for x in list1:\n",
    "    if x in list2 and x not in common_list:\n",
    "        common_list.append(x)\n",
    "        \n",
    "# remove duplicates from common_list\n",
    "#for i in range(len(common_list)-1):\n",
    "#    if common_list[i] in common_list[i+1:]:\n",
    "#        del common_list[i]\n",
    "\n",
    "# output the common list without duplicates\n",
    "print('The common elements between:','\\n',list1,'\\nand\\n',list2,'\\nare: \\n',common_list)\n",
    "\n",
    "### Randomly generate two lists to test this\n",
    "import random\n",
    "random_list1 = [int(100*random.random()) for i in range(10)]\n",
    "random_list2 = [int(100*random.random()) for i in range(10)]\n",
    "list1 = random_list1    #comment this line if you want to use the initial list - list1\n",
    "list2 = random_list2    #comment this line if you want to use the initial list - list2\n",
    "\n",
    "### Write this in one line of Python\n",
    "common_list = [x for x in list1 if x in list2]\n",
    "# remove duplicates from common_list\n",
    "for i in range(len(common_list)-1):\n",
    "    if common_list[i] in common_list[i+1:]:\n",
    "        del common_list[i]\n",
    "# print the list\n",
    "print('List1: ', list1)\n",
    "print('List2: ', list2)\n",
    "print('Common List: ', common_list)"
   ]
  },
  {
   "cell_type": "markdown",
   "metadata": {},
   "source": [
    "# Exercise 6\n",
    "\n",
    "Ask the user for a string and print out whether this string is a palindrome or not. (A palindrome is a string that reads the same forwards and backwards.)"
   ]
  },
  {
   "cell_type": "code",
   "execution_count": 7,
   "metadata": {
    "collapsed": false
   },
   "outputs": [
    {
     "name": "stdout",
     "output_type": "stream",
     "text": [
      "Please enter a string: racecar\n",
      "The entered string \"racecar\" is a palindrome\n"
     ]
    }
   ],
   "source": [
    "def is_palindrome(s):\n",
    "    \"\"\"(str) --> bool\n",
    "    \n",
    "    Returns True if and only if the string s is a palindrome (a string \n",
    "    that reads the same forwards and backwards). \n",
    "    \n",
    "    >>>is_palindrome('racecar')\n",
    "    True\n",
    "    >>>is_palindrome('letter')\n",
    "    False\n",
    "    >>>is_palindrome('deed')\n",
    "    True\n",
    "    \"\"\"\n",
    "    \n",
    "    length = len(s)\n",
    "    for i in range(length//2):\n",
    "        if s[i] != s[length-1-i]:\n",
    "            return False\n",
    "    \n",
    "    return True\n",
    "\n",
    "input_string = input('Please enter a string: ')\n",
    "if is_palindrome(input_string):\n",
    "    palindrome = 'a palindrome'\n",
    "else:\n",
    "    palindrome = 'not a palindrome'\n",
    "    \n",
    "print('The entered string \"%s\" is %s' % (input_string, palindrome))"
   ]
  },
  {
   "cell_type": "markdown",
   "metadata": {
    "collapsed": true
   },
   "source": [
    "# Exercise 7 \n",
    "\n",
    "Let’s say I give you a list saved in a variable: a = [1, 4, 9, 16, 25, 36, 49, 64, 81, 100]. Write one line of Python that takes this list a and makes a new list that has only the even elements of this list in it."
   ]
  },
  {
   "cell_type": "code",
   "execution_count": 182,
   "metadata": {
    "collapsed": false
   },
   "outputs": [
    {
     "name": "stdout",
     "output_type": "stream",
     "text": [
      "The even elements from below list: \n",
      " [1, 4, 9, 16, 25, 36, 49, 64, 81, 100, 102, 88, 77, 66]\n",
      "are: \n",
      " [4, 16, 36, 64, 100, 102, 88, 66]\n"
     ]
    }
   ],
   "source": [
    "a = [1, 4, 9, 16, 25, 36, 49, 64, 81, 100, 102, 88, 77, 66]\n",
    "\n",
    "list_even = [x for x in a if x % 2 == 0]\n",
    "\n",
    "print('The even elements from below list: \\n',a)\n",
    "\n",
    "print('are: \\n', list_even)"
   ]
  },
  {
   "cell_type": "markdown",
   "metadata": {
    "collapsed": true
   },
   "source": [
    "# Exercise 8 (and Solution)\n",
    "\n",
    "Make a two-player Rock-Paper-Scissors game. (Hint: Ask for player plays (using input), compare them, print out a message of congratulations to the winner, and ask if the players want to start a new game)\n",
    "\n",
    "Remember the rules:\n",
    "\n",
    "1. Rock beats scissors\n",
    "2. Scissors beats paper\n",
    "3. Paper beats rock"
   ]
  },
  {
   "cell_type": "code",
   "execution_count": 8,
   "metadata": {
    "collapsed": false
   },
   "outputs": [
    {
     "name": "stdout",
     "output_type": "stream",
     "text": [
      "User1 - Please enter your choice (rock, paper or scissors): scissors\n",
      "User2 - Please enter your choice (rock, paper or scissors): rock\n",
      "User2 beats User1\n"
     ]
    }
   ],
   "source": [
    "# list of valid inputs for verification\n",
    "valid_strings = ['rock', 'paper', 'scissors']\n",
    "\n",
    "# Get valid inputs from the users\n",
    "invalid_input = True\n",
    "while invalid_input:\n",
    "    user1_input = input('User1 - Please enter your choice '\n",
    "                        '(rock, paper or scissors): ')\n",
    "    user1_input = user1_input.lower()\n",
    "    invalid_input = False\n",
    "    if user1_input not in valid_strings:\n",
    "        print('Please enter a valid input.')\n",
    "        invalid_input = True\n",
    "\n",
    "invalid_input = True\n",
    "while invalid_input:\n",
    "    user2_input = input('User2 - Please enter your choice '\n",
    "                        '(rock, paper or scissors): ')\n",
    "    user2_input = user2_input.lower()\n",
    "    invalid_input = False\n",
    "    if user2_input not in valid_strings:\n",
    "        print('Please enter a valid input.')\n",
    "        invalid_input = True\n",
    "\n",
    "# winning combinations\n",
    "win = [['rock','scissors'], ['scissors','paper'], ['paper','rock']]\n",
    "\n",
    "# loosing combinations\n",
    "loose = [['rock','paper'],['scissors','rock'],['paper','scissors']]\n",
    "\n",
    "if [user1_input, user2_input] in win:\n",
    "    print('User1 beats User2')\n",
    "elif [user1_input, user2_input] in loose:\n",
    "    print('User2 beats User1')\n",
    "else:\n",
    "    print('It is a tie!!')      \n",
    "        "
   ]
  },
  {
   "cell_type": "markdown",
   "metadata": {},
   "source": [
    "# Exercise 9\n",
    "\n",
    "Generate a random number between 1 and 9 (including 1 and 9). Ask the user to guess the number, then tell them whether they guessed too low, too high, or exactly right. (Hint: remember to use the user input lessons from the very first exercise)\n",
    "\n",
    "Extras:\n",
    "\n",
    "1. Keep the game going until the user types “exit”\n",
    "2. Keep track of how many guesses the user has taken, and when the game ends, print this out."
   ]
  },
  {
   "cell_type": "code",
   "execution_count": 143,
   "metadata": {
    "collapsed": false
   },
   "outputs": [
    {
     "name": "stdout",
     "output_type": "stream",
     "text": [
      "3\n",
      "Enter \"Exit\" anytime in the input to exit.\n",
      "Please guess a number between 1 and 9: 2\n",
      "Your guess was too low\n",
      "Please guess a number between 1 and 9: 3\n",
      "You guessed right!!\n",
      "No of total attempts: 2\n"
     ]
    }
   ],
   "source": [
    "# Generate a random number between 1 and 9\n",
    "import random\n",
    "random_num = random.random() \n",
    "\n",
    "# random.random() give a float between 0.0 to 1.0. The below code converts it to a number \n",
    "# between 1 and 9\n",
    "random_num = int(random_num*10)\n",
    "if random_num < 9:\n",
    "    random_num = random_num + 1\n",
    "    \n",
    "# other way to get a random number between a range\n",
    "random_num = random.randint(1,9) # random.randint(a,b) gives a random integer n such that a<= n <= b\n",
    "\n",
    "print(random_num)\n",
    "print('Enter \"Exit\" anytime in the input to exit.')\n",
    "\n",
    "# initiate the counter\n",
    "count = 0\n",
    "\n",
    "# while loop which will run untill the guess is right or user enters exit\n",
    "while True:\n",
    "    # Ask the user to guess a number\n",
    "    guess = input('Please guess a number between 1 and 9: ')\n",
    "    \n",
    "    # check if the user entered exit\n",
    "    if guess.lower() == 'exit':\n",
    "        print('No of total attempts:', count)\n",
    "        break\n",
    "    \n",
    "    # if user didn't eneterd exit increment the counter\n",
    "    count = count + 1\n",
    "    \n",
    "    # Check if the entered input is an integer between 1 and 9. if not print message.\n",
    "    if guess not in '123456789':\n",
    "        print('Please enter a valid input (number between 1 and 9 or \"Exit\").')\n",
    "        continue\n",
    "    elif random_num == int(guess):\n",
    "        print('You guessed right!!')\n",
    "        print('No of total attempts:', count)\n",
    "        break\n",
    "    elif random_num < int(guess):\n",
    "        print('Your guess was too high')\n",
    "    else:\n",
    "        print('Your guess was too low')\n",
    "\n",
    "    "
   ]
  },
  {
   "cell_type": "markdown",
   "metadata": {},
   "source": [
    "# Exercise 10\n",
    "\n",
    "This week’s exercise is going to be revisiting an old exercise (see Exercise 5), except require the solution in a different way.\n",
    "\n",
    "Take two lists, say for example these two:\n",
    "\n",
    "\ta = [1, 1, 2, 3, 5, 8, 13, 21, 34, 55, 89]\n",
    "\tb = [1, 2, 3, 4, 5, 6, 7, 8, 9, 10, 11, 12, 13]\n",
    "and write a program that returns a list that contains only the elements that are common between the lists (without duplicates). Make sure your program works on two lists of different sizes. Write this in one line of Python using at least one list comprehension. (Hint: Remember list comprehensions from Exercise 7).\n",
    "\n",
    "The original formulation of this exercise said to write the solution using one line of Python, but a few readers pointed out that this was impossible to do without using sets that I had not yet discussed on the blog, so you can either choose to use the original directive and read about the set command in Python 3.3, or try to implement this on your own and use at least one list comprehension in the solution.\n",
    "\n",
    "Extra:\n",
    "\n",
    "Randomly generate two lists to test this "
   ]
  },
  {
   "cell_type": "code",
   "execution_count": 27,
   "metadata": {
    "collapsed": false
   },
   "outputs": [
    {
     "name": "stdout",
     "output_type": "stream",
     "text": [
      "Common list using list comprehension: [38]\n",
      "Common List using sets: [38]\n",
      "Common List using sets: [38]\n"
     ]
    }
   ],
   "source": [
    "# Detailed info on sets: https://www.programiz.com/python-programming/set\n",
    "\n",
    "a = [1, 1, 2, 3, 5, 8, 13, 21, 34, 55, 89]\n",
    "b = [1, 2, 3, 4, 5, 6, 7, 8, 9, 10, 11, 12, 13]\n",
    "\n",
    "### Randomly generate two lists to test this\n",
    "import random\n",
    "random_list1 = [int(100*random.random()) for i in range(10)]\n",
    "random_list2 = [int(100*random.random()) for i in range(10)]\n",
    "a = random_list1    #comment this line if you want to use the initial list - list1\n",
    "b = random_list2    #comment this line if you want to use the initial list - list2\n",
    "\n",
    "# using list comprehension and sets\n",
    "common_list = [x for x in set(a) if x in b]\n",
    "print('Common list using list comprehension:',common_list)\n",
    "\n",
    "# using only sets - Method 1\n",
    "common_list_set = list(set(a).intersection(set(b)))\n",
    "print('Common List using sets:',common_list_set)\n",
    "\n",
    "# using only sets - Method 2\n",
    "common_list_set = list(set(a)&set(b))\n",
    "print('Common List using sets:',common_list_set)"
   ]
  },
  {
   "cell_type": "markdown",
   "metadata": {},
   "source": [
    "# Exercise 11\n",
    "\n",
    "Ask the user for a number and determine whether the number is prime or not. (For those who have forgotten, a prime number is a number that has no divisors.). You can (and should!) use your answer to Exercise 4 to help you."
   ]
  },
  {
   "cell_type": "code",
   "execution_count": 25,
   "metadata": {
    "collapsed": false
   },
   "outputs": [
    {
     "name": "stdout",
     "output_type": "stream",
     "text": [
      "Please enter a number: 43\n",
      "The given number 43 is prime.\n"
     ]
    }
   ],
   "source": [
    "#### create a function using the code in Exercise 4 to determine if \n",
    "# a number has divisors in other words if it is prime\n",
    "\n",
    "def is_prime(num):\n",
    "    \"\"\"(int) -> bool\n",
    "    \n",
    "    Returns True if and only if num has no divisor other than 1 and itself.\n",
    "    In other words it returns True if and only if num is a prime number.\n",
    "    \n",
    "    >>>is_prime(24)\n",
    "    True\n",
    "    >>>is_prime(13)\n",
    "    False\n",
    "    \"\"\"\n",
    "    for divisor in range(2,(num//2+1)):\n",
    "        if (num%divisor == 0):\n",
    "            return False\n",
    "        \n",
    "    return True\n",
    "\n",
    "# get a valid input from user\n",
    "invalid_input = True\n",
    "while invalid_input:\n",
    "    user_input = input('Please enter a number: ')\n",
    "    # check if the input is an integer\n",
    "    if user_input.isdigit():\n",
    "        invalid_input = False\n",
    "    else:\n",
    "        print(\"Invalid input.\")\n",
    "        \n",
    "# convert user_input from str to int\n",
    "user_input = int(user_input)\n",
    "\n",
    "if (is_prime(user_input)):\n",
    "    print(\"The given number %s is prime.\" % user_input)\n",
    "else:\n",
    "    print(\"The given number %s is not a prime number.\" % user_input)"
   ]
  },
  {
   "cell_type": "markdown",
   "metadata": {},
   "source": [
    "# Exercise 12\n",
    "\n",
    "Write a program that takes a list of numbers (for example, a = [5, 10, 15, 20, 25]) and makes a new list of only the first and last elements of the given list. For practice, write this code inside a function."
   ]
  },
  {
   "cell_type": "code",
   "execution_count": 3,
   "metadata": {
    "collapsed": false
   },
   "outputs": [
    {
     "name": "stdout",
     "output_type": "stream",
     "text": [
      "[1, 3]\n"
     ]
    }
   ],
   "source": [
    "# function to get the first and last element of a list\n",
    "def get_first_last(L):\n",
    "    \"\"\"(list) -> list\n",
    "    \n",
    "    Returns a list with first and last element of list L\n",
    "    \n",
    "    Pre-condition: The list L should have atleast 2 elements.\n",
    "    \n",
    "    >>>get_first_last([2,3, 5, 3 ,9])\n",
    "    [2,9]\n",
    "    >>>get_first_last([1,3])\n",
    "    [1,3]\n",
    "    \"\"\"\n",
    "    \n",
    "    return [L[0], L[-1]]\n",
    "\n",
    "print(get_first_last([1,3]))"
   ]
  },
  {
   "cell_type": "markdown",
   "metadata": {},
   "source": [
    "# Exercise 13\n",
    "\n",
    "Write a program that asks the user how many Fibonnaci numbers to generate and then generates them. Take this opportunity to think about how you can use functions. Make sure to ask the user to enter the number of numbers in the sequence to generate.(Hint: The Fibonnaci seqence is a sequence of numbers where the next number in the sequence is the sum of the previous two numbers in the sequence. The sequence looks like this: 1, 1, 2, 3, 5, 8, 13, …)"
   ]
  },
  {
   "cell_type": "code",
   "execution_count": 11,
   "metadata": {
    "collapsed": false
   },
   "outputs": [
    {
     "name": "stdout",
     "output_type": "stream",
     "text": [
      "Please enter the no. of elements to print from fibonacci series: 6\n",
      "[1, 1, 2, 3, 5, 8]\n"
     ]
    }
   ],
   "source": [
    "# write function to get a valid integer value from the user\n",
    "def get_valid_input():\n",
    "    \"\"\"() -> int\n",
    "    \n",
    "    Returns valid integer input from the user\n",
    "    \n",
    "    >>>get_valid_input()\n",
    "    integer\n",
    "    \"\"\"\n",
    "\n",
    "    # get a valid input from user\n",
    "    invalid_input = True\n",
    "    while invalid_input:\n",
    "        user_input = input('Please enter the no. of elements to print from fibonacci series: ')\n",
    "        # check if the input is an integer\n",
    "        if user_input.isdigit():\n",
    "            invalid_input = False\n",
    "        else:\n",
    "            print(\"Invalid input. Please enter a valid integer.\")\n",
    "            \n",
    "    return int(user_input)\n",
    "\n",
    "# write function to create fibonnaaci series\n",
    "def get_fibonnaci(i):\n",
    "    \"\"\"(int) -> list\n",
    "    \n",
    "    Returns a list of fibonnaci sequence with first i elements\n",
    "    \n",
    "    >>>get_fibonnaci(5)\n",
    "    [1,1,2,3,5]\n",
    "    >>>get_fibonnaci(3)\n",
    "    [1,1,2]\n",
    "    \"\"\"\n",
    "    fib = []\n",
    "    \n",
    "    for x in range(i):\n",
    "        if x < 2:\n",
    "            fib.append(1)\n",
    "        else:\n",
    "            fib.append((fib[x-2] + fib[x-1]))\n",
    "            \n",
    "    return fib\n",
    "\n",
    "# call functions get_valid_input to get the number of elements in fibonnaci series from user\n",
    "# pass on the input to function get_fibonacci to get the fibonnaci series\n",
    "print(get_fibonnaci(get_valid_input()))\n",
    "\n",
    "    "
   ]
  },
  {
   "cell_type": "code",
   "execution_count": 28,
   "metadata": {
    "collapsed": false
   },
   "outputs": [
    {
     "name": "stdout",
     "output_type": "stream",
     "text": [
      "None\n"
     ]
    }
   ],
   "source": [
    "def contains_item(L, s):\n",
    "    \"\"\" (list, object) -> bool\n",
    "\n",
    "    Return True if and only if s is an item of L.\n",
    "    \"\"\"\n",
    "\n",
    "    for item in L:\n",
    "        if item == s:\n",
    "            return True\n",
    "        else:\n",
    "            return False\n",
    "        \n",
    "print(contains_item([], 1))"
   ]
  },
  {
   "cell_type": "markdown",
   "metadata": {},
   "source": [
    "# Exercise 14 (and Solution)\n",
    "\n",
    "Write a program (function!) that takes a list and returns a new list that contains all the elements of the first list minus all the duplicates.\n",
    "\n",
    "Extras:\n",
    "\n",
    "1. Write two different functions to do this - one using a loop and constructing a list, and another using sets.\n",
    "2. Go back and do Exercise 5 using sets, and write the solution for that in a different function."
   ]
  },
  {
   "cell_type": "code",
   "execution_count": 2,
   "metadata": {
    "collapsed": false
   },
   "outputs": [
    {
     "name": "stdout",
     "output_type": "stream",
     "text": [
      "[1, 3, 4, 5]\n",
      "{1, 3, 4, 5}\n"
     ]
    }
   ],
   "source": [
    "# function that returns list with duplicates removed using loop\n",
    "def rem_dup(L):\n",
    "    \"\"\"(list) -> list\n",
    "    \n",
    "    Returns a list with all elements of list L but no duplicates. This function uses loops\n",
    "    \n",
    "    >>>rem_dup([1,1,3,4,5,5])\n",
    "    [1,3,4,5]\n",
    "    >>>rem_dup([1,2,3,4,5,6,6,6,6])\n",
    "    [1,2,3,4,5,6]\n",
    "    \"\"\"\n",
    "    list = []\n",
    "    for x in L:\n",
    "        if x not in list:\n",
    "            list.append(x)\n",
    "    return list\n",
    "\n",
    "# function that returns list with duplicates removed using sets\n",
    "def remove_dup(L):\n",
    "    \"\"\"(list) -> list\n",
    "    \n",
    "    Returns a list with all elements of list L but no duplicates. This function uses sets\n",
    "    \n",
    "    >>>remove_dup([1,1,3,4,5,5])\n",
    "    [1,3,4,5]\n",
    "    >>>remove_dup([1,2,3,4,5,6,6,6,6])\n",
    "    [1,2,3,4,5,6]\n",
    "    \"\"\"\n",
    "    return set(L)\n",
    "\n",
    "print(rem_dup([1,1,3,4,5,5]))\n",
    "print(remove_dup([1,1,3,4,5,5]))"
   ]
  },
  {
   "cell_type": "markdown",
   "metadata": {},
   "source": [
    "# Exercise 15 \n",
    "\n",
    "Write a program (using functions!) that asks the user for a long string containing multiple words. Print back to the user the same string, except with the words in backwards order. For example, say I type the string:\n",
    "\n",
    "  My name is Michele\n",
    "Then I would see the string:\n",
    "\n",
    "  Michele is name My\n",
    "shown back to me."
   ]
  },
  {
   "cell_type": "code",
   "execution_count": 4,
   "metadata": {
    "collapsed": false
   },
   "outputs": [
    {
     "name": "stdout",
     "output_type": "stream",
     "text": [
      "Please enter the long string you want to reverse: my name is lalit gupta\n",
      "The reversed string is: gupta lalit is name my\n"
     ]
    }
   ],
   "source": [
    "# function to return reverse of a long string by words\n",
    "def rev_string(s):\n",
    "    \"\"\"(str) -> str\n",
    "    \n",
    "    Returns a reversed string by word for given string s\n",
    "    \n",
    "    >>>rev_string('my name is lalit')\n",
    "    'lalit is name my'\n",
    "    >>>rev_string('test')\n",
    "    'test'\n",
    "    \"\"\"\n",
    "    split = s.split(\" \")\n",
    "    split.reverse()\n",
    "    return \" \".join(split)\n",
    "    \n",
    "# get the long string from user to be reversed\n",
    "usr_input = input('Please enter the long string you want to reverse: ')\n",
    "\n",
    "# print the output\n",
    "print(\"The reversed string is:\", rev_string(usr_input))\n"
   ]
  },
  {
   "cell_type": "markdown",
   "metadata": {},
   "source": [
    "# Exercise 16\n",
    "\n",
    "## Password Generator\n",
    "\n",
    "Write a password generator in Python. Be creative with how you generate passwords - strong passwords have a mix of lowercase letters, uppercase letters, numbers, and symbols. The passwords should be random, generating a new password every time the user asks for a new password. Include your run-time code in a main method.\n",
    "\n",
    "Extra:\n",
    "\n",
    "Ask the user how strong they want their password to be. For weak passwords, pick a word or two from a list. "
   ]
  },
  {
   "cell_type": "code",
   "execution_count": 1,
   "metadata": {
    "collapsed": false
   },
   "outputs": [
    {
     "name": "stdout",
     "output_type": "stream",
     "text": [
      "How strong password do you need? very strong\n",
      "The new password is: XHb5I5!#ohSjO\n"
     ]
    }
   ],
   "source": [
    "# function to generate new password\n",
    "def get_password(pwd_strength, valid_inputs):\n",
    "    \"\"\"(str, list of str) -> str\n",
    "    \n",
    "    Returns a different password everytime of length between 8 and 13 characters \n",
    "    each of which are a combination of lowercase letters, uppercase letters, \n",
    "    numbers and symbols depending on the pwd_strength. Where pwd_strength is \n",
    "    an element of valid_inputs.\n",
    "    \n",
    "    Pre-condition: pwd_strength is an element of valid_inputs\n",
    "    \n",
    "    >>>get_password('weak', ['weak', 'medium', 'strong', 'very strong'])\n",
    "    string of length 8 to 13 with only lower case letters.\n",
    "    >>>get_password('very strong', ['weak', 'medium', 'strong', 'very strong'])\n",
    "    string of length 8 to 13 with lower case, upper case, numbers and symbols\n",
    "    \"\"\"\n",
    "\n",
    "    # import library random\n",
    "    import random\n",
    "\n",
    "    # get the index of the option selected by user. we will use is later in the code to select\n",
    "    # the types that will be used for each one of them\n",
    "    strength = valid_inputs.index(pwd_strength) + 1\n",
    "\n",
    "    # randomly get the length of the password (a number between 8 and 13, both inclusive)\n",
    "    length = random.randint(8,13) # random.randint(a,b) gives a random integer n such that a<= n <= b\n",
    "\n",
    "    # initialize password\n",
    "    password = ''\n",
    "\n",
    "    # initialize letters\n",
    "    letters = 'abcdefghijklmnopqrstuvwxyz'\n",
    "\n",
    "    # initialize symbols (18 symbols)\n",
    "    symbols = '!@#$%^&*(){}|,./\\~'\n",
    "\n",
    "    while length > 0:\n",
    "        # get the next type of element for password\n",
    "        # 1 - lowecase letter\n",
    "        # 2 - uppercase letter\n",
    "        # 3 - number\n",
    "        # 4 - symbol\n",
    "        typ = random.randint(1,strength)\n",
    "        if typ == 1:\n",
    "            password = password + letters[random.randint(0,25)]\n",
    "        elif typ == 2:\n",
    "            password = password + letters[random.randint(0,25)].upper()\n",
    "        elif typ == 3:\n",
    "            password = password + str(random.randint(0,9))\n",
    "        else:\n",
    "            password = password + symbols[random.randint(0,17)]\n",
    "        length = length - 1\n",
    "\n",
    "    return password\n",
    "\n",
    "# ask user if they want a weak, medium, strong or very strong password\n",
    "# invalid_input = True\n",
    "# while invalid_input:\n",
    "#     usr_input = input(\"How strong password do you need? \")\n",
    "#     if usr_input.lower() in ['weak', 'medium', 'strong', 'very strong']:\n",
    "#         invalid_input = False\n",
    "#     else:\n",
    "#         print(\"Please provide a valid input: weak, medium, strong or very strong\")\n",
    "        \n",
    "\n",
    "        \n",
    "# run the code in a try and except code to capture any unexpected errors\n",
    "def main():\n",
    "    valid_inputs = ['weak', 'medium', 'strong', 'very strong']\n",
    "    while True:\n",
    "        try:\n",
    "            usr_input = input(\"How strong password do you need? \").lower()\n",
    "            if usr_input in valid_inputs:\n",
    "                print(\"The new password is: %s\" % get_password(usr_input, valid_inputs))\n",
    "                break;\n",
    "            else:\n",
    "                print(\"Please provide a valid input: %s\" % valid_inputs) \n",
    "        except:\n",
    "            print(\"Something went wrong...\")    \n",
    "    \n",
    "    \n",
    "if __name__ == '__main__' :\n",
    "    main()\n"
   ]
  },
  {
   "cell_type": "markdown",
   "metadata": {},
   "source": [
    "# Exercise 17 (and Solution)\n",
    "\n",
    "## Decode A Web Page    \n",
    "This is the first 4-chili exercise of this blog! We’ll see what people think, and decide whether or not to continue with 4-chili exercises in the future.\n",
    "\n",
    "\n",
    "\n",
    "Use the BeautifulSoup and requests Python packages to print out a list of all the article titles on the New York Times homepage.\n",
    "\n",
    "#### Discussion\n",
    "\n",
    "Concepts for this week:\n",
    "\n",
    "1. Libraries\n",
    "2. requests\n",
    "3. BeautifulSoup\n",
    "4. Libraries\n",
    "\n",
    "Many people have written libraries in Python that do not come with the standard distribution of Python (like the random library mentioned in a previous post). These libraries can do anything from machine learning to date and time formatting to meme generation. If you have a task you need done, most likely someone has written a library for it.\n",
    "\n",
    "There are three main things to keep in mind when using a library:\n",
    "\n",
    "You need to install it. Installation in GNU/Linux based systems will generally be easier than on Windows or OSX, but there will always be documentation for how to do it.\n",
    "You need to import it. At the top of your program, make sure you write the line import requests, or whatever the name of your library is. Then you can use it to your heart’s content.\n",
    "You need to read documentation. Someone else wrote it, so the rules might not be so obvious. Anyone (or any group) that writes a Python package writes documentation for it. Eventually, reading documentation will become second nature.\n",
    "Requests\n",
    "\n",
    "One of the most useful libraries written for Python recently, requests does “HTTP for humans.” What this means in laymen’s terms is that it asks the internet things from Python. When you type “facebook.com” into the browser, you are asking the internet to show you Facebook’s homepage.\n",
    "\n",
    "In the same way, a program can ask the internet something. It might not be “show me Facebook”, but you can for example ask Github for a list of all the repositories that the user “mprat” has. You can do this with an API (Application Programming Interface). This exercise doesn’t use APIs, so we’ll talk more about those in a later post.\n",
    "\n",
    "Back to showing the user a webpage. When I type “facebook.com” into the browser, Facebook sends my browser a bunch of HTML (basically, code for how the website looks). The browser then takes this HTML and shows it to me in a pretty way. (Fun fact: to see the HTML of any page in a browser, right click on the page and “Inspect Element” or “View Source” depending on your browser. In Chrome, “Inspect Element” will pop up a module at the bottom of your page where you can see the HTML from the page. This trick will come in handy when you’re doing the exercise. If you need to DO anything with this HTML, better to use a program. More posts about this coming later.) If I want to “see” a webpage with a program, all I need to do is ask it for it’s HTML and read it.\n",
    "\n",
    "The ‘requests’ library does half of that job: it asks (requests, if you will) a server for information. This could be just data (through an API - more later) or in the case of this exercise, HTML.\n",
    "\n",
    "Look at the documentation for all the details you need. In this particular latest version, all you need to do to ask a website for it’s HTML is:\n",
    "\n",
    "  import requests\n",
    "  url = 'http://github.com'\n",
    "  r = requests.get(url)\n",
    "  r_html = r.text\n",
    "Now inside the variable r_html, you have the HTML of the page as a string. Reading (otherwise called parsing) happens with a different Python package.\n",
    "\n",
    "#### BeautifulSoup\n",
    "\n",
    "To solve our problem of parsing (reading, understanding, interpreting) the string of HTML we got from requests, we use the BeautifulSoup library.\n",
    "\n",
    "What it does is give a hierarchical (a pyramid structure) to the HTML in the document. If you don’t know anything about HTML, the Wikipedia article is a good summary. For the purposes of this exercise, you don’t need to know anything about HTML beyond being able to look at it quickly.\n",
    "\n",
    "Because BeautifulSoup takes care of interpreting our HTML for us, we can ask it things like: “give me all the lines with <p> tags” or “find me the parent element to the <title> element”, etc.\n",
    "\n",
    "Your code would look something like this:\n",
    "\n",
    "  from bs4 import BeautifulSoup\n",
    "\n",
    "  # some requests code here for getting r_html \n",
    "\n",
    "  soup = BeautifulSoup(r_html)\n",
    "  title = soup.find('span', 'articletitle').string\n",
    "And you can do many more things in BeautifulSoup, but I will leave you to explore those by yourself or through other later exercises.\n",
    "\n",
    "Happy coding!"
   ]
  },
  {
   "cell_type": "code",
   "execution_count": 14,
   "metadata": {
    "collapsed": false
   },
   "outputs": [
    {
     "name": "stdout",
     "output_type": "stream",
     "text": [
      "Collecting beautifulsoup4\n",
      "  Downloading beautifulsoup4-4.6.0-py3-none-any.whl (86kB)\n",
      "\u001b[K    100% |████████████████████████████████| 92kB 2.1MB/s \n",
      "\u001b[?25hInstalling collected packages: beautifulsoup4\n",
      "Successfully installed beautifulsoup4-4.6.0\n"
     ]
    }
   ],
   "source": [
    "## Installing beautifulsoup4 package\n",
    "#! pip install beautifulsoup4"
   ]
  },
  {
   "cell_type": "code",
   "execution_count": null,
   "metadata": {
    "collapsed": true
   },
   "outputs": [],
   "source": [
    "# import requests library\n",
    "import requests\n",
    "\n",
    "# import beautifulsoup library\n",
    "from bs4 import BeautifulSoup"
   ]
  },
  {
   "cell_type": "code",
   "execution_count": 16,
   "metadata": {
    "collapsed": true
   },
   "outputs": [],
   "source": [
    "# set the website url to variable url\n",
    "url = 'https://www.nytimes.com/'"
   ]
  },
  {
   "cell_type": "code",
   "execution_count": 76,
   "metadata": {
    "collapsed": false
   },
   "outputs": [
    {
     "name": "stdout",
     "output_type": "stream",
     "text": [
      "The headings for today in New York Times are:\n",
      "1. Driver Is Charged as Investigators Look Into Terrorist Ties\n",
      "2. Trump Says He’ll Consider Sending Suspect to ‘Gitmo’\n",
      "3. Argentines on High School Reunion Bore Brunt of Attack\n",
      "4. New York Attack Turns Focus to Central Asian Militancy\n",
      "5. What We Know and Don’t Know About the Attack\n",
      "6. Trail of Terror in the Manhattan Truck Attack\n",
      "7. Truck Driver, Uber Driver, Then Terror Attack Suspect\n",
      "8. Police Officer Ended New York Rampage With 9 Bullets\n",
      "9. Manhattan Attack Is Called Terrorism. What About Vegas?\n",
      "10. Ongoing Trump Migraine: His Initial Foreign Policy Team\n",
      "11. Trump Calls Times to Deny Any Anger at Mueller Inquiry\n",
      "12. Andrew Weissmann, Legal Pit Bull, Is Unleashed in Inquiry\n",
      "13. Math Problem Bedevils Republican Tax Rewrite\n",
      "14. Delaying Release of Tax Bill Signals Trouble for G.O.P.\n",
      "15. Six Charts That Help Explain the Republican Tax Plan\n",
      "16. Senators Press Tech Executives but Split on Russia’s Influence\n",
      "17. The Social Media Senate Hearing: Latest Updates\n",
      "18. The Upside of Being Ruled by the Five Tech Giants\n",
      "19. \n",
      "                                    Big Music in Small Rooms: Throat Singing                            \n",
      "20. 10 Things to Know About Getting Into Your Dream College\n",
      "21. Revised Data Shows Community Colleges Have Been Overlooked\n",
      "22. Your Thursday Briefing\n",
      "23. California Today: A Story of Loss and Community in a Little Almond Tree\n",
      "24. \r\n",
      "      Listen to ‘The Daily’\r\n",
      "    \n",
      "25. When a Student Says, ‘I’m Not a Boy or a Girl’\n",
      "26. The Secret to Good Toast? It’s Your Freezer\n",
      "27. Can Democrats Fix a Party That Leaders Say Isn’t Broken?\n",
      "28. Fighting Climate Change and Drilling for Oil, Too\n",
      "29. Greta Gerwig’s Radical Confidence\n",
      "30. A Lesson From the Biggest Losers: Exercise Is Key\n",
      "31. The Storefront Artist Has Nothing to Hide but His Face\n",
      "32. Fed Leaves Interest Rate Unchanged as Leadership Switch Looms\n",
      "33. NPR News Editor Quits Amid Sexual Harassment Accusations\n",
      "34. New York Times Co. Reports Solid Digital Growth as Print Slides\n",
      "35. Sony’s Fortunes Improve, From Rising Profit to a Return for Aibo\n",
      "36. Many Academic Scientists Barred From Advising E.P.A.\n",
      "37. Morning Briefing: Australia Edition\n",
      "38. Morning Briefing: Asia Edition\n",
      "39. Morning Briefing: Europe Edition\n",
      "40. California Today\n",
      "41. Morning Briefing\n",
      "42. Australia to Ban Climbing on Uluru, a Site Sacred to Indigenous People\n",
      "43. Manus Island Refugees, Ordered to Leave Camp, Fear for Their Safety\n",
      "44. Out of Sixth Grade, and Straight to the Factory She Died In\n",
      "45. If You Missed Diwali in India, Try Dallas\n",
      "46. For Brands, Tiny Houses Are Big Marketing Tools\n",
      "47. The Roots’ Black Thought on Philadelphia Style\n",
      "48. Trump Loves ‘Fox & Friends.’ Here’s Why.\n",
      "49. A Terrorist Attack in Real America\n",
      "50. I Want ‘Allahu Akbar’ Back\n",
      "51. Editorial: After the Terror\n",
      "52. Douthat: Reformation Fallout\n",
      "53. Friedman: Trump, Niger and Connecting the Dots\n",
      "54. Let’s Waste College on the Old\n",
      "55. Panic. Then Vote.\n",
      "56. Rosenthal: Seven Bizarre Notions Trump and His Team Have About America\n",
      "57. Mueller Won’t Get to the Bottom of Russia’s Actions\n",
      "58. America Is Not a ‘Center-Right Nation’\n",
      "59. Australia’s Climate Change Lesson for the World\n",
      "60. From Hurricanes to Protest Movements, Food Is a Way In\n",
      "61. How to Report When the Science Is Sketchy\n",
      "62. From Hurricanes to Protest Movements, Food Is a Way In\n",
      "63. Play Today’s Puzzle \n",
      "64. Play Today’s Puzzle \n",
      "65. Sticking to the J Train, but Rerouting Dark Thoughts\n",
      "66. A Seed Artist Germinates History\n",
      "67. Catalonia Will Not Retreat\n",
      "68. Trying the Feldenkrais Method for Pain\n",
      "69. Here’s What You Need to Know About the iPhone X\n",
      "70. Glasses Are Cool. Why Aren’t Hearing Aids?\n",
      "71. Trick-or-Treating With My Disabled Son\n",
      "72. At 100, Thelonious Monk Gets a Hero’s Celebration\n",
      "73. The Crucial Role of World Series Losers\n",
      "74. Dreaming Without a Magic Wand\n",
      "75. Review: ‘The B-Side’ Is a Masterclass in Listening\n",
      "76. Let’s Waste College on the Old\n",
      "77. Interactive Feature: The Lost Children of Tuam\n",
      "78. \n",
      "            New York Attack Turns Focus to Central Asian Militancy        \n",
      "79. \n",
      "            News Analysis: China Blinks on South Korea, Making Nice After a Year of Hostilities        \n",
      "80. \n",
      "            State of the Art: The Upside of Being Ruled by the Five Tech Giants        \n",
      "81. \n",
      "            What’s the Economic Cost of Brexit? Pineapples Tell a Tale        \n",
      "82. \n",
      "            Bret Stephens: A Terrorist Attack in Real America        \n",
      "83. \n",
      "            Lindy West: Panic. Then Vote.        \n",
      "84. \n",
      "            Hartford Student Charged After Boasting About Contaminating Roommate’s Belongings        \n",
      "85. \n",
      "            How to Be a Smart Obamacare Shopper        \n",
      "86. \n",
      "            Tech Executives Are Contrite About Election Meddling, but Make Few Promises on Capitol Hill        \n",
      "87. \n",
      "            State of the Art: The Upside of Being Ruled by the Five Tech Giants        \n",
      "88. \n",
      "            Critic’s Notebook: Bob Dylan’s Songs for the Soul, Revisited and Redeemed        \n",
      "89. \n",
      "            Hidden Treasures of Nazis’ Art Dealer Finally Go on Display        \n",
      "90. \n",
      "            Senators Press Tech Executives but Split on Russia’s Role in Trump’s Win        \n",
      "91. \n",
      "            Math Problem Bedevils Republican Tax Rewrite        \n",
      "92. \n",
      "            The Last of Joan Rivers        \n",
      "93. \n",
      "            Russian Authorities Investigate 14-Year-Old Model’s Death        \n",
      "94. \n",
      "            Luke Skywalker Speaks        \n",
      "95. \n",
      "            Kahlil Joseph’s New Film Is Steeped in Harlem’s History. And His Own.        \n",
      "96. \n",
      "            What We Know and Don’t Know About the Manhattan Terror Attack        \n",
      "97. \n",
      "            Terror Attack Kills 8 and Injures 11 in Manhattan        \n",
      "98. \n",
      "            On Soccer: In Praise of Soccer’s Jack-of-All-Trades, Now Making a Comeback        \n",
      "99. \n",
      "            A Dodger Steps Back as Fans Deliver Their Own World Series Justice        \n",
      "100. \n",
      "            5 Shows to See if You’re in New York in November        \n",
      "101. \n",
      "            ‘Moulin Rouge! The Musical’ to Open in Boston With Broadway Hopes        \n",
      "102. \n",
      "            Trilobites: When This Sea Slug Eats, It Prefers the Turducken of the Sea        \n",
      "103. \n",
      "            Trilobites: Teaching Bats to Say ‘Move Out of My Way’ in Many Dialects        \n",
      "104. \n",
      "            June Robles Birt, Whose Abduction at 6 Gripped the Nation, Is Dead at 87        \n",
      "105. \n",
      "            Peter Schutz, Executive Who Saved a Signature Porsche, Dies at 87        \n",
      "106. \n",
      "            The First Time: Maria Bamford: The First Time Someone Loved Me for Who I Really Am        \n",
      "107. \n",
      "            A Word With: ‘Stranger Things 2’: Pixar’s Andrew Stanton on Directing 2 Episodes        \n",
      "108. \n",
      "            How to Be a Smart Obamacare Shopper        \n",
      "109. \n",
      "            A Lesson From the Biggest Losers: Exercise Keeps Off the Weight        \n",
      "110. \n",
      "            Q&A: Frank Stella’s Favorite Cities for Art        \n",
      "111. \n",
      "            Chasing the Deal: Traveling to Portugal? Consider the Off-Season        \n",
      "112. \n",
      "            Profile: Hilde Lysiak, Reporter, Author, 10-Year-Old        \n",
      "113. \n",
      "            Books of The Times: Vivian Maier, Through a Clearer Lens        \n",
      "114. \n",
      "            10 Things to Know About Getting Into Your Dream College        \n",
      "115. \n",
      "            Where the STEM Jobs Are (and Where They Aren’t)        \n",
      "116. \n",
      "            If You Missed Diwali in India, Dallas Is the Place to Be        \n",
      "117. \n",
      "            José Andrés Fed Puerto Rico, and May Change How Aid Is Given        \n",
      "118. \n",
      "            The Food Issue: The Evening-in-Paris Dinner        \n",
      "119. \n",
      "            Feature: Greta Gerwig’s Radical Confidence        \n",
      "120. \n",
      "            International Real Estate: House Hunting in ... Ottawa        \n",
      "121. \n",
      "            What You Get: $450,000 Homes in Massachusetts, Oklahoma and Wisconsin        \n",
      "122. \n",
      "            How to Be a Smart Obamacare Shopper        \n",
      "123. \n",
      "            Revised Data Shows Community Colleges Have Been Underappreciated        \n",
      "124. \n",
      "            What We’re Reading        \n",
      "125. \n",
      "            How to Report When the Science Is Sketchy        \n",
      "126. \n",
      "            Subaru Admits Inspection Failings, in Another Blow to Japan’s Carmakers        \n",
      "127. \n",
      "            Cost of Volkswagen Scandal Could Hurt Company’s Electric Vehicle Push        \n",
      "128. \n",
      "            The Illustrated Interview: William Wegman        \n",
      "129. \n",
      "            The Feminist Pioneers Making Provocative Art About Sex        \n",
      "130. A Modernist Box Among the Victorians\n",
      "131. Search for Homes for Sale or Rent\n",
      "132. Mortgage Calculator\n"
     ]
    }
   ],
   "source": [
    "### Approach # 1\n",
    "\n",
    "#put the code in exception handling block\n",
    "try:\n",
    "    r = requests.get(url)\n",
    "    r_html = r.text\n",
    "    soup = BeautifulSoup(r_html, \"lxml\")\n",
    "    # get all the h2 tags where class is \"story-heading\"\n",
    "    title = soup.find_all(\"h2\", class_=\"story-heading\")\n",
    "    \n",
    "    # for each h2 tag get the string for the h2 tag; if the h2 tag string returns None get the a tag string.\n",
    "    # store the headings in list 'headings'. Initialize headings.\n",
    "    headings = []\n",
    "    for header in title:\n",
    "        temp = BeautifulSoup(str(header), \"lxml\")\n",
    "        heading = temp.h2.string\n",
    "        if heading is None:\n",
    "            heading = temp.a.string\n",
    "        headings.append(heading)\n",
    "except:\n",
    "    print(\"Something went wrong...\")\n",
    "    \n",
    "# print the headings one by one.        \n",
    "print(\"The headings for today in New York Times are:\")\n",
    "for i in range(len(headings)):\n",
    "    print(\"%s. %s\" % (i+1, headings[i]))"
   ]
  },
  {
   "cell_type": "code",
   "execution_count": 102,
   "metadata": {
    "collapsed": false
   },
   "outputs": [
    {
     "name": "stdout",
     "output_type": "stream",
     "text": [
      "The headings for today in New York Times are:\n",
      "1. Driver Is Charged; Terror Ties Investigated\n",
      "2. Officials Locate a Second Man Sought for Questioning\n",
      "3. Trump Says He’ll Consider Sending Suspect to ‘Gitmo’\n",
      "4. Argentines on High School Reunion Bore Brunt of Attack\n",
      "5. New York Attack Turns Focus to Central Asian Militancy\n",
      "6. What We Know and Don’t Know About the Attack\n",
      "7. Trail of Terror in the Manhattan Truck Attack\n",
      "8. Truck Driver, Uber Driver, Then Terror Attack Suspect\n",
      "9. Police Officer Ended New York Rampage With 9 Bullets\n",
      "10. Manhattan Attack Is Called Terrorism. What About Vegas?\n",
      "11. Readers Debate What Is, or Isn’t, Terrorism\n",
      "12. Ongoing Trump Migraine: His Initial Foreign Policy Team\n",
      "13. Trump Calls Times to Deny Any Anger at Mueller Inquiry\n",
      "14. Andrew Weissmann, Legal Pit Bull, Is Unleashed in Inquiry\n",
      "15. Math Problem Bedevils Republican Tax Rewrite\n",
      "16. Delaying Release of Tax Bill Signals Trouble for G.O.P.\n",
      "17. Six Charts That Help Explain the Republican Tax Plan\n",
      "18. Senators Press Tech Executives but Split on Russia’s Influence\n",
      "19. The Social Media Senate Hearing: Latest Updates\n",
      "20. The Upside of Being Ruled by the Five Tech Giants\n",
      "21. Big Music in Small Rooms: Throat Singing\n",
      "22. The Last of Joan Rivers\n",
      "23. Your Evening Briefing\n",
      "24. Your Thursday Briefing\n",
      "25. California Today: A Story of Loss and Community in a Little Almond Tree\n",
      "26. Listen to ‘The Daily’\n",
      "27. When a Student Says, ‘I’m Not a Boy or a Girl’\n",
      "28. The Secret to Good Toast? It’s Your Freezer\n",
      "29. Can Democrats Fix a Party That Leaders Say Isn’t Broken?\n",
      "30. Fighting Climate Change and Drilling for Oil, Too\n",
      "31. Greta Gerwig’s Radical Confidence\n",
      "32. Where the STEM Jobs Are (and Where They Aren’t)\n",
      "33. The Storefront Artist Has Nothing to Hide but His Face\n",
      "34. U.K. Defense Secretary Quits Over Inappropriate Conduct\n",
      "35. Fed Leaves Interest Rate Unchanged as Leadership Switch Looms\n",
      "36. NPR News Editor Quits Amid Sexual Harassment Accusations\n",
      "37. New York Times Co. Reports Solid Digital Growth as Print Slides\n",
      "38. Sony’s Fortunes Improve, From Rising Profit to a Return for Aibo\n",
      "39. Morning Briefing: Australia Edition\n",
      "40. Morning Briefing: Asia Edition\n",
      "41. Morning Briefing: Europe Edition\n",
      "42. California Today\n",
      "43. Morning Briefing\n",
      "44. Australia Has a Climate Change Lesson for the World\n",
      "45. Australia to Ban Climbing on Uluru, a Site Sacred to Indigenous People\n",
      "46. Manus Island Refugees, Ordered to Leave Camp, Fear for Their Safety\n",
      "47. Hidden Treasures of Nazi Art Dealer Go on Display\n",
      "48. When a Stranger Stumbles Into Your Home\n",
      "49. The Roots’ Black Thought on Philadelphia Style\n",
      "50. Trump Loves ‘Fox & Friends.’ Here’s Why.\n",
      "51. I Want ‘Allahu Akbar’ Back\n",
      "52. Douthat: Reformation Fallout\n",
      "53. Friedman: Trump, Niger and Connecting the Dots\n",
      "54. Mueller Won’t Get to the Bottom of Russia’s Actions\n",
      "55. America Is Not a ‘Center-Right Nation’\n",
      "56. Australia’s Climate Change Lesson for the World\n",
      "57. Let’s Waste College on the Old\n",
      "58. Panic. Then Vote.\n",
      "59. Rosenthal: Seven Bizarre Notions Trump and His Team Have About America\n",
      "60. Stephens: A Terrorist Attack in Real America\n",
      "61. From Hurricanes to Protest Movements, Food Is a Way In\n",
      "62. How to Report When the Science Is Sketchy\n",
      "63. From Hurricanes to Protest Movements, Food Is a Way In\n",
      "64. Play Today’s Puzzle\n",
      "65. Play Today’s Puzzle\n",
      "66. Sticking to the J Train, but Rerouting Dark Thoughts\n",
      "67. A Seed Artist Germinates History\n",
      "68. Catalonia Will Not Retreat\n",
      "69. Corals May Have a Taste for Dangerous Plastic\n",
      "70. Here’s What You Need to Know About the iPhone X\n",
      "71. Glasses Are Cool. Why Aren’t Hearing Aids?\n",
      "72. How a 672,000-Gallon Oil Spill Was Nearly Invisible\n",
      "73. At 100, Thelonious Monk Gets a Hero’s Celebration\n",
      "74. The Crucial Role of World Series Losers\n",
      "75. Dreaming Without a Magic Wand\n",
      "76. Review: ‘The B-Side’ Is a Masterclass in Listening\n",
      "77. Let’s Waste College on the Old\n",
      "78. Interactive Feature: The Lost Children of Tuam\n",
      "79. Argentines on High School Reunion Bore Brunt of New York Attack\n",
      "80. New York Attack Turns Focus to Central Asian Militancy\n",
      "81. News Analysis: China Blinks on South Korea, Making Nice After a Year of Hostilities\n",
      "82. Fed Lets Interest Rate Stand Ahead of Powell Nomination as Chairman\n",
      "83. State of the Art: The Upside of Being Ruled by the Five Tech Giants\n",
      "84. What’s the Economic Cost of Brexit? Pineapples Tell a Tale\n",
      "85. Trump Loves ‘Fox & Friends.’ Here’s Why.\n",
      "86. Bret Stephens: A Terrorist Attack in Real America\n",
      "87. Lindy West: Panic. Then Vote.\n",
      "88. Ongoing Trump Migraine: His Initial Foreign Policy Team\n",
      "89. Hartford Student Charged After Boasting About Contaminating Roommate’s Belongings\n",
      "90. How to Be a Smart Obamacare Shopper\n",
      "91. Tech Fix: The iPhone X Is Cool. That Doesn’t Mean You Are Ready for It.\n",
      "92. State of the Art: The Upside of Being Ruled by the Five Tech Giants\n",
      "93. Senators Press Tech Executives but Split on Russia’s Role in Trump’s Win\n",
      "94. The Tear-Stained Confessions of Sam Smith\n",
      "95. Review: ‘Thor: Ragnarok,’ of Gods, Monsters and Silly Jokes\n",
      "96. Critic’s Notebook: Bob Dylan’s Songs for the Soul, Revisited and Redeemed\n",
      "97. In Call With Times Reporter, Trump Projects Air of Calm Over Charges\n",
      "98. Senators Press Tech Executives but Split on Russia’s Role in Trump’s Win\n",
      "99. Math Problem Bedevils Republican Tax Rewrite\n",
      "100. Yes, Breitbart News Has a Fashion Critic\n",
      "101. The Last of Joan Rivers\n",
      "102. Russian Authorities Investigate 14-Year-Old Model’s Death\n",
      "103. Review: ‘Thor: Ragnarok,’ of Gods, Monsters and Silly Jokes\n",
      "104. Review: Greta Gerwig’s ‘Lady Bird’ Is Big-Screen Perfection\n",
      "105. Luke Skywalker Speaks\n",
      "106. Authorities Locate Second Man Sought in Connection With Manhattan Attack\n",
      "107. What We Know and Don’t Know About the Manhattan Terror Attack\n",
      "108. Terror Attack Kills 8 and Injures 11 in Manhattan\n",
      "109. Want to See Some Curling? Ticket Sales Tepid for Pyeongchang Olympics\n",
      "110. World Series 2017: Dodgers vs. Astros Game 7 Live Updates\n",
      "111. On Soccer: In Praise of Soccer’s Jack-of-All-Trades, Now Making a Comeback\n",
      "112. Broadway’s Comic Chameleon Writes a Heartfelt New Tune\n",
      "113. 5 Shows to See if You’re in New York in November\n",
      "114. ‘Moulin Rouge! The Musical’ to Open in Boston With Broadway Hopes\n",
      "115. Trilobites: Ancient Fossil Offers a New European Ancestor to Giraffes\n",
      "116. Trilobites: When This Sea Slug Eats, It Prefers the Turducken of the Sea\n",
      "117. Trilobites: Teaching Bats to Say ‘Move Out of My Way’ in Many Dialects\n",
      "118. Muhal Richard Abrams, 87, Individualistic Pianist and Composer, Is Dead\n",
      "119. June Robles Birt, Whose Abduction at 6 Gripped the Nation, Is Dead at 87\n",
      "120. Linda Nochlin, 86, Groundbreaking Feminist Art Historian, Is Dead\n",
      "121. ‘Stranger Things’ Season 2: Finished Watching? Let’s Talk\n",
      "122. The First Time: Maria Bamford: The First Time Someone Loved Me for Who I Really Am\n",
      "123. A Word With: ‘Stranger Things 2’: Pixar’s Andrew Stanton on Directing 2 Episodes\n",
      "124. As Open Enrollment for Obamacare Begins, Confusion Reigns\n",
      "125. How to Be a Smart Obamacare Shopper\n",
      "126. A Lesson From the Biggest Losers: Exercise Keeps Off the Weight\n",
      "127. Road Trip: How I Rolled on the Crescent: New York to New Orleans by Rail\n",
      "128. Q&A: Frank Stella’s Favorite Cities for Art\n",
      "129. Chasing the Deal: Traveling to Portugal? Consider the Off-Season\n",
      "130. Books of The Times: Walter Isaacson’s ‘Leonardo da Vinci’ Is the Portrait of a Real Renaissance Man\n",
      "131. Profile: Hilde Lysiak, Reporter, Author, 10-Year-Old\n",
      "132. Books of The Times: Vivian Maier, Through a Clearer Lens\n",
      "133. What to Do When an Inebriated Stranger Stumbles Into Your Home?\n",
      "134. Where the STEM Jobs Are (and Where They Aren’t)\n",
      "135. What Colleges Want in an Applicant (Everything)\n",
      "136. Restaurant Review: Momofuku Ssam Bar Keeps Evolving Under a Singaporean Chef\n",
      "137. If You Missed Diwali in India, Dallas Is the Place to Be\n",
      "138. José Andrés Fed Puerto Rico, and May Change How Aid Is Given\n",
      "139. Feature: A Post-Obama Democratic Party in Search of Itself\n",
      "140. The Food Issue: The Evening-in-Paris Dinner\n",
      "141. Feature: Greta Gerwig’s Radical Confidence\n",
      "142. Living In: Greenwich Village: Once Offbeat, Now Upscale\n",
      "143. International Real Estate: House Hunting in ... Ottawa\n",
      "144. What You Get: $450,000 Homes in Massachusetts, Oklahoma and Wisconsin\n",
      "145. The New Health Care: Just Say No to Opioids? Ads Could Actually Make Things Worse\n",
      "146. How to Be a Smart Obamacare Shopper\n",
      "147. Revised Data Shows Community Colleges Have Been Underappreciated\n",
      "148. From Hurricanes to Protest Movements, Food Is a Way In\n",
      "149. What We’re Reading\n",
      "150. How to Report When the Science Is Sketchy\n",
      "151. Wheels: Forgetting a Child in a Back Seat Can Kill. Cars May Soon Warn You.\n",
      "152. Subaru Admits Inspection Failings, in Another Blow to Japan’s Carmakers\n",
      "153. Cost of Volkswagen Scandal Could Hurt Company’s Electric Vehicle Push\n",
      "154. Wanderlust: Where to Relax (and What to Eat) in Formentera\n",
      "155. The Feminist Pioneers Making Provocative Art About Sex\n",
      "156. Paris’s Best Chocolates: A Guide\n",
      "157. Greenwich Village: Once Offbeat, Now Upscale\n",
      "158. Search for Homes for Sale or Rent\n",
      "159. Mortgage Calculator\n"
     ]
    }
   ],
   "source": [
    "### Approach # 2\n",
    "\n",
    "#put the code in exception handling block\n",
    "try:\n",
    "    r = requests.get(url)\n",
    "    r_html = r.text\n",
    "    soup = BeautifulSoup(r_html, \"lxml\")\n",
    "    \n",
    "    # initialize headings\n",
    "    headings = []\n",
    "    \n",
    "    # get all the tags where class is \"story-heading\"\n",
    "    for story_heading in soup.find_all(class_=\"story-heading\"): \n",
    "        # check if the tag has an 'a' tag in html. \n",
    "        # if present get the text, clean it and append to headings.\n",
    "        if story_heading.a: \n",
    "            headings.append(story_heading.a.text.replace(\"\\n\", \" \").strip())\n",
    "        # if 'a' tag is not present, clean and add the contents to headings\n",
    "        else: \n",
    "            headings.append(story_heading.contents[0].strip()) \n",
    "\n",
    "except:\n",
    "    print(\"Something went wrong...\")\n",
    "    \n",
    "# print the headings one by one.        \n",
    "print(\"The headings for today in New York Times are:\")\n",
    "for i in range(len(headings)):\n",
    "    print(\"%s. %s\" % (i+1, headings[i]))"
   ]
  },
  {
   "cell_type": "markdown",
   "metadata": {},
   "source": [
    "# Exercise 18 (and Solution)\n",
    "\n",
    "Create a program that will play the “cows and bulls” game with the user. The game works like this:\n",
    "\n",
    "Randomly generate a 4-digit number. Ask the user to guess a 4-digit number. For every digit that the user guessed correctly in the correct place, they have a “cow”. For every digit the user guessed correctly in the wrong place is a “bull.” Every time the user makes a guess, tell them how many “cows” and “bulls” they have. Once the user guesses the correct number, the game is over. Keep track of the number of guesses the user makes throughout teh game and tell the user at the end.\n",
    "\n",
    "Say the number generated by the computer is 1038. An example interaction could look like this:\n",
    "\n",
    "Welcome to the Cows and Bulls Game! \n",
    "Enter a number: \n",
    "#>>> 1234\n",
    "#2 cows, 0 bulls\n",
    "#>>> 1256\n",
    "#1 cow, 1 bull\n",
    "...\n",
    "Until the user guesses the number."
   ]
  },
  {
   "cell_type": "code",
   "execution_count": 10,
   "metadata": {
    "collapsed": false
   },
   "outputs": [],
   "source": [
    "# create a function to get the number of cows and bulls\n",
    "def cows_and_bulls(guess, answer):\n",
    "    \"\"\"(int, int) -> (int, int)\n",
    "    \n",
    "    Returns a tupple of two integers. The first integer is the number of digits \n",
    "    guess has in common with answer and are in the same place. The second integer \n",
    "    is the number of digits guess has in common with answer but are not in the same place.\n",
    "    \n",
    "    Pre-condition: len(str(guess)) == len(str(answer))\n",
    "    \n",
    "    >>>cows_and_bulls(3452,3092)\n",
    "    [2,0]\n",
    "    >>>cows_and_bulls(1024, 3092)\n",
    "    [1,1]\n",
    "    \"\"\"\n",
    "    #initialize cows and bulls\n",
    "    cows = 0\n",
    "    bulls = 0\n",
    "    \n",
    "    #convert guess and answer to str for easy comparison\n",
    "    guess = str(guess)\n",
    "    answer = str(answer)\n",
    "    \n",
    "    for i in range(len(answer)):\n",
    "        if answer[i] == guess[i]:\n",
    "            cows = cows+1\n",
    "        elif guess[i] in answer:\n",
    "            bulls = bulls+1\n",
    "            \n",
    "    return (cows, bulls)\n"
   ]
  },
  {
   "cell_type": "code",
   "execution_count": 19,
   "metadata": {
    "collapsed": false
   },
   "outputs": [
    {
     "name": "stdout",
     "output_type": "stream",
     "text": [
      "Welcome to the cows and bulls game!!\n",
      "For each guess you will get the cows and bulls.\n",
      "The game will continue untill the correct number is guessed.\n",
      "If you want to quit anytime, enter exit.\n",
      "Please enter a 4 digit number: 0000\n",
      "Incorrect input. Please try again.\n",
      "Please enter a 4 digit number: 1234\n",
      "Cows: 0, Bulls: 0\n",
      "Please enter a 4 digit number: 1156\n",
      "Cows: 0, Bulls: 1\n",
      "Please enter a 4 digit number: 7865\n",
      "Cows: 0, Bulls: 2\n",
      "Please enter a 4 digit number: 8790\n",
      "Cows: 0, Bulls: 2\n",
      "Please enter a 4 digit number: 5678\n",
      "Cows: 2, Bulls: 0\n",
      "Please enter a 4 digit number: 6587\n",
      "Cows: 1, Bulls: 1\n",
      "Please enter a 4 digit number: 6578\n",
      "Cows: 1, Bulls: 1\n",
      "Please enter a 4 digit number: 5111\n",
      "Cows: 1, Bulls: 0\n",
      "Please enter a 4 digit number: 1171\n",
      "Cows: 0, Bulls: 0\n",
      "Please enter a 4 digit number: 1118\n",
      "Cows: 1, Bulls: 0\n",
      "Please enter a 4 digit number: 1901\n",
      "Cows: 1, Bulls: 0\n",
      "Please enter a 4 digit number: 1911\n",
      "Cows: 1, Bulls: 0\n",
      "Please enter a 4 digit number: 5968\n",
      "Cows: 3, Bulls: 0\n",
      "Please enter a 4 digit number: 8888\n",
      "Cows: 2, Bulls: 2\n",
      "Please enter a 4 digit number: 5988\n",
      "Cows: 4, Bulls: 0\n",
      "Congratulations!! Your guess is write. You took 15 attemps for this\n"
     ]
    }
   ],
   "source": [
    "# get a random 4 digit number\n",
    "# import random library\n",
    "import random\n",
    "answer = random.randint(1000,9999)\n",
    "#print(answer)\n",
    "\n",
    "print(\"Welcome to the cows and bulls game!!\")\n",
    "print(\"For each guess you will get the cows and bulls.\")\n",
    "print(\"The game will continue untill the correct number is guessed.\")\n",
    "print(\"If you want to quit anytime, enter exit.\")\n",
    "\n",
    "# initialize counter\n",
    "counter = 0\n",
    "invalid_input = True\n",
    "while invalid_input:\n",
    "    usr_input = input(\"Please enter a 4 digit number: \")\n",
    "    \n",
    "    # if user enters exit, stop the game\n",
    "    if usr_input.lower() == 'exit':\n",
    "        print(\"You have quit the game. So far you made %s guess.\" %counter)\n",
    "        invalid_input = False\n",
    "        \n",
    "    # if the entered input is valid, call the function cows_and_bulls and increment the counter\n",
    "    elif usr_input.isdigit() and len(usr_input) == 4 and int(usr_input) != 0:\n",
    "        guess = int(usr_input)\n",
    "        \n",
    "        # activate below code to debug\n",
    "        # print(guess, answer)\n",
    "        \n",
    "        print(\"Cows: %s, Bulls: %s\" % (cows_and_bulls(guess,answer)))\n",
    "        counter = counter+1\n",
    "        \n",
    "        # if guess is right, end the game.\n",
    "        if guess == answer:\n",
    "            print(\"Congratulations!! Your guess is write. You took %s attemps for this\" %counter)\n",
    "            invalid_input = False\n",
    "            \n",
    "    # if the input is not valid show appropriate message.\n",
    "    else:\n",
    "        print(\"Incorrect input. Please try again.\")\n",
    "\n"
   ]
  },
  {
   "cell_type": "markdown",
   "metadata": {
    "collapsed": true
   },
   "source": [
    "# Exercise 19 (and Solution)\n",
    "## Decode A Web Page Two  \n",
    "\n",
    "Using the requests and BeautifulSoup Python libraries, print to the screen the full text of the article on this website: http://www.vanityfair.com/society/2014/06/monica-lewinsky-humiliation-culture.\n",
    "\n",
    "The article is long, so it is split up between 4 pages. Your task is to print out the text to the screen so that you can read the full article without having to click any buttons.\n",
    "\n",
    "(Hint: The post here describes in detail how to use the BeautifulSoup and requests libraries through the solution of the exercise posted here.)\n",
    "\n",
    "This will just print the full text of the article to the screen. It will not make it easy to read, so next exercise we will learn how to write this text to a .txt file.\n",
    "\n",
    "## Discussion\n",
    "\n",
    "### Inspecting HTML on a web page\n",
    "\n",
    "If you have forgotten how to inspect the HTML of a web page, look at the detailed solution to the previous exercise for a very detailed explanation. In brief:\n",
    "\n",
    "Open the web page in Chrome.\n",
    "Right-click the page and click “Inspect Element”\n",
    "Use the magnifying glass on the bottom-left of the page to click on elements of the page and look at their properties."
   ]
  },
  {
   "cell_type": "code",
   "execution_count": 1,
   "metadata": {
    "collapsed": true
   },
   "outputs": [],
   "source": [
    "# import requests library\n",
    "import requests\n",
    "\n",
    "# import beautifulsoup libraryElement Search \n",
    "from bs4 import BeautifulSoup"
   ]
  },
  {
   "cell_type": "code",
   "execution_count": 2,
   "metadata": {
    "collapsed": true
   },
   "outputs": [],
   "source": [
    "# set the website url to variable url\n",
    "url = 'http://www.vanityfair.com/society/2014/06/monica-lewinsky-humiliation-culture'"
   ]
  },
  {
   "cell_type": "code",
   "execution_count": 14,
   "metadata": {
    "collapsed": false
   },
   "outputs": [
    {
     "name": "stdout",
     "output_type": "stream",
     "text": [
      "9\n",
      "\n",
      "‘How does it feel to be America’s premier blow-job queen?”It was early 2001. I was sitting on the stage of New York’s Cooper Union in the middle of taping a Q&A for an HBO documentary. I was the subject. And I was thunderstruck.Hundreds of people in the audience, mostly students, were staring at me, many with their mouths agape, wondering if I would dare to answer this question.The main reason I had agreed to participate in the program was not to rehash or revise the story line of Interngate but to try to shift the focus to meaningful issues. Many troubling political and judicial questions had been brought to light by the investigation and impeachment of President Bill Clinton. But the most egregious had been generally ignored. People seemed indifferent to the deeper matters at hand, such as the erosion of private life in the public sphere, the balance of power and gender inequality in politics and media, and the erosion of legal protections to ensure that neither a parent nor a child should ever have to testify against each other.How naïve I was.There were gasps and sputters from the audience. Numerous blurred, faceless people called out, “Don’t answer it!”“It’s hurtful and it’s insulting,” I said, attempting to gather my wits. “And as insulting as it is to me, it’s even more insulting to my family. I don’t actually know why this whole story became about oral sex. I don’t. It was a mutual relationship.… The fact that it did is maybe a result of a male-dominated society.”The audience laughed. Maybe they were surprised to hear these words coming from me.I looked straight at the smirking guy who had asked the question. “You might be better poised to answer that.” After a pause, I added, “That’s probably cost me another year of therapy.”You could argue that in agreeing to participate in an HBO documentary called Monica in Black and White I had signed up to be shamed and publicly humiliated yet again. You might even think I would have been inured to humiliation. This encounter at Cooper Union, after all, paled in comparison with the 445-page Starr Report, which was the culmination of independent counsel Kenneth Starr’s four-year investigation of the Clinton White House. It included chapter and verse about my intimate sexual activities, along with transcripts of audiotapes that chronicled many of my private conversations. But the “B.J. Queen” question—which was included in the show when it aired on HBO in 2002—sat with me for a long time after the audience left and the taping wrapped.True, this wasn’t the first time I’d been stigmatized for my affair with Bill Clinton. But never had I been so directly confronted, one-on-one, with such a crass characterization. One of the unintended consequences of my agreeing to put myself out there and to try to tell the truth had been that shame would once again be hung around my neck like a scarlet-A albatross. Believe me, once it’s on, it is a bitch to take off.Had that awkward moment at Cooper Union aired only a few years later, with the advent of social media, the humiliation would have been even more devastating. That clip would have gone viral on Twitter, YouTube, Facebook, TMZ, Gawker. It would have become a meme of its own on Tumblr. The viralness itself would have merited mention on the Daily Beast and Huffington Post. As it was, it was viral enough, and, thanks to the all-encompassing nature of the Web, you can, 12 years later, watch it all day long on YouTube if you want to (but I really hope you have better things to do with your time).I know I’m not alone when it comes to public humiliation. No one, it seems, can escape the unforgiving gaze of the Internet, where gossip, half-truths, and lies take root and fester. We have created, to borrow a term from historian Nicolaus Mills, a “culture of humiliation” that not only encourages and revels in Schadenfreude but also rewards those who humiliate others, from the ranks of the paparazzi to the gossip bloggers, the late-night comedians, and the Web “entrepreneurs” who profit from clandestine videos.Yes, we’re all connected now. We can tweet a revolution in the streets or chronicle achievements large and small. But we’re also caught in a feedback loop of defame and shame, one in which we have become both perps and victims. We may not have become a crueler society—although it sure feels as if we have—but the Internet has seismically shifted the tone of our interactions. The ease, the speed, and the distance that our electronic devices afford us can also make us colder, more glib, and less concerned about the consequences of our pranks and prejudice. Having lived humiliation in the most intimate possible way, I marvel at how willingly we have all signed on to this new way of being.In my own case, each easy click of that YouTube link reinforces the archetype, despite my efforts to parry it away: Me, America’s B.J. Queen. That Intern. That Vixen. Or, in the inescapable phrase of our 42nd president, “That Woman.”It may surprise you to learn that I’m actually a person.\n",
      "In 1998, when news of my affair with Bill Clinton broke, I was arguably the most humiliated person in the world. Thanks to the Drudge Report, I was also possibly the first person whose global humiliation was driven by the Internet.For several years I tried my hand in the fashion-accessory business and became involved in various media projects, including the HBO documentary. Then I lay low for the most part. (The last major interview I granted was 10 years ago.) After all, not lying low had exposed me to criticism for trying to “capitalize” on my “notoriety.” Apparently, others talking about me is O.K.; me speaking out for myself is not. I turned down offers that would have earned me more than $10 million, because they didn’t feel like the right thing to do. Over time, the media circus quieted down, but it never quite moved on, even as I attempted to move on.Meanwhile, I watched my friends’ lives move forward. Marriages. Kids. Degrees. (Second marriages. More kids. More degrees.) I decided to turn over a new leaf and attend grad school.I moved to England to study, to challenge myself, to escape scrutiny, and to reimagine my identity. My professors and fellow students at the London School of Economics were wonderful—welcoming and respectful. I had more anonymity in London, perhaps due to the fact that I spent most of my waking hours in class or buried in the library. In 2006, I graduated with a master’s in social psychology. My master’s thesis examined social bias in the courtroom and was titled “In Search of the Impartial Juror: An Exploration of Pretrial Publicity and the Third Person Effect.” I liked to joke that I was trading the blue dress for blue stockings, and the degree provided new scaffolding to hang my life experiences on. It would also prove, so I hoped, to be a gateway to a more normal life.I moved between London, Los Angeles, New York, and Portland, Oregon, interviewing for a variety of jobs that fell under the umbrella of “creative communication” and “branding,” with an emphasis on charity campaigns. Yet, because of what potential employers so tactfully referred to as my “history,” I was never “quite right” for the position. In some cases, I was right for all the wrong reasons, as in “Of course, your job would require you to attend our events.” And, of course, these would be events at which press would be in attendance.In one promising job interview that took place during the run-up to the 2008 primary season, the conversation took an interesting turn. “So here’s the thing, Monica,” the interviewer said. “You’re clearly a bright young woman and affable, but for us—and probably any other organization that relies on grants and other government funding—it’s risky. We would first need a Letter of Indemnification from the Clintons. After all, there is a 25 percent chance that Mrs. Clinton will be the next president.” I gave a fake smile and said, “I understand.”Another job interview, this one typical: walked into the stark, terminally cool reception area of a hip-yet-prestigious advertising agency in Los Angeles, my hometown. As always, I put on my best “I’m friendly, not a diva” smile. “Hi. Monica Lewinsky here to see So-and-So.”The twentysomething receptionist pushed her black-rimmed hipster frames up her nose. “Monica who?”Before I could answer, another twentysomething, in skinny jeans, plaid shirt, and bow tie, rushed over and interrupted: “ Ms. Lewinsky.” Like a maître d’, he continued, “Pleasure to have you here. I’ll let So-and-So know you’ve arrived. Soy latte? Green tea? Filtered water?”I found myself sitting at a small round table, face-to-face with So-and-So, the agency’s head of strategy and planning. We talked. She kept wincing. This was not going well. I tried to keep myself from getting flustered. Now she was not only wincing but also clearing her throat. Was that perspiration on her brow? It hit me: she was nervous, in full-tic mode.I’ve had to become adept at handling any number of reactions in social situations and job interviews. I get it: it must be disconcerting to sit across from “That Woman.” Needless to say, I didn’t get the position.I eventually came to realize that traditional employment might not be an option for me. I’ve managed to get by (barely, at times) with my own projects, usually with start-ups that I have participated in, or with loans from friends and family.In another job interview I was asked, “If you were a brand, which brand would you be?” Let me tell you, when you’re Monica Lewinsky, that is one loaded question.In September of 2010, the culmination of these experiences began to snap into a broader context for me. A phone conversation with my mother shifted the lens through which I viewed my world. We were discussing the tragic death of Tyler Clementi. Tyler, you will recall, was an 18-year-old Rutgers freshman who was secretly streamed via Webcam kissing another man. Days later, after being derided and humiliated on social media, he committed suicide by jumping off the George Washington Bridge.My mom wept. Sobbing, she kept repeating over and over, “How his parents must feel … his poor parents.”It was an unbearably tragic event, and while hearing of it brought me to tears, too, I couldn’t quite grasp why my mom was so distraught. And then it dawned on me: she was reliving 1998, when she wouldn’t let me out of her sight. She was replaying those weeks when she stayed by my bed, night after night, because I, too, was suicidal. The shame, the scorn, and the fear that had been thrown at her daughter left her afraid that I would take my own life—a fear that I would be literally humiliated to death. (I have never actually attempted suicide, but I had strong suicidal temptations several times during the investigations and during one or two periods after.)I would never be so presumptuous as to equate my own story with Tyler Clementi’s. After all, my public humiliation had been the result of my involvement with a world-renowned public figure—that is, a consequence of my own poor choices. But in that moment, when I felt the depths of my mother’s anguish, I wished I could have had a chance to have spoken to Tyler about how my love life, my sex life, my most private moments, my most sensitive secrets, had been broadcast around the globe. I wished I had been able to say to him that I knew a little of how it might have felt for him to be exposed before the world. And, as hard as it is to imagine surviving it, it is possible.In the wake of Tyler’s tragedy, my own suffering took on a different meaning. Perhaps by sharing my story, I reasoned, I might be able to help others in their darkest moments of humiliation. The question became: How do I find and give a purpose to my past? It was my Prufrockian moment: “Do I dare / Disturb the universe?” Or, in my case, the Clinton universe.\n",
      "Despite a decade of self-imposed silence, I have been periodically resuscitated as part of the national conversation, almost always in connection with the Clintons. For instance, in January and February of this year, Rand Paul, the Kentucky senator and a possible 2016 Republican presidential aspirant, managed to drag me into the pre-election muck. He fought back against the Democrats’ charges of a G.O.P. “war on women” by arguing that Bill Clinton had committed workplace “violence” and acted in a “predatory” manner against “a 20-year-old girl who was there from college.”Sure, my boss took advantage of me, but I will always remain firm on this point: it was a consensual relationship. Any “abuse” came in the aftermath, when I was made a scapegoat in order to protect his powerful position.So, trying to disappear has not kept me out of the fray. I am, for better or for worse, presumed to be a known quantity. Every day I am recognized. Every day. Sometimes a person will walk past me again and again, as if I wouldn’t notice. (Thankfully, 99.9 percent of the time when strangers do say something to me they are supportive and respectful.) Every day someone mentions me in a tweet or a blog post, and not altogether kindly. Every day, it seems, my name shows up in an op-ed column or a press clip or two—mentioned in passing in articles on subjects as disparate as millennials, Scandal, and French president François Hollande’s love life. Miley Cyrus references me in her twerking stage act, Eminem raps about me, and Beyoncé’s latest hit gives me a shout-out. Thanks, Beyoncé, but if we’re verbing, I think you meant “Bill Clinton’d all on my gown,” not “Monica Lewinsky’d.”With every man I date (yes, I date!), I go through some degree of 1998 whiplash. I need to be extremely circumspect about what it means to be “public” with someone. In the early years post-impeachment, I once left a front-row seat along the third-base line at a Yankees game when I learned that my date—a guy whose company I thoroughly enjoyed—was actually in another relationship. It was only a green-card marriage, but I freaked that we could be photographed together and someone might call the gossip rags. I’ve become adept at figuring out when men are interested in me for the wrong reason. Thankfully, those have been few and far between. But every man that has been special to me over the past 16 years has helped me find another piece of myself—the self that was shattered in 1998. And so, no matter the heartbreak, tears, or disenchantment, I’ll always be grateful to them.\n",
      "In February of this year, around the same time Senator Paul put me back into the unwanted spotlight, I became the “narcissistic loony toon,” the latest twist on Me as Archetype.A snapshot of a scenario I’ve grown all too accustomed to, even as I attempt to move on with my life: A shrill ring interrupts the rhythms of my day. The call—from the doorman of the apartment building where I’m staying in New York—leads me to an exasperated “What? Again?” They’ve reappeared: the paparazzi, like swallows, have returned to the sidewalk outside, pacing and circling and pacing some more.I hit the computer. Time for a little self-Google. (Oh, dear reader, please do not judge.) My heart sinks. There’s an explosion on Google News. I know what this means. Whatever day I’ve planned has been jettisoned. To leave the house—and risk a photo—only ensures that the story will stay alive.The cameras have returned because of the headlines: a conservative Web site has gone poking around the University of Arkansas archive of one of Hillary Clinton’s closest friends and admirers, Diane Blair, and has unearthed a cache of memos from the 1990s. In some of them, Blair, who died in 2000, quotes the former First Lady about her husband’s relationship with me. Though Hillary, according to Blair’s notes, claimed to find her husband’s “lapse” inexcusable, she praised him for trying to “manage someone who was clearly a ‘narcissistic loony toon.’ ”My first thought, as I was getting up to speed: If that’s the worst thing she said, I should be so lucky. Mrs. Clinton, I read, had supposedly confided to Blair that, in part, she blamed herself for her husband’s affair (by being emotionally neglectful) and seemed to forgive him. Although she regarded Bill as having engaged in “gross inappropriate behavior,” the affair was, nonetheless, “consensual (was not a power relationship).”I field the usual calls from friends who lend moral support whenever these volcanic media stories erupt. They diffuse the tension with good-natured teasing: “So, are we changing your monogram to NLT?” I try to ignore the former First Lady’s long-buried comments. Given my experiences with Linda Tripp, I know better than anyone what it’s like to have a conversation with a girlfriend exposed and scrutinized, taken out of context. But, even so, it begins to gnaw at me. I realize that Hillary Clinton was—unlike me when Tripp was prying loose my innermost secrets and insecurities and recording them surreptitiously—fully aware of this documentation: she’s the one who, according to the memos, asked Blair to keep a record or diary of their discussions for archival purposes.Yes, I get it. Hillary Clinton wanted it on record that she was lashing out at her husband’s mistress. She may have faulted her husband for being inappropriate, but I find her impulse to blame the Woman—not only me, but herself—troubling. And all too familiar: with every marital indiscretion that finds its way into the public sphere—many of which involve male politicians—it always seems like the woman conveniently takes the fall. Sure, the Anthony Weiners and Eliot Spitzers do what they need to do to look humiliated on cable news. They bow out of public life for a while, but they inevitably return, having put it all behind them. The women in these imbroglios return to lives that are not so easily repaired.But there is another layer here that is making me bristle: Narcissist? Loony?You might remember that just five days before the world had ever heard my name the F.B.I.—after my friend Linda Tripp approached Special Prosecutor Kenneth Starr’s office with information about my affair with the president—entrapped me in a terrifying “sting” in the Pentagon City mall. At age 24, cornered in a hotel room on January 16, 1998, with mainly male interrogators taking orders from Starr, I was discouraged from contacting my attorney and threatened with 27 years in jail for filing an affidavit denying the affair with Clinton, among other alleged crimes. I was offered immunity from that threat if I agreed to place monitored calls and wear a wire in conversations with two of the president’s confidants and possibly the president himself. I refused. Confiding in Linda Tripp turned into an unintended betrayal. But this? The mother of all betrayals. That, I couldn’t do. Courageous or foolish, maybe, but narcissistic and loony?\n",
      "These 16-year-old descriptions of me triggered memories of past anguish, particularly in the area of women lobbing derision at one another. So where, you might be wondering, were the feminists back then?It’s a question that troubles me to this day.I sorely wished for some sign of understanding from the feminist camp. Some good, old-fashioned, girl-on-girl support was much in need. None came. Given the issues at play—gender politics, sex in the workplace—you’d think they would have spoken up. They didn’t. I understood their dilemma: Bill Clinton had been a president “friendly” to women’s causes.It also didn’t help that my case was not one of conventional “sexual harassment”; that charge against Bill Clinton had been made by Paula Jones, who brought a colossal lawsuit against him. My name surfaced only because, thanks to newly won advances by feminists, investigations of such cases were now allowed to cast a wider net. The Jones case became a stick that the right wing used to strike back at the Clinton-supporting feminists: Why wouldn’t they enthusiastically support an investigation into a case of sexual harassment? What if the president had been a Republican? Charges of hypocrisy flew.A handful of representatives of the modern feminist movement did chime in, obliquely. Yet, instead of any meaningful engagement, we got this: January 30, 1998. Day Nine of the scandal. Cocktails at Le Bernardin, in Manhattan. In attendance: writers Erica Jong, Nancy Friday, Katie Roiphe, and Elizabeth Benedict; Saturday Night Live writer Patricia Marx; Marisa Bowe, the editor of Word, an online magazine; fashion designer Nicole Miller; former dominatrix Susan Shellogg; and their host, Le Bernardin co-owner Maguy Le Coze. The New York Observer brought this coven together to trade Interngate insights, to be recorded by Francine Prose. (Sadly, the gal who would really make this coven complete is missing: Maureen Dowd, or Moremean Dowdy, as I used to refer to her. Today, I’d meet her for a drink.)Oh, to have been at that cocktail party:Marisa Bowe: His whole life is about having to be in control and really intelligent all the time. And his wife is really intelligent and in control all the time. And the idea of just having stupid sex with some not-brilliant woman in the Oval Office, I can see the appeal in that.Imaginary Me: I’m not saying I’m brilliant, but how do you know I’m not? My first job out of college was at the White House.Susan Shellogg: And do you think it’s tremendously selfish? Selfish and demanding, having oral sex and not reciprocating? I mean … she didn’t say, “Well, you know he satisfied me.”Me: And where exactly “didn’t” I say this? In which public statement that I didn’t make? In which testimony that’s not been released?Katie Roiphe: I think what people are outraged about is the way that [Monica Lewinsky] looks, which is interesting. Because we like to think of our presidents as sort of godlike, and so if J.F.K. has an affair with Marilyn Monroe, it’s all in the realm of the demigods…. I mean, the thing I kept hearing over and over again was Monica Lewinsky’s not that pretty.Me: Well, thanks. The first picture that surfaced was a passport photo. Would you like to have a passport photo splattered across publications around the world as the picture that defines you?What you are also saying here is that the primary quality that would qualify a woman to have an intimate relationship with a powerful man is physical attractiveness. If that’s not setting the movement back, I don’t know what is.Erica Jong: My dental hygienist pointed out that she had third-stage gum disease.Shellogg: What do you think will happen to [her]? I mean, she’ll just fade out quietly or write a book? Or people will forget about her six months from now?Nancy Friday: She can rent out her mouth.Me: (Speechless.)Jong: But, you know, men do like to get close to the mouth that has been close to power. Think of the fantasy in the man’s mind as she’s going down on him and he’s thinking, “Oh my God.”Elizabeth Benedict: Do for me what you did to the President. Do that.Me: (Still speechless.)Jong: I think it’s a tribute to how far we’ve come that we’re not trashing Monica Lewinsky.The catty confab appeared under the headline SUPERGALS LOVE THAT NAUGHTY PREZ. (Writing in Vanity Fair, Marjorie Williams called it “the most embarrassing thing I had read in a long time.”) To me, it illustrates a perplexing aspect of the culture of humiliation, one that Phyllis Chesler recognized in her book Woman’s Inhumanity to Woman: that women themselves are not immune to certain kinds of misogyny. We see it today in how the “mean girls” at school lurk on the modern playground of the Web (or around a pundit’s roundtable on TV or at a French restaurant), ever eager to pile on.I still have deep respect for feminism and am thankful for the great strides the movement has made in advancing women’s rights over the past few decades. But, given my experience of being passed around like gender-politics cocktail food, I don’t identify myself as a Feminist, capital F. The movement’s leaders failed in articulating a position that was not essentially anti-woman during the witch hunt of 1998. In the case of the New York Supergals, it should not have been that hard for them to swoon over the president without attacking and shaming me. Instead, they joined the humiliation derby.\n",
      "I , myself, deeply regret what happened between me and President Clinton. Let me say it again: I. Myself. Deeply. Regret. What. Happened. At the time—at least from my point of view—it was an authentic connection, with emotional intimacy, frequent visits, plans made, phone calls and gifts exchanged. In my early 20s, I was too young to understand the real-life consequences, and too young to see that I would be sacrificed for political expediency. I look back now, shake my head in disbelief, and wonder: what was I—what were we—thinking? I would give anything to go back and rewind the tape.\n",
      "Like many other Americans, I’ve been thinking about Hillary Clinton. What might happen, I’ve wondered, if she does run in 2016? And what if she wins—and then wins a second term?But when I think about these matters, there’s a dimension at play for me other than just the fact that we might finally have a woman in the White House. We all remember the second-wave feminist rallying cry The personal is political. Many people (myself included) proclaimed that my relationship with Bill Clinton was a personal matter, not one to be used in a high-stakes political war. When I hear of Hillary’s prospective candidacy, I cannot help but fear the next wave of paparazzi, the next wave of “Where is she now?” stories, the next reference to me in Fox News’s coverage of the primaries. I’ve begun to find it debilitating to plot out the cycle of my life based, to some degree, on the political calendar. For me, it’s a scenario in which the personal and the political are impossible to separate.In 2008, when Hillary was running for president, I remained virtually reclusive, despite being inundated with press requests. I put off announcing several media projects in 2012 until after the election. (They were subsequently canceled—and, no, I wasn’t offered $12 million for a salacious tell-all book, contrary to press reports.) And recently I’ve found myself gun-shy yet again, fearful of “becoming an issue” should she decide to ramp up her campaign. But should I put my life on hold for another 8 to 10 years?Being a conscientious Democrat—and aware that I could be used as a tool for the left or the right—I have remained silent for 10 years. So silent, in fact, that the buzz in some circles has been that the Clintons must have paid me off; why else would I have refrained from speaking out? I can assure you that nothing could be further from the truth.So why speak now? Because it is time.I turned 40 last year, and it is time to stop tiptoeing around my past—and other people’s futures. I am determined to have a different ending to my story. I’ve decided, finally, to stick my head above the parapet so that I can take back my narrative and give a purpose to my past. (What this will cost me, I will soon find out.) Despite what some headlines will falsely report about this piece, this is not about Me versus the Clintons. Their lives have moved on; they occupy important and powerful places on the global stage. I wish them no ill. And I fully understand that what has happened to me and the issue of my future do not matter to either of them.It also goes back to the personal and the political. I have lived many of the questions that have become central to our national discourse since 1998. How far should we allow the government into our bedrooms? How do we reconcile the right to privacy with the need to expose sexual indiscretion? How do we guard against an overzealous government demanding our private data and information? And, most important to me personally, how do we cope with the shame game as it’s played in the Internet Age? (My current goal is to get involved with efforts on behalf of victims of online humiliation and harassment and to start speaking on this topic in public forums.)\n",
      "So far, That Woman has never been able to escape the shadow of that first depiction. I was the Unstable Stalker (a phrase disseminated by the Clinton White House), the Dimwit Floozy, the Poor Innocent who didn’t know any better. The Clinton administration, the special prosecutor’s minions, the political operatives on both sides of the aisle, and the media were able to brand me. And that brand stuck, in part because it was imbued with power. I became a social representation, a social canvas on which anybody could project their confusion about women, sex, infidelity, politics, and body issues.Unlike the other parties involved, I was so young that I had no established identity to which I could return. I didn’t “let this define” me—I simply hadn’t had the life experience to establish my own identity in 1998. If you haven’t figured out who you are, it’s hard not to accept the horrible image of you created by others. (Thus, my compassion for young people who find themselves shamed on the Web.) Despite much self-searching and therapy and exploring of different paths, I remained “stuck” for far too many years.No longer. It’s time to burn the beret and bury the blue dress. And move forward.Get Vanity Fair’s Cocktail HourOur essential brief on culture, the news, and more. And it's on the house.E-mail AddressSubscribeUse of this site constitutes acceptance of our User Agreement and Privacy Policy.Full ScreenPhotos:1/5Monica Lewinsky Is BackLewinsky, who has kept out of the public eye for a decade, photographed at her Los Angeles apartment.PreviousNextLewinsky, who has kept out of the public eye for a decade, photographed at her Los Angeles apartment.\n"
     ]
    }
   ],
   "source": [
    "# Put the code in exception handling block\n",
    "r = requests.get(url)\n",
    "r_html = r.text\n",
    "soup = BeautifulSoup(r_html, \"lxml\")\n",
    "\n",
    "# Get all the elements with class content-section\n",
    "text_in_body = soup.select(\".content-section\")\n",
    "\n",
    "# For every element in text_in_body, print it\n",
    "for elem in text_in_body[:]:\n",
    "    print(elem.text)\n"
   ]
  },
  {
   "cell_type": "markdown",
   "metadata": {},
   "source": [
    "# Exercise 20 (and Solution)\n",
    "\n",
    "## Binary Element Search \n",
    "\n",
    "Write a function that takes an ordered list of numbers (a list where the elements are in order from smallest to largest) and another number. The function decides whether or not the given number is inside the list and returns (then prints) an appropriate boolean.\n",
    "\n",
    "Extras:\n",
    "\n",
    "Use binary search."
   ]
  },
  {
   "cell_type": "code",
   "execution_count": 24,
   "metadata": {
    "collapsed": false
   },
   "outputs": [
    {
     "name": "stdout",
     "output_type": "stream",
     "text": [
      "The number 99 is in the list.\n"
     ]
    }
   ],
   "source": [
    "# Initialize the variables\n",
    "ord_list = [1,2,3,4,5,6,7,8,9,11,99]\n",
    "number = 99\n",
    "\n",
    "# If number >= middle element, update ord_list to upper half of ord_list\n",
    "# if number < middle element, update the list to lower half of ord_list\n",
    "while len(ord_list) > 1:\n",
    "    if number >= ord_list[len(ord_list)//2]:\n",
    "        ord_list = ord_list[len(ord_list)//2:]\n",
    "    else: \n",
    "        ord_list = ord_list[:len(ord_list)//2]\n",
    "    \n",
    "# If the number is in the new ord_list print number found\n",
    "# Else print number not found\n",
    "if ord_list[0] == number:\n",
    "    print('The number %s is in the list.' % number)\n",
    "else:\n",
    "    print('The number %s is not in the list' % number)\n"
   ]
  },
  {
   "cell_type": "markdown",
   "metadata": {},
   "source": [
    "# Exercise 21 (and Solution)\n",
    "\n",
    "\n",
    "## Write To A File\n",
    "\n",
    "Take the code from the How To Decode A Website exercise (if you didn’t do it or just want to play with some different code, use the code from the solution), and instead of printing the results to a screen, write the results to a txt file. In your code, just make up a name for the file you are saving to.\n",
    "\n",
    "Extras:\n",
    "\n",
    "Ask the user to specify the name of the output file that will be saved."
   ]
  },
  {
   "cell_type": "code",
   "execution_count": 34,
   "metadata": {
    "collapsed": false
   },
   "outputs": [],
   "source": [
    "# import requests library\n",
    "import requests\n",
    "\n",
    "# import beautifulsoup libraryElement Search \n",
    "from bs4 import BeautifulSoup\n",
    "\n",
    "# set the website url to variable url\n",
    "url = 'http://www.vanityfair.com/society/2014/06/\\\n",
    "monica-lewinsky-humiliation-culture'\n",
    "\n",
    "# Put the code in exception handling block\n",
    "r = requests.get(url)\n",
    "r_html = r.text\n",
    "soup = BeautifulSoup(r_html, \"lxml\")\n",
    "\n",
    "# Get all the elements with class \"content-section\"\n",
    "text_in_body = soup.select(\".content-section\")\n",
    "\n",
    "# For every element in text_in_body, write it to a file\n",
    "with open('/resources/data/file_to_save.txt', 'w') as open_file:\n",
    "    for elem in text_in_body[:]:\n",
    "         open_file.write(elem.text)"
   ]
  },
  {
   "cell_type": "code",
   "execution_count": 36,
   "metadata": {
    "collapsed": false
   },
   "outputs": [
    {
     "ename": "IndentationError",
     "evalue": "expected an indented block (<ipython-input-36-da588d6555d9>, line 2)",
     "output_type": "error",
     "traceback": [
      "\u001b[0;36m  File \u001b[0;32m\"<ipython-input-36-da588d6555d9>\"\u001b[0;36m, line \u001b[0;32m2\u001b[0m\n\u001b[0;31m    a    print(open_file.read())\u001b[0m\n\u001b[0m    ^\u001b[0m\n\u001b[0;31mIndentationError\u001b[0m\u001b[0;31m:\u001b[0m expected an indented block\n"
     ]
    }
   ],
   "source": [
    "# Read data from file \"file_to_save.txt\"\n",
    "with open('/resources/data/file_to_save.txt', 'r') as open_file:\n",
    "    print(open_file.read())"
   ]
  },
  {
   "cell_type": "markdown",
   "metadata": {},
   "source": [
    "# Exercise 22 (and Solution)\n",
    "\n",
    "Given a .txt file that has a list of a bunch of names, count how many of each name there are in the file, and print out the results to the screen. I have a .txt file for you, if you want to use it!\n",
    "\n",
    "Extra:\n",
    "\n",
    "Instead of using the .txt file from above (or instead of, if you want the challenge), take this .txt file, and count how many of each “category” of each image there are. This text file is actually a list of files corresponding to the SUN database scene recognition database, and lists the file directory hierarchy for the images. Once you take a look at the first line or two of the file, it will be clear which part represents the scene category. To do this, you’re going to have to remember a bit about string parsing in Python 3. I talked a little bit about it in this post."
   ]
  },
  {
   "cell_type": "code",
   "execution_count": 26,
   "metadata": {
    "collapsed": false
   },
   "outputs": [
    {
     "name": "stdout",
     "output_type": "stream",
     "text": [
      "{'Lea': 54, 'Luke': 15, 'Darth': 31}\n"
     ]
    }
   ],
   "source": [
    "## first file.\n",
    "\n",
    "# Open file and save the content in file\n",
    "file_name = '/resources/ex22_file1.txt'\n",
    "try:\n",
    "    with open(file_name, 'r') as open_file:\n",
    "        file = open_file.read()\n",
    "except:\n",
    "    print('Something went wrong while loading the file: \\n%s' % file_name)\n",
    "\n",
    "# Split the lines into a list named names\n",
    "names = file.split()\n",
    "\n",
    "dict_names = {}    # Initialize dictionary\n",
    "\n",
    "# iterate through dictionary and increment value if find same name\n",
    "# else add name with value 1\n",
    "for name in names:\n",
    "    if name in dict_names:\n",
    "        dict_names[name] = dict_names[name]+1\n",
    "    else:\n",
    "        dict_names[name] = 1\n",
    "\n",
    "print(dict_names)\n"
   ]
  },
  {
   "cell_type": "code",
   "execution_count": 28,
   "metadata": {
    "collapsed": false
   },
   "outputs": [],
   "source": [
    "# Open file in read mode and read the contents in file\n",
    "file_name = '/resources/ex22_file2.txt'\n",
    "try:\n",
    "    with open(file_name, 'r') as open_file:\n",
    "        file = open_file.read()\n",
    "except:\n",
    "    print('Something went wrong while loading the file: \\n%s' % file_name)\n",
    "\n",
    "# create a list names with each element as a string \n",
    "# containing each line from file\n",
    "names = file.split(sep = '\\n')"
   ]
  },
  {
   "cell_type": "code",
   "execution_count": 29,
   "metadata": {
    "collapsed": false
   },
   "outputs": [
    {
     "name": "stdout",
     "output_type": "stream",
     "text": [
      "19851\n"
     ]
    }
   ],
   "source": [
    "# print(len(names))"
   ]
  },
  {
   "cell_type": "code",
   "execution_count": 30,
   "metadata": {
    "collapsed": false
   },
   "outputs": [
    {
     "name": "stdout",
     "output_type": "stream",
     "text": [
      "362\n"
     ]
    }
   ],
   "source": [
    "d_category = {}    # Initialize dictionary\n",
    "\n",
    "# iterate through dictionary and increment value if find same category\n",
    "# else add name with value 1\n",
    "for name in names:\n",
    "    temp = name.split(sep = '/')\n",
    "    if temp != ['']:\n",
    "        category = temp[2]\n",
    "        if category in d_category:\n",
    "            d_category[category] = d_category[category] + 1\n",
    "        else:\n",
    "            d_category[category] = 1\n",
    "print(len(d_category))"
   ]
  },
  {
   "cell_type": "markdown",
   "metadata": {},
   "source": [
    "# Exercise 23 (and Solution)\n",
    "\n",
    "Given two .txt files that have lists of numbers in them, find the numbers that are overlapping. One .txt file has a list of all prime numbers under 1000, and the other .txt file has a list of happy numbers up to 1000.\n",
    "\n",
    "(If you forgot, prime numbers are numbers that can’t be divided by any other number. And yes, happy numbers are a real thing in mathematics - you can look it up on Wikipedia. The explanation is easier with an example, which I will describe below.)\n",
    "\n",
    "## Discussion\n",
    "\n",
    "You’ll need to stitch together a few ideas of things I’ve previously talked about on this blog, so if you need a refresher in any of these topics, now is your chance! Of course, there are any number of ways to do this exercise, so these are only suggestions.\n",
    "\n",
    "Topics:\n",
    "\n",
    "1. Reading a file, in Exercise 21\n",
    "2. Number types and converting to integers from strings, in Exercise 1\n",
    "3. Lists, in Exercise 3 and Exercise 5"
   ]
  },
  {
   "cell_type": "code",
   "execution_count": 32,
   "metadata": {
    "collapsed": false
   },
   "outputs": [],
   "source": [
    "# Read file info into a list of strings, prime\n",
    "file_name = '/resources/ex23_prime_numbers.txt'\n",
    "try:\n",
    "    with open(file_name, 'r') as open_file:\n",
    "        file = open_file.read()\n",
    "except:\n",
    "    print('Something went wrong while loading the file: \\n%s' % file_name)\n",
    "prime = file.split()\n",
    "\n",
    "# Read file info into a list of strings, happy\n",
    "file_name = '/resources/ex23_happy_numbers.txt'\n",
    "try:\n",
    "    with open(file_name, 'r') as open_file:\n",
    "        file = open_file.read()\n",
    "except:\n",
    "    print('Something went wrong while loading the file: \\n%s' % file_name)\n",
    "happy = file.split()"
   ]
  },
  {
   "cell_type": "code",
   "execution_count": 33,
   "metadata": {
    "collapsed": false
   },
   "outputs": [
    {
     "name": "stdout",
     "output_type": "stream",
     "text": [
      "The overlapping numbers are: \n",
      " [7, 13, 19, 23, 31, 79, 97, 103, 109, 139, 167, 193, 239, 263, 293, 313, 331, 367, 379, 383, 397, 409, 487, 563, 617, 653, 673, 683, 709, 739, 761, 863, 881, 907, 937]\n",
      "The overlapping numbers using sets are: \n",
      " [7, 13, 19, 23, 31, 79, 97, 103, 109, 139, 167, 193, 239, 263, 293, 313, 331, 367, 379, 383, 397, 409, 487, 563, 617, 653, 673, 683, 709, 739, 761, 863, 881, 907, 937]\n"
     ]
    }
   ],
   "source": [
    "# List comprehension to get overlapping (common) numbers\n",
    "overlap = [int(x) for x in prime if x in happy]\n",
    "print('The overlapping numbers are: \\n %s' % overlap)\n",
    "\n",
    "# sets to get overlapping (common) numbers\n",
    "set_prime = set(prime)\n",
    "set_happy = set(happy)\n",
    "\n",
    "overlap = set_prime.intersection(set_happy)\n",
    "overlap = [int(x) for x in overlap]    # Convert overlap from set to list\n",
    "overlap.sort()\n",
    "\n",
    "print('The overlapping numbers using sets are: \\n %s' % overlap)"
   ]
  },
  {
   "cell_type": "markdown",
   "metadata": {},
   "source": [
    "# Exercise 24 (and Solution)\n",
    "\n",
    "## Draw A Game Board  "
   ]
  },
  {
   "cell_type": "raw",
   "metadata": {},
   "source": [
    "This exercise is Part 1 of 4 of the Tic Tac Toe exercise series. The other exercises are: Part 2, Part 3, and Part 4.\n",
    "\n",
    "Time for some fake graphics! Let’s say we want to draw game boards that look like this:\n",
    "\n",
    " --- --- ---\n",
    "|   |   |   |\n",
    " --- --- ---\n",
    "|   |   |   |\n",
    " --- --- ---\n",
    "|   |   |   |\n",
    " --- --- --- \n",
    "\n",
    "This one is 3x3 (like in tic tac toe). Obviously, they come in many other sizes (8x8 for chess, 19x19 for Go, and many more).\n",
    "\n",
    "Ask the user what size game board they want to draw, and draw it for them to the screen using Python’s print statement."
   ]
  },
  {
   "cell_type": "code",
   "execution_count": 1,
   "metadata": {
    "collapsed": false
   },
   "outputs": [],
   "source": [
    "# Function to create a single horizontal line of the board\n",
    "def print_hor(board_size = 3):\n",
    "    \"\"\"(int) -> None\n",
    "    \n",
    "    Prints ' ---' times board_size. Returns None.\n",
    "    \n",
    "    >>>print_hor(3)\n",
    "     --- --- ---\n",
    "     >>>print_hor(1)\n",
    "      ---\n",
    "    \"\"\"\n",
    "    print(' ---'*board_size)\n",
    "    \n",
    "# Function to print single verticle line on the board\n",
    "def print_ver(board_size = 3):\n",
    "    \"\"\"(int) -> None\n",
    "    \n",
    "    Prints '|   ' times board_size + 1. Returns None.\n",
    "    \n",
    "    >>>print_ver(3)\n",
    "    |   |   |   |\n",
    "     >>>print_hor(1)\n",
    "    |   |\n",
    "    \"\"\"\n",
    "    print('|   '*(board_size+1))\n",
    "    \n"
   ]
  },
  {
   "cell_type": "code",
   "execution_count": 3,
   "metadata": {
    "collapsed": false
   },
   "outputs": [
    {
     "name": "stdout",
     "output_type": "stream",
     "text": [
      "Please enter the board size: 5\n",
      " --- --- --- --- ---\n",
      "|   |   |   |   |   |   \n",
      " --- --- --- --- ---\n",
      "|   |   |   |   |   |   \n",
      " --- --- --- --- ---\n",
      "|   |   |   |   |   |   \n",
      " --- --- --- --- ---\n",
      "|   |   |   |   |   |   \n",
      " --- --- --- --- ---\n",
      "|   |   |   |   |   |   \n",
      " --- --- --- --- ---\n"
     ]
    }
   ],
   "source": [
    "# Get valid input from user\n",
    "invalid_input = True\n",
    "while invalid_input:\n",
    "    board_size = input('Please enter the board size: ')\n",
    "    if board_size.isdigit():\n",
    "        invalid_input = False\n",
    "    else:\n",
    "        print('Invalid input. Please enter a valid number.')\n",
    "\n",
    "# Print the board as per user input\n",
    "board_size = int(board_size)\n",
    "for i in range(board_size):\n",
    "    print_hor(board_size)\n",
    "    print_ver(board_size)\n",
    "print_hor(board_size)"
   ]
  },
  {
   "cell_type": "markdown",
   "metadata": {
    "collapsed": false
   },
   "source": [
    "# Exercise 25 (and Solution)\n",
    "\n",
    "## Guessing Game Two\n",
    "\n",
    "In a previous exercise, we’ve written a program that “knows” a number and asks a user to guess it.\n",
    "\n",
    "This time, we’re going to do exactly the opposite. You, the user, will have in your head a number between 0 and 100. The program will guess a number, and you, the user, will say whether it is too high, too low, or your number.\n",
    "\n",
    "At the end of this exchange, your program should print out how many guesses it took to get your number.\n",
    "\n",
    "\n",
    "\n",
    "As the writer of this program, you will have to choose how your program will strategically guess. A naive strategy can be to simply start the guessing at 1, and keep going (2, 3, 4, etc.) until you hit the number. But that’s not an optimal guessing strategy. An alternate strategy might be to guess 50 (right in the middle of the range), and then increase / decrease by 1 as needed. After you’ve written the program, try to find the optimal strategy! (We’ll talk about what is the optimal one next week with the solution.)"
   ]
  },
  {
   "cell_type": "code",
   "execution_count": null,
   "metadata": {
    "collapsed": true
   },
   "outputs": [],
   "source": [
    "# Function to get the range of numbers from the user\n",
    "def get_range():\n",
    "    \"\"\"() -> (int, int)\n",
    "    \n",
    "    Returns two integers, upper and lower limit of range\n",
    "    \"\"\"\n",
    "    upr_range = 0\n",
    "    lwr_range = 0\n",
    "    \n",
    "    while True:\n",
    "        usr_input = input('Please enter the lower range: ')\n",
    "        if usr_input.isdigit():\n",
    "            lwr_range = int(usr_input)\n",
    "            break\n",
    "        else:\n",
    "            print('Please enter a valid input')\n",
    "    \n",
    "    while True:\n",
    "        usr_input = input('Please enter the upper range: ')\n",
    "        if usr_input.isdigit():\n",
    "            upr_range = int(usr_input)\n",
    "            break\n",
    "        else:\n",
    "            print('Please enter a valid input')\n",
    "    return (lwr_range, upr_range)"
   ]
  },
  {
   "cell_type": "code",
   "execution_count": null,
   "metadata": {
    "collapsed": true
   },
   "outputs": [],
   "source": [
    "# Funtion to get the middle number given a range\n",
    "def get_mid(lwr_range, upr_range):\n",
    "    \"\"\"(int,int) -> int\n",
    "    \n",
    "    Returns the middle number of lwr_range and upr_range\n",
    "    \n",
    "    >>>get_mid(0,100)\n",
    "    50\n",
    "    >>>get_mid(10,21)\n",
    "    15\n",
    "    \"\"\"\n",
    "    return int((lwr_range+upr_range)/2)"
   ]
  },
  {
   "cell_type": "code",
   "execution_count": 9,
   "metadata": {
    "collapsed": false
   },
   "outputs": [],
   "source": [
    "# Get input from user: guessed number is too high, too low or correct\n",
    "def get_result(lwr_range, upr_range):\n",
    "    \"\"\"(int, int) -> str\n",
    "    \n",
    "    Returns whether the middle number between lwr_range and upr_range\n",
    "    is too high, too low or correct\n",
    "    \n",
    "    >>>get_result(49, 100)\n",
    "    high, low or correct\n",
    "    \"\"\"\n",
    "    # Using Regular Expression to get the right input from user\n",
    "    import re\n",
    "    hi = '.*?(high).*?'\n",
    "    lo = '.*?(low).*?'\n",
    "    yes = '.*?(yes).*?'\n",
    "    \n",
    "    print('System guess is: %s' %get_mid(lwr_range,upr_range))\n",
    "    while True:\n",
    "        usr_input = input('is the above guessed number right?').lower()\n",
    "        if re.search(hi, usr_input):\n",
    "            return 'high'\n",
    "        elif re.search(lo, usr_input):\n",
    "            return 'low'\n",
    "        elif re.search(yes, usr_input):\n",
    "            return 'yes'\n",
    "        else:\n",
    "            print('Incorrect input. Please enter \"high\", \"low\" or \"yes\"')\n",
    "     "
   ]
  },
  {
   "cell_type": "code",
   "execution_count": 11,
   "metadata": {
    "collapsed": false,
    "scrolled": true
   },
   "outputs": [
    {
     "name": "stdout",
     "output_type": "stream",
     "text": [
      "Please enter the lower range: 10\n",
      "Please enter the upper range: 100\n",
      "System guess is: 55\n",
      "is the above guessed number right?no\n",
      "Incorrect input. Please enter \"high\", \"low\" or \"yes\"\n",
      "is the above guessed number right?high\n",
      "System guess is: 32\n",
      "is the above guessed number right?yes\n",
      "System took 2 attempts to guess the right number.\n"
     ]
    }
   ],
   "source": [
    "lwr_range, upr_range = get_range()\n",
    "itr = 0 \n",
    "while True:\n",
    "    itr = itr + 1\n",
    "    usr_input = get_result(lwr_range,upr_range)\n",
    "    if usr_input == 'high':\n",
    "        upr_range = get_mid(lwr_range, upr_range)\n",
    "    elif usr_input == 'low':\n",
    "        lwr_range = get_mid(lwr_range, upr_range)\n",
    "    else:\n",
    "        print('System took %s attempts to guess the right number.' %itr)\n",
    "        break\n",
    "input('Press enter to exit...')"
   ]
  },
  {
   "cell_type": "markdown",
   "metadata": {},
   "source": [
    "# Exercise 26 (and Solution)\n",
    "\n",
    "## Check Tic Tac Toe"
   ]
  },
  {
   "cell_type": "raw",
   "metadata": {},
   "source": [
    "This exercise is Part 2 of 4 of the Tic Tac Toe exercise series. The other exercises are: Part 1, Part 3, and Part 4.\n",
    "\n",
    "As you may have guessed, we are trying to build up to a full tic-tac-toe board. However, this is significantly more than half an hour of coding, so we’re doing it in pieces.\n",
    "\n",
    "Today, we will simply focus on checking whether someone has WON a game of Tic Tac Toe, not worrying about how the moves were made.\n",
    "\n",
    "If a game of Tic Tac Toe is represented as a list of lists, like so:\n",
    "\n",
    "game = [[1, 2, 0],\n",
    "\t[2, 1, 0],\n",
    "\t[2, 1, 1]]\n",
    "where a 0 means an empty square, a 1 means that player 1 put their token in that space, and a 2 means that player 2 put their token in that space.\n",
    "\n",
    "Your task this week: given a 3 by 3 list of lists that represents a Tic Tac Toe game board, tell me whether anyone has won, and tell me which player won, if any. A Tic Tac Toe win is 3 in a row - either in a row, a column, or a diagonal. Don’t worry about the case where TWO people have won - assume that in every board there will only be one winner."
   ]
  },
  {
   "cell_type": "code",
   "execution_count": null,
   "metadata": {
    "collapsed": true
   },
   "outputs": [],
   "source": [
    "# Function to get if anyone won and which player\n",
    "def get_result(board = [[2,1,2],\n",
    "     [1,2,2],\n",
    "     [2,2,2]]):\n",
    "    \"\"\"(list of list of int) -> str\n",
    "    \n",
    "    Returns a string specifies which player won or if it is a tie returns none\n",
    "    \"\"\"\n",
    "    # If we multiply all the elements in a row, if we get 0 then atleast one\n",
    "    # is empty in that row. If the multiplication is 1 (or 1 to the power of\n",
    "    # board size) it means that all the elements in the row are 1. Similarly\n",
    "    # if the multiplication is 8 (for board size of 3) that means that all\n",
    "    # the elements in the row are 2. Anything else means that row has mixed\n",
    "    # elements and thus cannot be a winning combination. Same logic can be\n",
    "    # applied to columns and diagonals. \n",
    "    \n",
    "    # Calculate the multiplication of all elements in rows.\n",
    "    row = []\n",
    "    length = len(board)\n",
    "    for i in range(length):\n",
    "        temp = 1\n",
    "        for j in board[i]:\n",
    "            temp = temp*j\n",
    "        row.append(temp)\n",
    "\n",
    "    # Calculate the multiplication of all elements in column.\n",
    "    col = []\n",
    "    for i in range(length):\n",
    "        temp = 1\n",
    "        for j in range(length):\n",
    "            temp = temp*board[j][i]\n",
    "        col.append(temp)\n",
    "\n",
    "    # Calculate the multiplication of all elements in column.\n",
    "    dia = []\n",
    "    temp = 1\n",
    "    for j in range(length):\n",
    "        temp = temp * board[j][j]\n",
    "    dia.append(temp)\n",
    "    temp = 1\n",
    "    for j in range(length):\n",
    "        temp = temp * board[j][-1-j]\n",
    "    dia.append(temp)        \n",
    "\n",
    "    for temp in range(1,3):\n",
    "        if temp**length in row or temp**length in col or temp**length in dia:\n",
    "            return 'Player '+str(temp)+' wins.'"
   ]
  },
  {
   "cell_type": "code",
   "execution_count": 8,
   "metadata": {
    "collapsed": false
   },
   "outputs": [
    {
     "name": "stdout",
     "output_type": "stream",
     "text": [
      "No one has won.\n"
     ]
    }
   ],
   "source": [
    "board = [[1, 2, 0],\n",
    "        [2, 1, 0],\n",
    "        [2, 1, 0]]\n",
    "\n",
    "result = get_result(board)\n",
    "if result is not None:\n",
    "    print(result)\n",
    "else:\n",
    "    print('No one has won.')"
   ]
  },
  {
   "cell_type": "markdown",
   "metadata": {},
   "source": [
    "# Exercise 27 (and Solution)\n",
    "\n",
    "## Tic Tac Toe Draw"
   ]
  },
  {
   "cell_type": "raw",
   "metadata": {},
   "source": [
    "This exercise is Part 3 of 4 of the Tic Tac Toe exercise series. The other exercises are: Part 1, Part 2, and Part 4.\n",
    "\n",
    "In a previous exercise we explored the idea of using a list of lists as a “data structure” to store information about a tic tac toe game. In a tic tac toe game, the “game server” needs to know where the Xs and Os are in the board, to know whether player 1 or player 2 (or whoever is X and O won).\n",
    "\n",
    "There has also been an exercise about drawing the actual tic tac toe gameboard using text characters.\n",
    "\n",
    "The next logical step is to deal with handling user input. When a player (say player 1, who is X) wants to place an X on the screen, they can’t just click on a terminal. So we are going to approximate this clicking simply by asking the user for a coordinate of where they want to place their piece.\n",
    "\n",
    "As a reminder, our tic tac toe game is really a list of lists. The game starts out with an empty game board like this:\n",
    "\n",
    "game = [[0, 0, 0],\n",
    "\t[0, 0, 0],\n",
    "\t[0, 0, 0]]\n",
    "The computer asks Player 1 (X) what their move is (in the format row,col), and say they type 1,3. Then the game would print out\n",
    "\n",
    "game = [[0, 0, X],\n",
    "\t[0, 0, 0],\n",
    "\t[0, 0, 0]]\n",
    "And ask Player 2 for their move, printing an O in that place."
   ]
  },
  {
   "cell_type": "raw",
   "metadata": {},
   "source": [
    "# Note\n",
    "\n",
    "I am taking a different approach to this. Users will input coordintes and the game board list of list will be updated at that coordinate by 1 for user 1 and 2 for user 2. This game board will be passed to a function with another list called mark (this will contain marks to be used for empty coordinates, user 1 and user 2). This function will then print the board with appropriate marks. Please see below example for further clarifiation:\n",
    "\n",
    "PS: The function should be able to handle a board size of any length. \n",
    "\n",
    "game = [[0, 0, 1],\n",
    "\t[0, 2, 0],\n",
    "\t[0, 0, 0]]\n",
    "    \n",
    "mark = [' ', 'X', 'O']  --> optional argument. Can be defaulted in the function.\n",
    "\n",
    " --- --- ---\n",
    "|   |   | X |\n",
    " --- --- ---\n",
    "|   | O |   |\n",
    " --- --- ---\n",
    "|   |   |   |\n",
    " --- --- ---"
   ]
  },
  {
   "cell_type": "code",
   "execution_count": 3,
   "metadata": {
    "collapsed": true
   },
   "outputs": [],
   "source": [
    "def print_hor(board_size = 3):\n",
    "    \"\"\"(int) -> None\n",
    "    \n",
    "    Returns None. Prints ' ---' times board_size.\n",
    "    \n",
    "    >>>print_hor(3)\n",
    "     --- --- ---\n",
    "     >>>print_hor(1)\n",
    "      ---\n",
    "    \"\"\"\n",
    "    print(' ---'*board_size)\n",
    "    \n",
    "# Function to print each row of the board with appropriate marks.\n",
    "def print_ver(board_row, mark):\n",
    "    \"\"\"(list, list) -> None\n",
    "    \n",
    "    Returns None. Prints '|   ' or '| x  ' or '| o ' for each element of\n",
    "    board_row, if  mark = [' ', 'x', 'o']. If mark has some other values the \n",
    "    same are printed. \n",
    "    \n",
    "    >>>print_ver([0,1,0], [' ', 'x', 'o'])\n",
    "    |   | X |   |\n",
    "    \"\"\"\n",
    "    ver = ''\n",
    "    for i in board_row:\n",
    "        ver = ver+'| '+mark[i]+' '  \n",
    "    ver = ver+'|'\n",
    "    print(ver)\n",
    "\n",
    "def print_board(board, mark = [' ', 'X', 'O']):\n",
    "    \"\"\"(list of lists of int, list of str) -> None\n",
    "    \n",
    "    Returns None. Prints a board of size board with appropriate mark on the board.\n",
    "    \n",
    "    >>>print_board([[0, 0, 1],\n",
    "         [0, 2, 0],\n",
    "         [0, 0, 0]])\n",
    "     --- --- ---\n",
    "    |   |   | X |\n",
    "    --- --- ---\n",
    "    |   | O |   |\n",
    "    --- --- ---\n",
    "    |   |   |   |\n",
    "     --- --- ---\n",
    "    \"\"\"\n",
    "    for row in board:\n",
    "        print_hor(len(board))\n",
    "        print_ver(row, mark)\n",
    "    print_hor(len(board))"
   ]
  },
  {
   "cell_type": "code",
   "execution_count": 4,
   "metadata": {
    "collapsed": false,
    "scrolled": true
   },
   "outputs": [
    {
     "name": "stdout",
     "output_type": "stream",
     "text": [
      " --- --- ---\n",
      "|   |   | X |\n",
      " --- --- ---\n",
      "|   | O |   |\n",
      " --- --- ---\n",
      "|   |   |   |\n",
      " --- --- ---\n"
     ]
    }
   ],
   "source": [
    "board = [[0, 0, 1],\n",
    "         [0, 2, 0],\n",
    "         [0, 0, 0]]\n",
    "mark = [' ', 'X', 'O']\n",
    "\n",
    "print_board(board,mark)"
   ]
  },
  {
   "cell_type": "markdown",
   "metadata": {},
   "source": [
    "# Exercise 28 (and Solution)\n",
    "\n",
    "Implement a function that takes as input three variables, and returns the largest of the three. Do this without using the Python max() function!\n",
    "\n",
    "The goal of this exercise is to think about some internals that Python normally takes care of for us. All you need is some variables and if statements!\n",
    "    "
   ]
  },
  {
   "cell_type": "code",
   "execution_count": 37,
   "metadata": {
    "collapsed": true
   },
   "outputs": [],
   "source": [
    "def find_max(a, b, c):\n",
    "    \"\"\"\n",
    "    Return the largest of a, b and c. Returns None if the argument types are different.\n",
    "    \n",
    "    Pre-condition: a, b and c must be of same type\n",
    "    \n",
    "    >>>find_max(1,4,7.34)\n",
    "    None\n",
    "    >>>find_max(-3,-4,0)\n",
    "    0\n",
    "    >>>find_max('a','A', 'f')\n",
    "    f\n",
    "    \"\"\"\n",
    "    \n",
    "    if type(a) != type(b) or type(b) != type(c):\n",
    "        return None\n",
    "    \n",
    "    if a >= b and a >= c:\n",
    "        return a\n",
    "    elif b >= a and b >= c:\n",
    "        return b\n",
    "    else:\n",
    "        return c"
   ]
  },
  {
   "cell_type": "code",
   "execution_count": 41,
   "metadata": {
    "collapsed": false
   },
   "outputs": [
    {
     "name": "stdout",
     "output_type": "stream",
     "text": [
      "None\n",
      "f\n",
      "7.34\n"
     ]
    }
   ],
   "source": [
    "print(find_max(-11,-3,'a'))\n",
    "print(find_max('a','A', 'f'))\n",
    "print(find_max(1.0,7.34,7.34))"
   ]
  }
 ],
 "metadata": {
  "anaconda-cloud": {},
  "kernelspec": {
   "display_name": "Python 3",
   "language": "python",
   "name": "python3"
  },
  "language_info": {
   "codemirror_mode": {
    "name": "ipython",
    "version": 3
   },
   "file_extension": ".py",
   "mimetype": "text/x-python",
   "name": "python",
   "nbconvert_exporter": "python",
   "pygments_lexer": "ipython3",
   "version": "3.5.2"
  },
  "widgets": {
   "state": {},
   "version": "1.1.2"
  }
 },
 "nbformat": 4,
 "nbformat_minor": 0
}
