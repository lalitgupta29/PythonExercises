{
 "cells": [
  {
   "cell_type": "markdown",
   "metadata": {},
   "source": [
    "# Exercise 1\n",
    "\n",
    "Create a program that asks the user to enter their name and their age. Print out a message addressed to them that tells them the year that they will turn 100 years old.\n",
    "\n",
    "Extras:\n",
    "\n",
    "1. Add on to the previous program by asking the user for another number and printing out that many copies of the previous message. (Hint: order of operations exists in Python)\n",
    "2. Print out that many copies of the previous message on separate lines. (Hint: the string \"\\n is the same as pressing the ENTER button)"
   ]
  },
  {
   "cell_type": "code",
   "execution_count": 11,
   "metadata": {
    "collapsed": false
   },
   "outputs": [
    {
     "name": "stdout",
     "output_type": "stream",
     "text": [
      "Please Enter Your Name: Lalit\n",
      "Please Enter you Age: 33\n",
      "How many copies would you like to print? 2\n",
      "Lalit will turn 100 in the year:  2084 \n",
      "\n",
      "Lalit will turn 100 in the year:  2084 \n",
      "\n"
     ]
    }
   ],
   "source": [
    "def hit_century(age):\n",
    "    \"\"\"(int) --> int\n",
    "\n",
    "    Returns the year when the person who has given age turns 100.\n",
    "    \n",
    "    >>>hit_century(33)\n",
    "    2084\n",
    "    >>>hit_century(3)\n",
    "    2114\n",
    "    \"\"\"\n",
    "    \n",
    "    ### get the current year\n",
    "    import datetime\n",
    "    now = datetime.datetime.now()\n",
    "    current_year = now.year\n",
    "    \n",
    "    ### calculate the numbers of years to go for completing century\n",
    "    years_to_go = 100-age\n",
    "    \n",
    "    return current_year + years_to_go\n",
    "\n",
    "name = input('Please Enter Your Name: ')\n",
    "age = int(input('Please Enter you Age: '))\n",
    "copies = int(input('How many copies would you like to print? '))\n",
    "\n",
    "while int(copies) > 0:\n",
    "    print(name,'will turn 100 in the year: ', hit_century(age), '\\n')\n",
    "    copies = copies - 1"
   ]
  },
  {
   "cell_type": "markdown",
   "metadata": {},
   "source": [
    "# Exercise 2\n",
    "\n",
    "Ask the user for a number. Depending on whether the number is even or odd, print out an appropriate message to the user. Hint: how does an even / odd number react differently when divided by 2?\n",
    "\n",
    "Extras:\n",
    "\n",
    "1. If the number is a multiple of 4, print out a different message.\n",
    "2. Ask the user for two numbers: one number to check (call it num) and one number to divide by (check). If check divides evenly into num, tell that to the user. If not, print a different appropriate message."
   ]
  },
  {
   "cell_type": "code",
   "execution_count": 1,
   "metadata": {
    "collapsed": false
   },
   "outputs": [
    {
     "name": "stdout",
     "output_type": "stream",
     "text": [
      "Please enter a number: 43\n",
      "The given number is Odd\n"
     ]
    }
   ],
   "source": [
    "number = input('Please enter a number: ')\n",
    "\n",
    "remainder = int(number)%2\n",
    "\n",
    "if remainder == 1:\n",
    "    print('The given number is Odd')\n",
    "else:\n",
    "    print('The given number is Even')\n",
    "\n",
    "remainder4 = int(number)%4\n",
    "\n",
    "### If the number is a multiple of 4, print out a different message\n",
    "if remainder4 == 0:\n",
    "    print('The given number is also a multiple of 4')"
   ]
  },
  {
   "cell_type": "markdown",
   "metadata": {},
   "source": [
    "# Exercise 3 (and Solution)\n",
    "\n",
    "Take a list, say for example this one:\n",
    "\n",
    "  a = [1, 1, 2, 3, 5, 8, 13, 21, 34, 55, 89]\n",
    "and write a program that prints out all the elements of the list that are less than 5.\n",
    "\n",
    "Extras:\n",
    "\n",
    "1. Instead of printing the elements one by one, make a new list that has all the elements less than 5 from this list in it and print out this new list.\n",
    "2. Write this in one line of Python.\n",
    "3. Ask the user for a number and return a list that contains only elements from the original list a that are smaller than that number given by the user."
   ]
  },
  {
   "cell_type": "code",
   "execution_count": 4,
   "metadata": {
    "collapsed": false
   },
   "outputs": [
    {
     "name": "stdout",
     "output_type": "stream",
     "text": [
      "1\n",
      "1\n",
      "2\n",
      "3\n",
      "[1, 1, 2, 3]\n",
      "[1, 1, 2, 3]\n",
      "Please input a number: 90\n",
      "Incorrect input. The number entered is larger than any number in the list\n"
     ]
    }
   ],
   "source": [
    "list = [1, 1, 2, 3, 5, 8, 13, 21, 34, 55, 89]\n",
    "new_list = []\n",
    "\n",
    "### print each element that is less than 5\n",
    "for i in list:\n",
    "    if i < 5:\n",
    "        print(i)\n",
    "\n",
    "### create a new list with elements less than 5 and print the list\n",
    "for i in list:\n",
    "    if i < 5:\n",
    "        new_list.append(i)\n",
    "print(new_list)\n",
    "\n",
    "### write this in one line of Python\n",
    "print([x for x in list if x < 5])\n",
    "\n",
    "### Ask the user for a number and return a list that contains only elements from \n",
    "### the original list a that are smaller than that number given by the user.\n",
    "user_input = input('Please input a number: ')\n",
    "\n",
    "if int(user_input) > max(list):\n",
    "    print('Incorrect input. The number entered is larger than any number in the list.')\n",
    "else:\n",
    "    print([x for x in list if x < int(user_input)])\n",
    "    "
   ]
  },
  {
   "cell_type": "markdown",
   "metadata": {},
   "source": [
    "# Exercise 4 (and Solution)\n",
    "\n",
    "Create a program that asks the user for a number and then prints out a list of all the divisors of that number. (If you don’t know what a divisor is, it is a number that divides evenly into another number. For example, 13 is a divisor of 26 because 26 / 13 has no remainder.)"
   ]
  },
  {
   "cell_type": "code",
   "execution_count": 10,
   "metadata": {
    "collapsed": false
   },
   "outputs": [
    {
     "name": "stdout",
     "output_type": "stream",
     "text": [
      "Please enter a number: 10\n",
      "5 is a divisor of 10\n",
      "2 is a divisor of 10\n",
      "[5, 2]\n"
     ]
    }
   ],
   "source": [
    "number = input('Please enter a number: ')\n",
    "\n",
    "# convert number from str to int\n",
    "number = int(number)\n",
    "\n",
    "# printing one divisor at a time\n",
    "i = 1\n",
    "while (number - i) > 1:\n",
    "    divisor = number - i\n",
    "    if (number%divisor == 0):\n",
    "        print(divisor, 'is a divisor of', number)\n",
    "    i = i+1\n",
    "    \n",
    "# printing a list of divisors\n",
    "divisor_list = []\n",
    "for i in range(1,number-1):\n",
    "    divisor = number-i\n",
    "    if (number%divisor == 0):\n",
    "        divisor_list.append(divisor)\n",
    "\n",
    "print(divisor_list)"
   ]
  },
  {
   "cell_type": "markdown",
   "metadata": {},
   "source": [
    "# Exercise 5 \n",
    "\n",
    "Take two lists, say for example these two:\n",
    "\n",
    "  a = [1, 1, 2, 3, 5, 8, 13, 21, 34, 55, 89]\n",
    "  b = [1, 2, 3, 4, 5, 6, 7, 8, 9, 10, 11, 12, 13]\n",
    "and write a program that returns a list that contains only the elements that are common between the lists (without duplicates). Make sure your program works on two lists of different sizes.\n",
    "\n",
    "Extras:\n",
    "\n",
    "1. Randomly generate two lists to test this\n",
    "2. Write this in one line of Python (don’t worry if you can’t figure this out at this point - we’ll get to it soon)"
   ]
  },
  {
   "cell_type": "code",
   "execution_count": 168,
   "metadata": {
    "collapsed": false
   },
   "outputs": [
    {
     "name": "stdout",
     "output_type": "stream",
     "text": [
      "The common elements between: \n",
      " [1, 1, 2, 3, 5, 8, 13, 21, 34, 55, 89] \n",
      "and\n",
      " [1, 2, 3, 4, 5, 6, 7, 8, 9, 10, 11, 12, 13] \n",
      "are: \n",
      " [1, 2, 3, 5, 8, 13]\n",
      "List1:  [18, 22, 44, 40, 77, 11, 28, 78, 27, 1]\n",
      "List2:  [6, 24, 37, 31, 75, 45, 68, 60, 15, 77]\n",
      "Common List:  [77]\n"
     ]
    }
   ],
   "source": [
    "list1 =  [1, 1, 2, 3, 5, 8, 13, 21, 34, 55, 89]\n",
    "list2 =  [1, 2, 3, 4, 5, 6, 7, 8, 9, 10, 11, 12, 13]\n",
    "\n",
    "# create new list which has only common elements\n",
    "common_list = []\n",
    "for x in list1:\n",
    "    if x in list2 and x not in common_list:\n",
    "        common_list.append(x)\n",
    "        \n",
    "# remove duplicates from common_list\n",
    "#for i in range(len(common_list)-1):\n",
    "#    if common_list[i] in common_list[i+1:]:\n",
    "#        del common_list[i]\n",
    "\n",
    "# output the common list without duplicates\n",
    "print('The common elements between:','\\n',list1,'\\nand\\n',list2,'\\nare: \\n',common_list)\n",
    "\n",
    "### Randomly generate two lists to test this\n",
    "import random\n",
    "random_list1 = [int(100*random.random()) for i in range(10)]\n",
    "random_list2 = [int(100*random.random()) for i in range(10)]\n",
    "list1 = random_list1    #comment this line if you want to use the initial list - list1\n",
    "list2 = random_list2    #comment this line if you want to use the initial list - list2\n",
    "\n",
    "### Write this in one line of Python\n",
    "common_list = [x for x in list1 if x in list2]\n",
    "# remove duplicates from common_list\n",
    "for i in range(len(common_list)-1):\n",
    "    if common_list[i] in common_list[i+1:]:\n",
    "        del common_list[i]\n",
    "# print the list\n",
    "print('List1: ', list1)\n",
    "print('List2: ', list2)\n",
    "print('Common List: ', common_list)"
   ]
  },
  {
   "cell_type": "markdown",
   "metadata": {},
   "source": [
    "# Exercise 6\n",
    "\n",
    "Ask the user for a string and print out whether this string is a palindrome or not. (A palindrome is a string that reads the same forwards and backwards.)"
   ]
  },
  {
   "cell_type": "code",
   "execution_count": 178,
   "metadata": {
    "collapsed": false
   },
   "outputs": [
    {
     "name": "stdout",
     "output_type": "stream",
     "text": [
      "Please enter a string: letter\n",
      "The entered string \"letter\" is not a palindrome\n"
     ]
    }
   ],
   "source": [
    "def is_palindrome(s):\n",
    "    \"\"\"(str) --> bool\n",
    "    \n",
    "    Returns True if and only if the string s is a palindrome (a string \n",
    "    that reads the same forwards and backwards). \n",
    "    \n",
    "    >>>is_palindrome('racecar')\n",
    "    True\n",
    "    >>>is_palindrome('letter')\n",
    "    False\n",
    "    >>>is_palindrome('deed')\n",
    "    True\n",
    "    \"\"\"\n",
    "    \n",
    "    length = len(s)\n",
    "    for i in range(length//2):\n",
    "        if s[i] != s[length-1-i]:\n",
    "            return False\n",
    "    \n",
    "    return True\n",
    "\n",
    "input_string = input('Please enter a string: ')\n",
    "if is_palindrome(input_string):\n",
    "    palindrome = 'a palindrome'\n",
    "else:\n",
    "    palindrome = 'not a palindrome'\n",
    "    \n",
    "print('The entered string \"' + input_string +'\" is', palindrome)"
   ]
  },
  {
   "cell_type": "markdown",
   "metadata": {
    "collapsed": true
   },
   "source": [
    "# Exercise 7 \n",
    "\n",
    "Let’s say I give you a list saved in a variable: a = [1, 4, 9, 16, 25, 36, 49, 64, 81, 100]. Write one line of Python that takes this list a and makes a new list that has only the even elements of this list in it."
   ]
  },
  {
   "cell_type": "code",
   "execution_count": 182,
   "metadata": {
    "collapsed": false
   },
   "outputs": [
    {
     "name": "stdout",
     "output_type": "stream",
     "text": [
      "The even elements from below list: \n",
      " [1, 4, 9, 16, 25, 36, 49, 64, 81, 100, 102, 88, 77, 66]\n",
      "are: \n",
      " [4, 16, 36, 64, 100, 102, 88, 66]\n"
     ]
    }
   ],
   "source": [
    "a = [1, 4, 9, 16, 25, 36, 49, 64, 81, 100, 102, 88, 77, 66]\n",
    "\n",
    "list_even = [x for x in a if x % 2 == 0]\n",
    "\n",
    "print('The even elements from below list: \\n',a)\n",
    "\n",
    "print('are: \\n', list_even)"
   ]
  },
  {
   "cell_type": "markdown",
   "metadata": {
    "collapsed": true
   },
   "source": [
    "# Exercise 8 (and Solution)\n",
    "\n",
    "Make a two-player Rock-Paper-Scissors game. (Hint: Ask for player plays (using input), compare them, print out a message of congratulations to the winner, and ask if the players want to start a new game)\n",
    "\n",
    "Remember the rules:\n",
    "\n",
    "1. Rock beats scissors\n",
    "2. Scissors beats paper\n",
    "3. Paper beats rock"
   ]
  },
  {
   "cell_type": "code",
   "execution_count": 22,
   "metadata": {
    "collapsed": false
   },
   "outputs": [
    {
     "name": "stdout",
     "output_type": "stream",
     "text": [
      "User1 - Please enter your choice (rock, paper or scissors): scissors\n",
      "User2 - Please enter your choice (rock, paper or scissors): paper\n",
      "User1 beats User2\n"
     ]
    }
   ],
   "source": [
    "# list of valid inputs for verification\n",
    "valid_strings = ['rock', 'paper', 'scissors']\n",
    "\n",
    "# Get valid inputs from the users\n",
    "invalid_input = True\n",
    "while invalid_input:\n",
    "    user1_input = input('User1 - Please enter your choice (rock, paper or scissors): ')\n",
    "    user1_input = user1_input.lower()\n",
    "    invalid_input = False\n",
    "    if user1_input not in valid_strings:\n",
    "        print('Please enter a valid input.')\n",
    "        invalid_input = True\n",
    "\n",
    "invalid_input = True\n",
    "while invalid_input:\n",
    "    user2_input = input('User2 - Please enter your choice (rock, paper or scissors): ')\n",
    "    user2_input = user2_input.lower()\n",
    "    invalid_input = False\n",
    "    if user2_input not in valid_strings:\n",
    "        print('Please enter a valid input.')\n",
    "        invalid_input = True\n",
    "\n",
    "# winning combinations\n",
    "win = [['rock','scissors'], ['scissors','paper'], ['paper','rock']]\n",
    "\n",
    "# loosing combinations\n",
    "loose = [['rock','paper'],['scissors','rock'],['paper','scissors']]\n",
    "\n",
    "if [user1_input, user2_input] in win:\n",
    "    print('User1 beats User2')\n",
    "elif [user1_input, user2_input] in loose:\n",
    "    print('User2 beats User1')\n",
    "else:\n",
    "    print('It is a tie!!')      \n",
    "        "
   ]
  },
  {
   "cell_type": "markdown",
   "metadata": {},
   "source": [
    "# Exercise 9\n",
    "\n",
    "Generate a random number between 1 and 9 (including 1 and 9). Ask the user to guess the number, then tell them whether they guessed too low, too high, or exactly right. (Hint: remember to use the user input lessons from the very first exercise)\n",
    "\n",
    "Extras:\n",
    "\n",
    "1. Keep the game going until the user types “exit”\n",
    "2. Keep track of how many guesses the user has taken, and when the game ends, print this out."
   ]
  },
  {
   "cell_type": "code",
   "execution_count": 143,
   "metadata": {
    "collapsed": false
   },
   "outputs": [
    {
     "name": "stdout",
     "output_type": "stream",
     "text": [
      "3\n",
      "Enter \"Exit\" anytime in the input to exit.\n",
      "Please guess a number between 1 and 9: 2\n",
      "Your guess was too low\n",
      "Please guess a number between 1 and 9: 3\n",
      "You guessed right!!\n",
      "No of total attempts: 2\n"
     ]
    }
   ],
   "source": [
    "# Generate a random number between 1 and 9\n",
    "import random\n",
    "random_num = random.random() \n",
    "\n",
    "# random.random() give a float between 0.0 to 1.0. The below code converts it to a number \n",
    "# between 1 and 9\n",
    "random_num = int(random_num*10)\n",
    "if random_num < 9:\n",
    "    random_num = random_num + 1\n",
    "    \n",
    "# other way to get a random number between a range\n",
    "random_num = random.randint(1,9) # random.randint(a,b) gives a random integer n such that a<= n <= b\n",
    "\n",
    "print(random_num)\n",
    "print('Enter \"Exit\" anytime in the input to exit.')\n",
    "\n",
    "# initiate the counter\n",
    "count = 0\n",
    "\n",
    "# while loop which will run untill the guess is right or user enters exit\n",
    "while True:\n",
    "    # Ask the user to guess a number\n",
    "    guess = input('Please guess a number between 1 and 9: ')\n",
    "    \n",
    "    # check if the user entered exit\n",
    "    if guess.lower() == 'exit':\n",
    "        print('No of total attempts:', count)\n",
    "        break\n",
    "    \n",
    "    # if user didn't eneterd exit increment the counter\n",
    "    count = count + 1\n",
    "    \n",
    "    # Check if the entered input is an integer between 1 and 9. if not print message.\n",
    "    if guess not in '123456789':\n",
    "        print('Please enter a valid input (number between 1 and 9 or \"Exit\").')\n",
    "        continue\n",
    "    elif random_num == int(guess):\n",
    "        print('You guessed right!!')\n",
    "        print('No of total attempts:', count)\n",
    "        break\n",
    "    elif random_num < int(guess):\n",
    "        print('Your guess was too high')\n",
    "    else:\n",
    "        print('Your guess was too low')\n",
    "\n",
    "    "
   ]
  },
  {
   "cell_type": "markdown",
   "metadata": {},
   "source": [
    "# Exercise 10\n",
    "\n",
    "This week’s exercise is going to be revisiting an old exercise (see Exercise 5), except require the solution in a different way.\n",
    "\n",
    "Take two lists, say for example these two:\n",
    "\n",
    "\ta = [1, 1, 2, 3, 5, 8, 13, 21, 34, 55, 89]\n",
    "\tb = [1, 2, 3, 4, 5, 6, 7, 8, 9, 10, 11, 12, 13]\n",
    "and write a program that returns a list that contains only the elements that are common between the lists (without duplicates). Make sure your program works on two lists of different sizes. Write this in one line of Python using at least one list comprehension. (Hint: Remember list comprehensions from Exercise 7).\n",
    "\n",
    "The original formulation of this exercise said to write the solution using one line of Python, but a few readers pointed out that this was impossible to do without using sets that I had not yet discussed on the blog, so you can either choose to use the original directive and read about the set command in Python 3.3, or try to implement this on your own and use at least one list comprehension in the solution.\n",
    "\n",
    "Extra:\n",
    "\n",
    "Randomly generate two lists to test this "
   ]
  },
  {
   "cell_type": "code",
   "execution_count": 27,
   "metadata": {
    "collapsed": false
   },
   "outputs": [
    {
     "name": "stdout",
     "output_type": "stream",
     "text": [
      "Common list using list comprehension: [38]\n",
      "Common List using sets: [38]\n",
      "Common List using sets: [38]\n"
     ]
    }
   ],
   "source": [
    "# Detailed info on sets: https://www.programiz.com/python-programming/set\n",
    "\n",
    "a = [1, 1, 2, 3, 5, 8, 13, 21, 34, 55, 89]\n",
    "b = [1, 2, 3, 4, 5, 6, 7, 8, 9, 10, 11, 12, 13]\n",
    "\n",
    "### Randomly generate two lists to test this\n",
    "import random\n",
    "random_list1 = [int(100*random.random()) for i in range(10)]\n",
    "random_list2 = [int(100*random.random()) for i in range(10)]\n",
    "a = random_list1    #comment this line if you want to use the initial list - list1\n",
    "b = random_list2    #comment this line if you want to use the initial list - list2\n",
    "\n",
    "# using list comprehension and sets\n",
    "common_list = [x for x in set(a) if x in b]\n",
    "print('Common list using list comprehension:',common_list)\n",
    "\n",
    "# using only sets - Method 1\n",
    "common_list_set = list(set(a).intersection(set(b)))\n",
    "print('Common List using sets:',common_list_set)\n",
    "\n",
    "# using only sets - Method 2\n",
    "common_list_set = list(set(a)&set(b))\n",
    "print('Common List using sets:',common_list_set)"
   ]
  },
  {
   "cell_type": "markdown",
   "metadata": {},
   "source": [
    "# Exercise 11\n",
    "\n",
    "Ask the user for a number and determine whether the number is prime or not. (For those who have forgotten, a prime number is a number that has no divisors.). You can (and should!) use your answer to Exercise 4 to help you."
   ]
  },
  {
   "cell_type": "code",
   "execution_count": 25,
   "metadata": {
    "collapsed": false
   },
   "outputs": [
    {
     "name": "stdout",
     "output_type": "stream",
     "text": [
      "Please enter a number: 43\n",
      "The given number 43 is prime.\n"
     ]
    }
   ],
   "source": [
    "#### create a function using the code in Exercise 4 to determine if \n",
    "# a number has divisors in other words if it is prime\n",
    "\n",
    "def is_prime(num):\n",
    "    \"\"\"(int) -> bool\n",
    "    \n",
    "    Returns True if and only if num has no divisor other than 1 and itself.\n",
    "    In other words it returns True if and only if num is a prime number.\n",
    "    \n",
    "    >>>is_prime(24)\n",
    "    True\n",
    "    >>>is_prime(13)\n",
    "    False\n",
    "    \"\"\"\n",
    "    for divisor in range(2,(num//2+1)):\n",
    "        if (num%divisor == 0):\n",
    "            return False\n",
    "        \n",
    "    return True\n",
    "\n",
    "# get a valid input from user\n",
    "invalid_input = True\n",
    "while invalid_input:\n",
    "    user_input = input('Please enter a number: ')\n",
    "    # check if the input is an integer\n",
    "    if user_input.isdigit():\n",
    "        invalid_input = False\n",
    "    else:\n",
    "        print(\"Invalid input.\")\n",
    "        \n",
    "# convert user_input from str to int\n",
    "user_input = int(user_input)\n",
    "\n",
    "if (is_prime(user_input)):\n",
    "    print(\"The given number %s is prime.\" % user_input)\n",
    "else:\n",
    "    print(\"The given number %s is not a prime number.\" % user_input)"
   ]
  },
  {
   "cell_type": "markdown",
   "metadata": {},
   "source": [
    "# Exercise 12\n",
    "\n",
    "Write a program that takes a list of numbers (for example, a = [5, 10, 15, 20, 25]) and makes a new list of only the first and last elements of the given list. For practice, write this code inside a function."
   ]
  },
  {
   "cell_type": "code",
   "execution_count": 3,
   "metadata": {
    "collapsed": false
   },
   "outputs": [
    {
     "name": "stdout",
     "output_type": "stream",
     "text": [
      "[1, 3]\n"
     ]
    }
   ],
   "source": [
    "# function to get the first and last element of a list\n",
    "def get_first_last(L):\n",
    "    \"\"\"(list) -> list\n",
    "    \n",
    "    Returns a list with first and last element of list L\n",
    "    \n",
    "    Pre-condition: The list L should have atleast 2 elements.\n",
    "    \n",
    "    >>>get_first_last([2,3, 5, 3 ,9])\n",
    "    [2,9]\n",
    "    >>>get_first_last([1,3])\n",
    "    [1,3]\n",
    "    \"\"\"\n",
    "    \n",
    "    return [L[0], L[-1]]\n",
    "\n",
    "print(get_first_last([1,3]))"
   ]
  },
  {
   "cell_type": "markdown",
   "metadata": {},
   "source": [
    "# Exercise 13\n",
    "\n",
    "Write a program that asks the user how many Fibonnaci numbers to generate and then generates them. Take this opportunity to think about how you can use functions. Make sure to ask the user to enter the number of numbers in the sequence to generate.(Hint: The Fibonnaci seqence is a sequence of numbers where the next number in the sequence is the sum of the previous two numbers in the sequence. The sequence looks like this: 1, 1, 2, 3, 5, 8, 13, …)"
   ]
  },
  {
   "cell_type": "code",
   "execution_count": 11,
   "metadata": {
    "collapsed": false
   },
   "outputs": [
    {
     "name": "stdout",
     "output_type": "stream",
     "text": [
      "Please enter the no. of elements to print from fibonacci series: 6\n",
      "[1, 1, 2, 3, 5, 8]\n"
     ]
    }
   ],
   "source": [
    "# write function to get a valid integer value from the user\n",
    "def get_valid_input():\n",
    "    \"\"\"() -> int\n",
    "    \n",
    "    Returns valid integer input from the user\n",
    "    \n",
    "    >>>get_valid_input()\n",
    "    integer\n",
    "    \"\"\"\n",
    "\n",
    "    # get a valid input from user\n",
    "    invalid_input = True\n",
    "    while invalid_input:\n",
    "        user_input = input('Please enter the no. of elements to print from fibonacci series: ')\n",
    "        # check if the input is an integer\n",
    "        if user_input.isdigit():\n",
    "            invalid_input = False\n",
    "        else:\n",
    "            print(\"Invalid input. Please enter a valid integer.\")\n",
    "            \n",
    "    return int(user_input)\n",
    "\n",
    "# write function to create fibonnaaci series\n",
    "def get_fibonnaci(i):\n",
    "    \"\"\"(int) -> list\n",
    "    \n",
    "    Returns a list of fibonnaci sequence with first i elements\n",
    "    \n",
    "    >>>get_fibonnaci(5)\n",
    "    [1,1,2,3,5]\n",
    "    >>>get_fibonnaci(3)\n",
    "    [1,1,2]\n",
    "    \"\"\"\n",
    "    fib = []\n",
    "    \n",
    "    for x in range(i):\n",
    "        if x < 2:\n",
    "            fib.append(1)\n",
    "        else:\n",
    "            fib.append((fib[x-2] + fib[x-1]))\n",
    "            \n",
    "    return fib\n",
    "\n",
    "# call functions get_valid_input to get the number of elements in fibonnaci series from user\n",
    "# pass on the input to function get_fibonacci to get the fibonnaci series\n",
    "print(get_fibonnaci(get_valid_input()))\n",
    "\n",
    "    "
   ]
  },
  {
   "cell_type": "code",
   "execution_count": 28,
   "metadata": {
    "collapsed": false
   },
   "outputs": [
    {
     "name": "stdout",
     "output_type": "stream",
     "text": [
      "None\n"
     ]
    }
   ],
   "source": [
    "def contains_item(L, s):\n",
    "    \"\"\" (list, object) -> bool\n",
    "\n",
    "    Return True if and only if s is an item of L.\n",
    "    \"\"\"\n",
    "\n",
    "    for item in L:\n",
    "        if item == s:\n",
    "            return True\n",
    "        else:\n",
    "            return False\n",
    "        \n",
    "print(contains_item([], 1))"
   ]
  },
  {
   "cell_type": "markdown",
   "metadata": {},
   "source": [
    "# Exercise 14 (and Solution)\n",
    "\n",
    "Write a program (function!) that takes a list and returns a new list that contains all the elements of the first list minus all the duplicates.\n",
    "\n",
    "Extras:\n",
    "\n",
    "1. Write two different functions to do this - one using a loop and constructing a list, and another using sets.\n",
    "2. Go back and do Exercise 5 using sets, and write the solution for that in a different function."
   ]
  },
  {
   "cell_type": "code",
   "execution_count": 2,
   "metadata": {
    "collapsed": false
   },
   "outputs": [
    {
     "name": "stdout",
     "output_type": "stream",
     "text": [
      "[1, 3, 4, 5]\n",
      "{1, 3, 4, 5}\n"
     ]
    }
   ],
   "source": [
    "# function that returns list with duplicates removed using loop\n",
    "def rem_dup(L):\n",
    "    \"\"\"(list) -> list\n",
    "    \n",
    "    Returns a list with all elements of list L but no duplicates. This function uses loops\n",
    "    \n",
    "    >>>rem_dup([1,1,3,4,5,5])\n",
    "    [1,3,4,5]\n",
    "    >>>rem_dup([1,2,3,4,5,6,6,6,6])\n",
    "    [1,2,3,4,5,6]\n",
    "    \"\"\"\n",
    "    list = []\n",
    "    for x in L:\n",
    "        if x not in list:\n",
    "            list.append(x)\n",
    "    return list\n",
    "\n",
    "# function that returns list with duplicates removed using sets\n",
    "def remove_dup(L):\n",
    "    \"\"\"(list) -> list\n",
    "    \n",
    "    Returns a list with all elements of list L but no duplicates. This function uses sets\n",
    "    \n",
    "    >>>remove_dup([1,1,3,4,5,5])\n",
    "    [1,3,4,5]\n",
    "    >>>remove_dup([1,2,3,4,5,6,6,6,6])\n",
    "    [1,2,3,4,5,6]\n",
    "    \"\"\"\n",
    "    return set(L)\n",
    "\n",
    "print(rem_dup([1,1,3,4,5,5]))\n",
    "print(remove_dup([1,1,3,4,5,5]))"
   ]
  },
  {
   "cell_type": "markdown",
   "metadata": {},
   "source": [
    "# Exercise 15 \n",
    "\n",
    "Write a program (using functions!) that asks the user for a long string containing multiple words. Print back to the user the same string, except with the words in backwards order. For example, say I type the string:\n",
    "\n",
    "  My name is Michele\n",
    "Then I would see the string:\n",
    "\n",
    "  Michele is name My\n",
    "shown back to me."
   ]
  },
  {
   "cell_type": "code",
   "execution_count": 4,
   "metadata": {
    "collapsed": false
   },
   "outputs": [
    {
     "name": "stdout",
     "output_type": "stream",
     "text": [
      "Please enter the long string you want to reverse: my name is lalit gupta\n",
      "The reversed string is: gupta lalit is name my\n"
     ]
    }
   ],
   "source": [
    "# function to return reverse of a long string by words\n",
    "def rev_string(s):\n",
    "    \"\"\"(str) -> str\n",
    "    \n",
    "    Returns a reversed string by word for given string s\n",
    "    \n",
    "    >>>rev_string('my name is lalit')\n",
    "    'lalit is name my'\n",
    "    >>>rev_string('test')\n",
    "    'test'\n",
    "    \"\"\"\n",
    "    split = s.split(\" \")\n",
    "    split.reverse()\n",
    "    return \" \".join(split)\n",
    "    \n",
    "# get the long string from user to be reversed\n",
    "usr_input = input('Please enter the long string you want to reverse: ')\n",
    "\n",
    "# print the output\n",
    "print(\"The reversed string is:\", rev_string(usr_input))\n"
   ]
  },
  {
   "cell_type": "markdown",
   "metadata": {},
   "source": [
    "# Exercise 16\n",
    "\n",
    "## Password Generator\n",
    "\n",
    "Write a password generator in Python. Be creative with how you generate passwords - strong passwords have a mix of lowercase letters, uppercase letters, numbers, and symbols. The passwords should be random, generating a new password every time the user asks for a new password. Include your run-time code in a main method.\n",
    "\n",
    "Extra:\n",
    "\n",
    "Ask the user how strong they want their password to be. For weak passwords, pick a word or two from a list. "
   ]
  },
  {
   "cell_type": "code",
   "execution_count": null,
   "metadata": {
    "collapsed": false
   },
   "outputs": [],
   "source": [
    "# function to generate new password\n",
    "def get_password(pwd_strength, valid_inputs):\n",
    "    \"\"\"(str, list of str) -> str\n",
    "    \n",
    "    Returns a different password everytime of length between 8 and 13 characters each of which are \n",
    "    a combination of lowercase letters, uppercase letters, numbers and symbols depending on the pwd_strength.\n",
    "    Where pwd_strength is an element of valid_inputs.\n",
    "    \n",
    "    Pre-condition: pwd_strength is an element of ['weak', 'medium', 'strong', 'very strong']\n",
    "    \n",
    "    >>>get_password('weak')\n",
    "    string of length 8 to 13 with only lower case letters.\n",
    "    >>>get_password('very strong')\n",
    "    string of length 8 to 13 with lower case, upper case, numbers and symbols\n",
    "    \"\"\"\n",
    "\n",
    "    # import library random\n",
    "    import random\n",
    "\n",
    "    # get the index of the option selected by user. we will use is later in the code to select\n",
    "    # the types that will be used for each one of them\n",
    "    strength = valid_inputs.index(pwd_strength) + 1\n",
    "\n",
    "    # randomly get the length of the password (a number between 8 and 13, both inclusive)\n",
    "    length = random.randint(8,13) # random.randint(a,b) gives a random integer n such that a<= n <= b\n",
    "\n",
    "    # initialize password\n",
    "    password = ''\n",
    "\n",
    "    # initialize letters\n",
    "    letters = 'abcdefghijklmnopqrstuvwxyz'\n",
    "\n",
    "    # initialize symbols (18 symbols)\n",
    "    symbols = '!@#$%^&*(){}|,./\\~'\n",
    "\n",
    "    while length > 0:\n",
    "        # get the next type of element for password\n",
    "        # 1 - lowecase letter\n",
    "        # 2 - uppercase letter\n",
    "        # 3 - number\n",
    "        # 4 - symbol\n",
    "        typ = random.randint(1,strength)\n",
    "        if typ == 1:\n",
    "            password = password + letters[random.randint(0,25)]\n",
    "        elif typ == 2:\n",
    "            password = password + letters[random.randint(0,25)].upper()\n",
    "        elif typ == 3:\n",
    "            password = password + str(random.randint(0,9))\n",
    "        else:\n",
    "            password = password + symbols[random.randint(0,17)]\n",
    "        length = length - 1\n",
    "\n",
    "    return password\n",
    "\n",
    "# ask user if they want a weak, medium, strong or very strong password\n",
    "# invalid_input = True\n",
    "# while invalid_input:\n",
    "#     usr_input = input(\"How strong password do you need? \")\n",
    "#     if usr_input.lower() in ['weak', 'medium', 'strong', 'very strong']:\n",
    "#         invalid_input = False\n",
    "#     else:\n",
    "#         print(\"Please provide a valid input: weak, medium, strong or very strong\")\n",
    "        \n",
    "\n",
    "        \n",
    "# run the code in a try and except code to capture any unexpected errors\n",
    "def main():\n",
    "    valid_inputs = ['weak', 'medium', 'strong', 'very strong']\n",
    "    while True:\n",
    "        try:\n",
    "            usr_input = input(\"How strong password do you need? \").lower()\n",
    "            if usr_input in valid_inputs:\n",
    "                print(\"The new password is: %s\" % get_password(usr_input, valid_inputs))\n",
    "                break;\n",
    "            else:\n",
    "                print(\"Please provide a valid input: %s\" % valid_inputs) \n",
    "        except:\n",
    "            print(\"Something went wrong...\")    \n",
    "    \n",
    "    \n",
    "if __name__ == '__main__' :\n",
    "    main()\n"
   ]
  },
  {
   "cell_type": "markdown",
   "metadata": {},
   "source": [
    "# Exercise 17 (and Solution)\n",
    "\n",
    "## Decode A Web Page    \n",
    "This is the first 4-chili exercise of this blog! We’ll see what people think, and decide whether or not to continue with 4-chili exercises in the future.\n",
    "\n",
    "\n",
    "\n",
    "Use the BeautifulSoup and requests Python packages to print out a list of all the article titles on the New York Times homepage.\n",
    "\n",
    "#### Discussion\n",
    "\n",
    "Concepts for this week:\n",
    "\n",
    "1. Libraries\n",
    "2. requests\n",
    "3. BeautifulSoup\n",
    "4. Libraries\n",
    "\n",
    "Many people have written libraries in Python that do not come with the standard distribution of Python (like the random library mentioned in a previous post). These libraries can do anything from machine learning to date and time formatting to meme generation. If you have a task you need done, most likely someone has written a library for it.\n",
    "\n",
    "There are three main things to keep in mind when using a library:\n",
    "\n",
    "You need to install it. Installation in GNU/Linux based systems will generally be easier than on Windows or OSX, but there will always be documentation for how to do it.\n",
    "You need to import it. At the top of your program, make sure you write the line import requests, or whatever the name of your library is. Then you can use it to your heart’s content.\n",
    "You need to read documentation. Someone else wrote it, so the rules might not be so obvious. Anyone (or any group) that writes a Python package writes documentation for it. Eventually, reading documentation will become second nature.\n",
    "Requests\n",
    "\n",
    "One of the most useful libraries written for Python recently, requests does “HTTP for humans.” What this means in laymen’s terms is that it asks the internet things from Python. When you type “facebook.com” into the browser, you are asking the internet to show you Facebook’s homepage.\n",
    "\n",
    "In the same way, a program can ask the internet something. It might not be “show me Facebook”, but you can for example ask Github for a list of all the repositories that the user “mprat” has. You can do this with an API (Application Programming Interface). This exercise doesn’t use APIs, so we’ll talk more about those in a later post.\n",
    "\n",
    "Back to showing the user a webpage. When I type “facebook.com” into the browser, Facebook sends my browser a bunch of HTML (basically, code for how the website looks). The browser then takes this HTML and shows it to me in a pretty way. (Fun fact: to see the HTML of any page in a browser, right click on the page and “Inspect Element” or “View Source” depending on your browser. In Chrome, “Inspect Element” will pop up a module at the bottom of your page where you can see the HTML from the page. This trick will come in handy when you’re doing the exercise. If you need to DO anything with this HTML, better to use a program. More posts about this coming later.) If I want to “see” a webpage with a program, all I need to do is ask it for it’s HTML and read it.\n",
    "\n",
    "The ‘requests’ library does half of that job: it asks (requests, if you will) a server for information. This could be just data (through an API - more later) or in the case of this exercise, HTML.\n",
    "\n",
    "Look at the documentation for all the details you need. In this particular latest version, all you need to do to ask a website for it’s HTML is:\n",
    "\n",
    "  import requests\n",
    "  url = 'http://github.com'\n",
    "  r = requests.get(url)\n",
    "  r_html = r.text\n",
    "Now inside the variable r_html, you have the HTML of the page as a string. Reading (otherwise called parsing) happens with a different Python package.\n",
    "\n",
    "#### BeautifulSoup\n",
    "\n",
    "To solve our problem of parsing (reading, understanding, interpreting) the string of HTML we got from requests, we use the BeautifulSoup library.\n",
    "\n",
    "What it does is give a hierarchical (a pyramid structure) to the HTML in the document. If you don’t know anything about HTML, the Wikipedia article is a good summary. For the purposes of this exercise, you don’t need to know anything about HTML beyond being able to look at it quickly.\n",
    "\n",
    "Because BeautifulSoup takes care of interpreting our HTML for us, we can ask it things like: “give me all the lines with <p> tags” or “find me the parent element to the <title> element”, etc.\n",
    "\n",
    "Your code would look something like this:\n",
    "\n",
    "  from bs4 import BeautifulSoup\n",
    "\n",
    "  # some requests code here for getting r_html \n",
    "\n",
    "  soup = BeautifulSoup(r_html)\n",
    "  title = soup.find('span', 'articletitle').string\n",
    "And you can do many more things in BeautifulSoup, but I will leave you to explore those by yourself or through other later exercises.\n",
    "\n",
    "Happy coding!"
   ]
  },
  {
   "cell_type": "code",
   "execution_count": 14,
   "metadata": {
    "collapsed": false
   },
   "outputs": [
    {
     "name": "stdout",
     "output_type": "stream",
     "text": [
      "Collecting beautifulsoup4\n",
      "  Downloading beautifulsoup4-4.6.0-py3-none-any.whl (86kB)\n",
      "\u001b[K    100% |████████████████████████████████| 92kB 2.1MB/s \n",
      "\u001b[?25hInstalling collected packages: beautifulsoup4\n",
      "Successfully installed beautifulsoup4-4.6.0\n"
     ]
    }
   ],
   "source": [
    "## Installing beautifulsoup4 package\n",
    "#! pip install beautifulsoup4"
   ]
  },
  {
   "cell_type": "code",
   "execution_count": null,
   "metadata": {
    "collapsed": true
   },
   "outputs": [],
   "source": [
    "# import requests library\n",
    "import requests\n",
    "\n",
    "# import beautifulsoup library\n",
    "from bs4 import BeautifulSoup"
   ]
  },
  {
   "cell_type": "code",
   "execution_count": 16,
   "metadata": {
    "collapsed": true
   },
   "outputs": [],
   "source": [
    "# set the website url to variable url\n",
    "url = 'https://www.nytimes.com/'"
   ]
  },
  {
   "cell_type": "code",
   "execution_count": 76,
   "metadata": {
    "collapsed": false
   },
   "outputs": [
    {
     "name": "stdout",
     "output_type": "stream",
     "text": [
      "The headings for today in New York Times are:\n",
      "1. Driver Is Charged as Investigators Look Into Terrorist Ties\n",
      "2. Trump Says He’ll Consider Sending Suspect to ‘Gitmo’\n",
      "3. Argentines on High School Reunion Bore Brunt of Attack\n",
      "4. New York Attack Turns Focus to Central Asian Militancy\n",
      "5. What We Know and Don’t Know About the Attack\n",
      "6. Trail of Terror in the Manhattan Truck Attack\n",
      "7. Truck Driver, Uber Driver, Then Terror Attack Suspect\n",
      "8. Police Officer Ended New York Rampage With 9 Bullets\n",
      "9. Manhattan Attack Is Called Terrorism. What About Vegas?\n",
      "10. Ongoing Trump Migraine: His Initial Foreign Policy Team\n",
      "11. Trump Calls Times to Deny Any Anger at Mueller Inquiry\n",
      "12. Andrew Weissmann, Legal Pit Bull, Is Unleashed in Inquiry\n",
      "13. Math Problem Bedevils Republican Tax Rewrite\n",
      "14. Delaying Release of Tax Bill Signals Trouble for G.O.P.\n",
      "15. Six Charts That Help Explain the Republican Tax Plan\n",
      "16. Senators Press Tech Executives but Split on Russia’s Influence\n",
      "17. The Social Media Senate Hearing: Latest Updates\n",
      "18. The Upside of Being Ruled by the Five Tech Giants\n",
      "19. \n",
      "                                    Big Music in Small Rooms: Throat Singing                            \n",
      "20. 10 Things to Know About Getting Into Your Dream College\n",
      "21. Revised Data Shows Community Colleges Have Been Overlooked\n",
      "22. Your Thursday Briefing\n",
      "23. California Today: A Story of Loss and Community in a Little Almond Tree\n",
      "24. \r\n",
      "      Listen to ‘The Daily’\r\n",
      "    \n",
      "25. When a Student Says, ‘I’m Not a Boy or a Girl’\n",
      "26. The Secret to Good Toast? It’s Your Freezer\n",
      "27. Can Democrats Fix a Party That Leaders Say Isn’t Broken?\n",
      "28. Fighting Climate Change and Drilling for Oil, Too\n",
      "29. Greta Gerwig’s Radical Confidence\n",
      "30. A Lesson From the Biggest Losers: Exercise Is Key\n",
      "31. The Storefront Artist Has Nothing to Hide but His Face\n",
      "32. Fed Leaves Interest Rate Unchanged as Leadership Switch Looms\n",
      "33. NPR News Editor Quits Amid Sexual Harassment Accusations\n",
      "34. New York Times Co. Reports Solid Digital Growth as Print Slides\n",
      "35. Sony’s Fortunes Improve, From Rising Profit to a Return for Aibo\n",
      "36. Many Academic Scientists Barred From Advising E.P.A.\n",
      "37. Morning Briefing: Australia Edition\n",
      "38. Morning Briefing: Asia Edition\n",
      "39. Morning Briefing: Europe Edition\n",
      "40. California Today\n",
      "41. Morning Briefing\n",
      "42. Australia to Ban Climbing on Uluru, a Site Sacred to Indigenous People\n",
      "43. Manus Island Refugees, Ordered to Leave Camp, Fear for Their Safety\n",
      "44. Out of Sixth Grade, and Straight to the Factory She Died In\n",
      "45. If You Missed Diwali in India, Try Dallas\n",
      "46. For Brands, Tiny Houses Are Big Marketing Tools\n",
      "47. The Roots’ Black Thought on Philadelphia Style\n",
      "48. Trump Loves ‘Fox & Friends.’ Here’s Why.\n",
      "49. A Terrorist Attack in Real America\n",
      "50. I Want ‘Allahu Akbar’ Back\n",
      "51. Editorial: After the Terror\n",
      "52. Douthat: Reformation Fallout\n",
      "53. Friedman: Trump, Niger and Connecting the Dots\n",
      "54. Let’s Waste College on the Old\n",
      "55. Panic. Then Vote.\n",
      "56. Rosenthal: Seven Bizarre Notions Trump and His Team Have About America\n",
      "57. Mueller Won’t Get to the Bottom of Russia’s Actions\n",
      "58. America Is Not a ‘Center-Right Nation’\n",
      "59. Australia’s Climate Change Lesson for the World\n",
      "60. From Hurricanes to Protest Movements, Food Is a Way In\n",
      "61. How to Report When the Science Is Sketchy\n",
      "62. From Hurricanes to Protest Movements, Food Is a Way In\n",
      "63. Play Today’s Puzzle \n",
      "64. Play Today’s Puzzle \n",
      "65. Sticking to the J Train, but Rerouting Dark Thoughts\n",
      "66. A Seed Artist Germinates History\n",
      "67. Catalonia Will Not Retreat\n",
      "68. Trying the Feldenkrais Method for Pain\n",
      "69. Here’s What You Need to Know About the iPhone X\n",
      "70. Glasses Are Cool. Why Aren’t Hearing Aids?\n",
      "71. Trick-or-Treating With My Disabled Son\n",
      "72. At 100, Thelonious Monk Gets a Hero’s Celebration\n",
      "73. The Crucial Role of World Series Losers\n",
      "74. Dreaming Without a Magic Wand\n",
      "75. Review: ‘The B-Side’ Is a Masterclass in Listening\n",
      "76. Let’s Waste College on the Old\n",
      "77. Interactive Feature: The Lost Children of Tuam\n",
      "78. \n",
      "            New York Attack Turns Focus to Central Asian Militancy        \n",
      "79. \n",
      "            News Analysis: China Blinks on South Korea, Making Nice After a Year of Hostilities        \n",
      "80. \n",
      "            State of the Art: The Upside of Being Ruled by the Five Tech Giants        \n",
      "81. \n",
      "            What’s the Economic Cost of Brexit? Pineapples Tell a Tale        \n",
      "82. \n",
      "            Bret Stephens: A Terrorist Attack in Real America        \n",
      "83. \n",
      "            Lindy West: Panic. Then Vote.        \n",
      "84. \n",
      "            Hartford Student Charged After Boasting About Contaminating Roommate’s Belongings        \n",
      "85. \n",
      "            How to Be a Smart Obamacare Shopper        \n",
      "86. \n",
      "            Tech Executives Are Contrite About Election Meddling, but Make Few Promises on Capitol Hill        \n",
      "87. \n",
      "            State of the Art: The Upside of Being Ruled by the Five Tech Giants        \n",
      "88. \n",
      "            Critic’s Notebook: Bob Dylan’s Songs for the Soul, Revisited and Redeemed        \n",
      "89. \n",
      "            Hidden Treasures of Nazis’ Art Dealer Finally Go on Display        \n",
      "90. \n",
      "            Senators Press Tech Executives but Split on Russia’s Role in Trump’s Win        \n",
      "91. \n",
      "            Math Problem Bedevils Republican Tax Rewrite        \n",
      "92. \n",
      "            The Last of Joan Rivers        \n",
      "93. \n",
      "            Russian Authorities Investigate 14-Year-Old Model’s Death        \n",
      "94. \n",
      "            Luke Skywalker Speaks        \n",
      "95. \n",
      "            Kahlil Joseph’s New Film Is Steeped in Harlem’s History. And His Own.        \n",
      "96. \n",
      "            What We Know and Don’t Know About the Manhattan Terror Attack        \n",
      "97. \n",
      "            Terror Attack Kills 8 and Injures 11 in Manhattan        \n",
      "98. \n",
      "            On Soccer: In Praise of Soccer’s Jack-of-All-Trades, Now Making a Comeback        \n",
      "99. \n",
      "            A Dodger Steps Back as Fans Deliver Their Own World Series Justice        \n",
      "100. \n",
      "            5 Shows to See if You’re in New York in November        \n",
      "101. \n",
      "            ‘Moulin Rouge! The Musical’ to Open in Boston With Broadway Hopes        \n",
      "102. \n",
      "            Trilobites: When This Sea Slug Eats, It Prefers the Turducken of the Sea        \n",
      "103. \n",
      "            Trilobites: Teaching Bats to Say ‘Move Out of My Way’ in Many Dialects        \n",
      "104. \n",
      "            June Robles Birt, Whose Abduction at 6 Gripped the Nation, Is Dead at 87        \n",
      "105. \n",
      "            Peter Schutz, Executive Who Saved a Signature Porsche, Dies at 87        \n",
      "106. \n",
      "            The First Time: Maria Bamford: The First Time Someone Loved Me for Who I Really Am        \n",
      "107. \n",
      "            A Word With: ‘Stranger Things 2’: Pixar’s Andrew Stanton on Directing 2 Episodes        \n",
      "108. \n",
      "            How to Be a Smart Obamacare Shopper        \n",
      "109. \n",
      "            A Lesson From the Biggest Losers: Exercise Keeps Off the Weight        \n",
      "110. \n",
      "            Q&A: Frank Stella’s Favorite Cities for Art        \n",
      "111. \n",
      "            Chasing the Deal: Traveling to Portugal? Consider the Off-Season        \n",
      "112. \n",
      "            Profile: Hilde Lysiak, Reporter, Author, 10-Year-Old        \n",
      "113. \n",
      "            Books of The Times: Vivian Maier, Through a Clearer Lens        \n",
      "114. \n",
      "            10 Things to Know About Getting Into Your Dream College        \n",
      "115. \n",
      "            Where the STEM Jobs Are (and Where They Aren’t)        \n",
      "116. \n",
      "            If You Missed Diwali in India, Dallas Is the Place to Be        \n",
      "117. \n",
      "            José Andrés Fed Puerto Rico, and May Change How Aid Is Given        \n",
      "118. \n",
      "            The Food Issue: The Evening-in-Paris Dinner        \n",
      "119. \n",
      "            Feature: Greta Gerwig’s Radical Confidence        \n",
      "120. \n",
      "            International Real Estate: House Hunting in ... Ottawa        \n",
      "121. \n",
      "            What You Get: $450,000 Homes in Massachusetts, Oklahoma and Wisconsin        \n",
      "122. \n",
      "            How to Be a Smart Obamacare Shopper        \n",
      "123. \n",
      "            Revised Data Shows Community Colleges Have Been Underappreciated        \n",
      "124. \n",
      "            What We’re Reading        \n",
      "125. \n",
      "            How to Report When the Science Is Sketchy        \n",
      "126. \n",
      "            Subaru Admits Inspection Failings, in Another Blow to Japan’s Carmakers        \n",
      "127. \n",
      "            Cost of Volkswagen Scandal Could Hurt Company’s Electric Vehicle Push        \n",
      "128. \n",
      "            The Illustrated Interview: William Wegman        \n",
      "129. \n",
      "            The Feminist Pioneers Making Provocative Art About Sex        \n",
      "130. A Modernist Box Among the Victorians\n",
      "131. Search for Homes for Sale or Rent\n",
      "132. Mortgage Calculator\n"
     ]
    }
   ],
   "source": [
    "### Approach # 1\n",
    "\n",
    "#put the code in exception handling block\n",
    "try:\n",
    "    r = requests.get(url)\n",
    "    r_html = r.text\n",
    "    soup = BeautifulSoup(r_html, \"lxml\")\n",
    "    # get all the h2 tags where class is \"story-heading\"\n",
    "    title = soup.find_all(\"h2\", class_=\"story-heading\")\n",
    "    \n",
    "    # for each h2 tag get the string for the h2 tag; if the h2 tag string returns None get the a tag string.\n",
    "    # store the headings in list 'headings'. Initialize headings.\n",
    "    headings = []\n",
    "    for header in title:\n",
    "        temp = BeautifulSoup(str(header), \"lxml\")\n",
    "        heading = temp.h2.string\n",
    "        if heading is None:\n",
    "            heading = temp.a.string\n",
    "        headings.append(heading)\n",
    "except:\n",
    "    print(\"Something went wrong...\")\n",
    "    \n",
    "# print the headings one by one.        \n",
    "print(\"The headings for today in New York Times are:\")\n",
    "for i in range(len(headings)):\n",
    "    print(\"%s. %s\" % (i+1, headings[i]))"
   ]
  },
  {
   "cell_type": "code",
   "execution_count": 102,
   "metadata": {
    "collapsed": false
   },
   "outputs": [
    {
     "name": "stdout",
     "output_type": "stream",
     "text": [
      "The headings for today in New York Times are:\n",
      "1. Driver Is Charged; Terror Ties Investigated\n",
      "2. Officials Locate a Second Man Sought for Questioning\n",
      "3. Trump Says He’ll Consider Sending Suspect to ‘Gitmo’\n",
      "4. Argentines on High School Reunion Bore Brunt of Attack\n",
      "5. New York Attack Turns Focus to Central Asian Militancy\n",
      "6. What We Know and Don’t Know About the Attack\n",
      "7. Trail of Terror in the Manhattan Truck Attack\n",
      "8. Truck Driver, Uber Driver, Then Terror Attack Suspect\n",
      "9. Police Officer Ended New York Rampage With 9 Bullets\n",
      "10. Manhattan Attack Is Called Terrorism. What About Vegas?\n",
      "11. Readers Debate What Is, or Isn’t, Terrorism\n",
      "12. Ongoing Trump Migraine: His Initial Foreign Policy Team\n",
      "13. Trump Calls Times to Deny Any Anger at Mueller Inquiry\n",
      "14. Andrew Weissmann, Legal Pit Bull, Is Unleashed in Inquiry\n",
      "15. Math Problem Bedevils Republican Tax Rewrite\n",
      "16. Delaying Release of Tax Bill Signals Trouble for G.O.P.\n",
      "17. Six Charts That Help Explain the Republican Tax Plan\n",
      "18. Senators Press Tech Executives but Split on Russia’s Influence\n",
      "19. The Social Media Senate Hearing: Latest Updates\n",
      "20. The Upside of Being Ruled by the Five Tech Giants\n",
      "21. Big Music in Small Rooms: Throat Singing\n",
      "22. The Last of Joan Rivers\n",
      "23. Your Evening Briefing\n",
      "24. Your Thursday Briefing\n",
      "25. California Today: A Story of Loss and Community in a Little Almond Tree\n",
      "26. Listen to ‘The Daily’\n",
      "27. When a Student Says, ‘I’m Not a Boy or a Girl’\n",
      "28. The Secret to Good Toast? It’s Your Freezer\n",
      "29. Can Democrats Fix a Party That Leaders Say Isn’t Broken?\n",
      "30. Fighting Climate Change and Drilling for Oil, Too\n",
      "31. Greta Gerwig’s Radical Confidence\n",
      "32. Where the STEM Jobs Are (and Where They Aren’t)\n",
      "33. The Storefront Artist Has Nothing to Hide but His Face\n",
      "34. U.K. Defense Secretary Quits Over Inappropriate Conduct\n",
      "35. Fed Leaves Interest Rate Unchanged as Leadership Switch Looms\n",
      "36. NPR News Editor Quits Amid Sexual Harassment Accusations\n",
      "37. New York Times Co. Reports Solid Digital Growth as Print Slides\n",
      "38. Sony’s Fortunes Improve, From Rising Profit to a Return for Aibo\n",
      "39. Morning Briefing: Australia Edition\n",
      "40. Morning Briefing: Asia Edition\n",
      "41. Morning Briefing: Europe Edition\n",
      "42. California Today\n",
      "43. Morning Briefing\n",
      "44. Australia Has a Climate Change Lesson for the World\n",
      "45. Australia to Ban Climbing on Uluru, a Site Sacred to Indigenous People\n",
      "46. Manus Island Refugees, Ordered to Leave Camp, Fear for Their Safety\n",
      "47. Hidden Treasures of Nazi Art Dealer Go on Display\n",
      "48. When a Stranger Stumbles Into Your Home\n",
      "49. The Roots’ Black Thought on Philadelphia Style\n",
      "50. Trump Loves ‘Fox & Friends.’ Here’s Why.\n",
      "51. I Want ‘Allahu Akbar’ Back\n",
      "52. Douthat: Reformation Fallout\n",
      "53. Friedman: Trump, Niger and Connecting the Dots\n",
      "54. Mueller Won’t Get to the Bottom of Russia’s Actions\n",
      "55. America Is Not a ‘Center-Right Nation’\n",
      "56. Australia’s Climate Change Lesson for the World\n",
      "57. Let’s Waste College on the Old\n",
      "58. Panic. Then Vote.\n",
      "59. Rosenthal: Seven Bizarre Notions Trump and His Team Have About America\n",
      "60. Stephens: A Terrorist Attack in Real America\n",
      "61. From Hurricanes to Protest Movements, Food Is a Way In\n",
      "62. How to Report When the Science Is Sketchy\n",
      "63. From Hurricanes to Protest Movements, Food Is a Way In\n",
      "64. Play Today’s Puzzle\n",
      "65. Play Today’s Puzzle\n",
      "66. Sticking to the J Train, but Rerouting Dark Thoughts\n",
      "67. A Seed Artist Germinates History\n",
      "68. Catalonia Will Not Retreat\n",
      "69. Corals May Have a Taste for Dangerous Plastic\n",
      "70. Here’s What You Need to Know About the iPhone X\n",
      "71. Glasses Are Cool. Why Aren’t Hearing Aids?\n",
      "72. How a 672,000-Gallon Oil Spill Was Nearly Invisible\n",
      "73. At 100, Thelonious Monk Gets a Hero’s Celebration\n",
      "74. The Crucial Role of World Series Losers\n",
      "75. Dreaming Without a Magic Wand\n",
      "76. Review: ‘The B-Side’ Is a Masterclass in Listening\n",
      "77. Let’s Waste College on the Old\n",
      "78. Interactive Feature: The Lost Children of Tuam\n",
      "79. Argentines on High School Reunion Bore Brunt of New York Attack\n",
      "80. New York Attack Turns Focus to Central Asian Militancy\n",
      "81. News Analysis: China Blinks on South Korea, Making Nice After a Year of Hostilities\n",
      "82. Fed Lets Interest Rate Stand Ahead of Powell Nomination as Chairman\n",
      "83. State of the Art: The Upside of Being Ruled by the Five Tech Giants\n",
      "84. What’s the Economic Cost of Brexit? Pineapples Tell a Tale\n",
      "85. Trump Loves ‘Fox & Friends.’ Here’s Why.\n",
      "86. Bret Stephens: A Terrorist Attack in Real America\n",
      "87. Lindy West: Panic. Then Vote.\n",
      "88. Ongoing Trump Migraine: His Initial Foreign Policy Team\n",
      "89. Hartford Student Charged After Boasting About Contaminating Roommate’s Belongings\n",
      "90. How to Be a Smart Obamacare Shopper\n",
      "91. Tech Fix: The iPhone X Is Cool. That Doesn’t Mean You Are Ready for It.\n",
      "92. State of the Art: The Upside of Being Ruled by the Five Tech Giants\n",
      "93. Senators Press Tech Executives but Split on Russia’s Role in Trump’s Win\n",
      "94. The Tear-Stained Confessions of Sam Smith\n",
      "95. Review: ‘Thor: Ragnarok,’ of Gods, Monsters and Silly Jokes\n",
      "96. Critic’s Notebook: Bob Dylan’s Songs for the Soul, Revisited and Redeemed\n",
      "97. In Call With Times Reporter, Trump Projects Air of Calm Over Charges\n",
      "98. Senators Press Tech Executives but Split on Russia’s Role in Trump’s Win\n",
      "99. Math Problem Bedevils Republican Tax Rewrite\n",
      "100. Yes, Breitbart News Has a Fashion Critic\n",
      "101. The Last of Joan Rivers\n",
      "102. Russian Authorities Investigate 14-Year-Old Model’s Death\n",
      "103. Review: ‘Thor: Ragnarok,’ of Gods, Monsters and Silly Jokes\n",
      "104. Review: Greta Gerwig’s ‘Lady Bird’ Is Big-Screen Perfection\n",
      "105. Luke Skywalker Speaks\n",
      "106. Authorities Locate Second Man Sought in Connection With Manhattan Attack\n",
      "107. What We Know and Don’t Know About the Manhattan Terror Attack\n",
      "108. Terror Attack Kills 8 and Injures 11 in Manhattan\n",
      "109. Want to See Some Curling? Ticket Sales Tepid for Pyeongchang Olympics\n",
      "110. World Series 2017: Dodgers vs. Astros Game 7 Live Updates\n",
      "111. On Soccer: In Praise of Soccer’s Jack-of-All-Trades, Now Making a Comeback\n",
      "112. Broadway’s Comic Chameleon Writes a Heartfelt New Tune\n",
      "113. 5 Shows to See if You’re in New York in November\n",
      "114. ‘Moulin Rouge! The Musical’ to Open in Boston With Broadway Hopes\n",
      "115. Trilobites: Ancient Fossil Offers a New European Ancestor to Giraffes\n",
      "116. Trilobites: When This Sea Slug Eats, It Prefers the Turducken of the Sea\n",
      "117. Trilobites: Teaching Bats to Say ‘Move Out of My Way’ in Many Dialects\n",
      "118. Muhal Richard Abrams, 87, Individualistic Pianist and Composer, Is Dead\n",
      "119. June Robles Birt, Whose Abduction at 6 Gripped the Nation, Is Dead at 87\n",
      "120. Linda Nochlin, 86, Groundbreaking Feminist Art Historian, Is Dead\n",
      "121. ‘Stranger Things’ Season 2: Finished Watching? Let’s Talk\n",
      "122. The First Time: Maria Bamford: The First Time Someone Loved Me for Who I Really Am\n",
      "123. A Word With: ‘Stranger Things 2’: Pixar’s Andrew Stanton on Directing 2 Episodes\n",
      "124. As Open Enrollment for Obamacare Begins, Confusion Reigns\n",
      "125. How to Be a Smart Obamacare Shopper\n",
      "126. A Lesson From the Biggest Losers: Exercise Keeps Off the Weight\n",
      "127. Road Trip: How I Rolled on the Crescent: New York to New Orleans by Rail\n",
      "128. Q&A: Frank Stella’s Favorite Cities for Art\n",
      "129. Chasing the Deal: Traveling to Portugal? Consider the Off-Season\n",
      "130. Books of The Times: Walter Isaacson’s ‘Leonardo da Vinci’ Is the Portrait of a Real Renaissance Man\n",
      "131. Profile: Hilde Lysiak, Reporter, Author, 10-Year-Old\n",
      "132. Books of The Times: Vivian Maier, Through a Clearer Lens\n",
      "133. What to Do When an Inebriated Stranger Stumbles Into Your Home?\n",
      "134. Where the STEM Jobs Are (and Where They Aren’t)\n",
      "135. What Colleges Want in an Applicant (Everything)\n",
      "136. Restaurant Review: Momofuku Ssam Bar Keeps Evolving Under a Singaporean Chef\n",
      "137. If You Missed Diwali in India, Dallas Is the Place to Be\n",
      "138. José Andrés Fed Puerto Rico, and May Change How Aid Is Given\n",
      "139. Feature: A Post-Obama Democratic Party in Search of Itself\n",
      "140. The Food Issue: The Evening-in-Paris Dinner\n",
      "141. Feature: Greta Gerwig’s Radical Confidence\n",
      "142. Living In: Greenwich Village: Once Offbeat, Now Upscale\n",
      "143. International Real Estate: House Hunting in ... Ottawa\n",
      "144. What You Get: $450,000 Homes in Massachusetts, Oklahoma and Wisconsin\n",
      "145. The New Health Care: Just Say No to Opioids? Ads Could Actually Make Things Worse\n",
      "146. How to Be a Smart Obamacare Shopper\n",
      "147. Revised Data Shows Community Colleges Have Been Underappreciated\n",
      "148. From Hurricanes to Protest Movements, Food Is a Way In\n",
      "149. What We’re Reading\n",
      "150. How to Report When the Science Is Sketchy\n",
      "151. Wheels: Forgetting a Child in a Back Seat Can Kill. Cars May Soon Warn You.\n",
      "152. Subaru Admits Inspection Failings, in Another Blow to Japan’s Carmakers\n",
      "153. Cost of Volkswagen Scandal Could Hurt Company’s Electric Vehicle Push\n",
      "154. Wanderlust: Where to Relax (and What to Eat) in Formentera\n",
      "155. The Feminist Pioneers Making Provocative Art About Sex\n",
      "156. Paris’s Best Chocolates: A Guide\n",
      "157. Greenwich Village: Once Offbeat, Now Upscale\n",
      "158. Search for Homes for Sale or Rent\n",
      "159. Mortgage Calculator\n"
     ]
    }
   ],
   "source": [
    "### Approach # 2\n",
    "\n",
    "#put the code in exception handling block\n",
    "try:\n",
    "    r = requests.get(url)\n",
    "    r_html = r.text\n",
    "    soup = BeautifulSoup(r_html, \"lxml\")\n",
    "    \n",
    "    # initialize headings\n",
    "    headings = []\n",
    "    \n",
    "    # get all the tags where class is \"story-heading\"\n",
    "    for story_heading in soup.find_all(class_=\"story-heading\"): \n",
    "        # check if the tag has an 'a' tag in html. \n",
    "        # if present get the text, clean it and append to headings.\n",
    "        if story_heading.a: \n",
    "            headings.append(story_heading.a.text.replace(\"\\n\", \" \").strip())\n",
    "        # if 'a' tag is not present, clean and add the contents to headings\n",
    "        else: \n",
    "            headings.append(story_heading.contents[0].strip()) \n",
    "\n",
    "except:\n",
    "    print(\"Something went wrong...\")\n",
    "    \n",
    "# print the headings one by one.        \n",
    "print(\"The headings for today in New York Times are:\")\n",
    "for i in range(len(headings)):\n",
    "    print(\"%s. %s\" % (i+1, headings[i]))"
   ]
  },
  {
   "cell_type": "markdown",
   "metadata": {},
   "source": [
    "# Exercise 18 (and Solution)\n",
    "\n",
    "Create a program that will play the “cows and bulls” game with the user. The game works like this:\n",
    "\n",
    "Randomly generate a 4-digit number. Ask the user to guess a 4-digit number. For every digit that the user guessed correctly in the correct place, they have a “cow”. For every digit the user guessed correctly in the wrong place is a “bull.” Every time the user makes a guess, tell them how many “cows” and “bulls” they have. Once the user guesses the correct number, the game is over. Keep track of the number of guesses the user makes throughout teh game and tell the user at the end.\n",
    "\n",
    "Say the number generated by the computer is 1038. An example interaction could look like this:\n",
    "\n",
    "Welcome to the Cows and Bulls Game! \n",
    "Enter a number: \n",
    "#>>> 1234\n",
    "#2 cows, 0 bulls\n",
    "#>>> 1256\n",
    "#1 cow, 1 bull\n",
    "...\n",
    "Until the user guesses the number."
   ]
  },
  {
   "cell_type": "code",
   "execution_count": 6,
   "metadata": {
    "collapsed": true
   },
   "outputs": [],
   "source": [
    "# import random library\n",
    "import random"
   ]
  },
  {
   "cell_type": "code",
   "execution_count": 9,
   "metadata": {
    "collapsed": false
   },
   "outputs": [
    {
     "data": {
      "text/plain": [
       "(1, 1)"
      ]
     },
     "execution_count": 9,
     "metadata": {},
     "output_type": "execute_result"
    }
   ],
   "source": [
    "# create a function to get the number of cows and bulls\n",
    "def cows_and_bulls(guess, answer):\n",
    "    \"\"\"(int, int) -> (int, int)\n",
    "    \n",
    "    Returns a tupple of two integers. The first integer is the number of digits \n",
    "    guess has in common with answer and are in the same place. The second integer \n",
    "    is the number of digits guess has in common with answer but are not in the same place.\n",
    "    \n",
    "    Pre-condition: len(str(guess)) == len(str(answer))\n",
    "    \n",
    "    >>>cows_and_bulls(3452,3092)\n",
    "    [2,0]\n",
    "    >>>cows_and_bulls(1024, 3092)\n",
    "    [1,1]\n",
    "    \"\"\"\n",
    "    #initialize cows and bulls\n",
    "    cows = 0\n",
    "    bulls = 0\n",
    "    \n",
    "    #convert guess and answer to str for easy comparison\n",
    "    guess = str(guess)\n",
    "    answer = str(answer)\n",
    "    \n",
    "    for i in range(len(guess)):\n",
    "        if guess[i] == answer[i]:\n",
    "            cows = cows+1\n",
    "        elif guess[i] in answer:\n",
    "            bulls = bulls+1\n",
    "            \n",
    "    return (cows, bulls)\n",
    "cows_and_bulls(1024, 3092)"
   ]
  },
  {
   "cell_type": "code",
   "execution_count": 13,
   "metadata": {
    "collapsed": false
   },
   "outputs": [
    {
     "name": "stdout",
     "output_type": "stream",
     "text": [
      "Welcome to the cows and bulls game!!\n",
      "For each guess you will get the cows and bulls.\n",
      "The game will continue untill the correct number is guessed.\n",
      "If you want to quit anytime, enter exit.\n",
      "Please enter a 4 digit number: 1234\n",
      "1234 3545\n",
      "Cows: 0, Bulls: 2\n",
      "Please enter a 4 digit number: 5678\n",
      "5678 3545\n",
      "Cows: 0, Bulls: 1\n",
      "Please enter a 4 digit number: 3535\n",
      "3535 3545\n",
      "Cows: 3, Bulls: 1\n",
      "Please enter a 4 digit number: 3545\n",
      "3545 3545\n",
      "Cows: 4, Bulls: 0\n",
      "Congratulations!! Your guess is write. You took 4 attemps for this\n"
     ]
    }
   ],
   "source": [
    "# get a random 4 digit number\n",
    "answer = random.randint(1000,9999)\n",
    "\n",
    "print(\"Welcome to the cows and bulls game!!\")\n",
    "print(\"For each guess you will get the cows and bulls.\")\n",
    "print(\"The game will continue untill the correct number is guessed.\")\n",
    "print(\"If you want to quit anytime, enter exit.\")\n",
    "\n",
    "# initialize counter\n",
    "counter = 0\n",
    "invalid_input = True\n",
    "while invalid_input:\n",
    "    usr_input = input(\"Please enter a 4 digit number: \")\n",
    "    \n",
    "    # if user enters exit, stop the game\n",
    "    if usr_input.lower() == 'exit':\n",
    "        print(\"You have quit the game. So far you made %s guess.\" %counter)\n",
    "        invalid_input = False\n",
    "        \n",
    "    # if the entered input is valid, call the function cows_and_bulls and increment the counter\n",
    "    elif usr_input.isdigit() and len(usr_input) == 4:\n",
    "        guess = int(usr_input)\n",
    "        \n",
    "        # activate below code to debug\n",
    "        # print(guess, answer)\n",
    "        \n",
    "        print(\"Cows: %s, Bulls: %s\" % (cows_and_bulls(guess,answer)))\n",
    "        counter = counter+1\n",
    "        \n",
    "        # if guess is right, end the game.\n",
    "        if guess == answer:\n",
    "            print(\"Congratulations!! Your guess is write. You took %s attemps for this\" %counter)\n",
    "            invalid_input = False\n",
    "            \n",
    "    # if the input is not valid show appropriate message.\n",
    "    else:\n",
    "        print(\"Incorrect input. Please try again.\")\n",
    "\n"
   ]
  },
  {
   "cell_type": "code",
   "execution_count": null,
   "metadata": {
    "collapsed": true
   },
   "outputs": [],
   "source": []
  }
 ],
 "metadata": {
  "anaconda-cloud": {},
  "kernelspec": {
   "display_name": "Python 3",
   "language": "python",
   "name": "python3"
  },
  "language_info": {
   "codemirror_mode": {
    "name": "ipython",
    "version": 3
   },
   "file_extension": ".py",
   "mimetype": "text/x-python",
   "name": "python",
   "nbconvert_exporter": "python",
   "pygments_lexer": "ipython3",
   "version": "3.5.2"
  },
  "widgets": {
   "state": {},
   "version": "1.1.2"
  }
 },
 "nbformat": 4,
 "nbformat_minor": 0
}
