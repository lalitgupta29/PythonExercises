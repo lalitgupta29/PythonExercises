{
 "cells": [
  {
   "cell_type": "markdown",
   "metadata": {},
   "source": [
    "# Exercise 1\n",
    "\n",
    "Create a program that asks the user to enter their name and their age. Print out a message addressed to them that tells them the year that they will turn 100 years old.\n",
    "\n",
    "Extras:\n",
    "\n",
    "1. Add on to the previous program by asking the user for another number and printing out that many copies of the previous message. (Hint: order of operations exists in Python)\n",
    "2. Print out that many copies of the previous message on separate lines. (Hint: the string \"\\n is the same as pressing the ENTER button)"
   ]
  },
  {
   "cell_type": "code",
   "execution_count": 11,
   "metadata": {
    "collapsed": false
   },
   "outputs": [
    {
     "name": "stdout",
     "output_type": "stream",
     "text": [
      "Please Enter Your Name: Lalit\n",
      "Please Enter you Age: 33\n",
      "How many copies would you like to print? 2\n",
      "Lalit will turn 100 in the year:  2084 \n",
      "\n",
      "Lalit will turn 100 in the year:  2084 \n",
      "\n"
     ]
    }
   ],
   "source": [
    "def hit_century(age):\n",
    "    \"\"\"(int) --> int\n",
    "\n",
    "    Returns the year when the person who has given age turns 100.\n",
    "    \n",
    "    >>>hit_century(33)\n",
    "    2084\n",
    "    >>>hit_century(3)\n",
    "    2114\n",
    "    \"\"\"\n",
    "    \n",
    "    ### get the current year\n",
    "    import datetime\n",
    "    now = datetime.datetime.now()\n",
    "    current_year = now.year\n",
    "    \n",
    "    ### calculate the numbers of years to go for completing century\n",
    "    years_to_go = 100-age\n",
    "    \n",
    "    return current_year + years_to_go\n",
    "\n",
    "name = input('Please Enter Your Name: ')\n",
    "age = int(input('Please Enter you Age: '))\n",
    "copies = int(input('How many copies would you like to print? '))\n",
    "\n",
    "while int(copies) > 0:\n",
    "    print(name,'will turn 100 in the year: ', hit_century(age), '\\n')\n",
    "    copies = copies - 1"
   ]
  },
  {
   "cell_type": "markdown",
   "metadata": {},
   "source": [
    "# Exercise 2\n",
    "\n",
    "Ask the user for a number. Depending on whether the number is even or odd, print out an appropriate message to the user. Hint: how does an even / odd number react differently when divided by 2?\n",
    "\n",
    "Extras:\n",
    "\n",
    "1. If the number is a multiple of 4, print out a different message.\n",
    "2. Ask the user for two numbers: one number to check (call it num) and one number to divide by (check). If check divides evenly into num, tell that to the user. If not, print a different appropriate message."
   ]
  },
  {
   "cell_type": "code",
   "execution_count": 2,
   "metadata": {
    "collapsed": false
   },
   "outputs": [
    {
     "name": "stdout",
     "output_type": "stream",
     "text": [
      "Please enter a number: 24\n",
      "The given number is Even\n",
      "The given number is also a multiple of 4\n"
     ]
    }
   ],
   "source": [
    "number = input('Please enter a number: ')\n",
    "\n",
    "remainder = int(number)%2\n",
    "\n",
    "if remainder == 1:\n",
    "    print('The given number is Odd')\n",
    "else:\n",
    "    print('The given number is Even')\n",
    "\n",
    "remainder4 = int(number)%4\n",
    "\n",
    "### If the number is a multiple of 4, print out a different message\n",
    "if remainder4 == 0:\n",
    "    print('The given number is also a multiple of 4')"
   ]
  },
  {
   "cell_type": "markdown",
   "metadata": {},
   "source": [
    "# Exercise 3 (and Solution)\n",
    "\n",
    "Take a list, say for example this one:\n",
    "\n",
    "  a = [1, 1, 2, 3, 5, 8, 13, 21, 34, 55, 89]\n",
    "and write a program that prints out all the elements of the list that are less than 5.\n",
    "\n",
    "Extras:\n",
    "\n",
    "1. Instead of printing the elements one by one, make a new list that has all the elements less than 5 from this list in it and print out this new list.\n",
    "2. Write this in one line of Python.\n",
    "3. Ask the user for a number and return a list that contains only elements from the original list a that are smaller than that number given by the user."
   ]
  },
  {
   "cell_type": "code",
   "execution_count": 4,
   "metadata": {
    "collapsed": false
   },
   "outputs": [
    {
     "name": "stdout",
     "output_type": "stream",
     "text": [
      "1\n",
      "1\n",
      "2\n",
      "3\n",
      "[1, 1, 2, 3]\n",
      "[1, 1, 2, 3]\n",
      "Please input a number: 90\n",
      "Incorrect input. The number entered is larger than any number in the list\n"
     ]
    }
   ],
   "source": [
    "list = [1, 1, 2, 3, 5, 8, 13, 21, 34, 55, 89]\n",
    "new_list = []\n",
    "\n",
    "### print each element that is less than 5\n",
    "for i in list:\n",
    "    if i < 5:\n",
    "        print(i)\n",
    "\n",
    "### create a new list with elements less than 5 and print the list\n",
    "for i in list:\n",
    "    if i < 5:\n",
    "        new_list.append(i)\n",
    "print(new_list)\n",
    "\n",
    "### write this in one line of Python\n",
    "print([x for x in list if x < 5])\n",
    "\n",
    "### Ask the user for a number and return a list that contains only elements from \n",
    "### the original list a that are smaller than that number given by the user.\n",
    "user_input = input('Please input a number: ')\n",
    "\n",
    "if int(user_input) > max(list):\n",
    "    print('Incorrect input. The number entered is larger than any number in the list.')\n",
    "else:\n",
    "    print([x for x in list if x < int(user_input)])\n",
    "    "
   ]
  },
  {
   "cell_type": "markdown",
   "metadata": {},
   "source": [
    "# Exercise 4 (and Solution)\n",
    "\n",
    "Create a program that asks the user for a number and then prints out a list of all the divisors of that number. (If you don’t know what a divisor is, it is a number that divides evenly into another number. For example, 13 is a divisor of 26 because 26 / 13 has no remainder.)"
   ]
  },
  {
   "cell_type": "code",
   "execution_count": 10,
   "metadata": {
    "collapsed": false
   },
   "outputs": [
    {
     "name": "stdout",
     "output_type": "stream",
     "text": [
      "Please enter a number: 10\n",
      "5 is a divisor of 10\n",
      "2 is a divisor of 10\n",
      "[5, 2]\n"
     ]
    }
   ],
   "source": [
    "number = input('Please enter a number: ')\n",
    "\n",
    "# convert number from str to int\n",
    "number = int(number)\n",
    "\n",
    "# printing one divisor at a time\n",
    "i = 1\n",
    "while (number - i) > 1:\n",
    "    divisor = number - i\n",
    "    if (number%divisor == 0):\n",
    "        print(divisor, 'is a divisor of', number)\n",
    "    i = i+1\n",
    "    \n",
    "# printing a list of divisors\n",
    "divisor_list = []\n",
    "for i in range(1,number-1):\n",
    "    divisor = number-i\n",
    "    if (number%divisor == 0):\n",
    "        divisor_list.append(divisor)\n",
    "\n",
    "print(divisor_list)"
   ]
  },
  {
   "cell_type": "markdown",
   "metadata": {},
   "source": [
    "# Exercise 5 \n",
    "\n",
    "Take two lists, say for example these two:\n",
    "\n",
    "  a = [1, 1, 2, 3, 5, 8, 13, 21, 34, 55, 89]\n",
    "  b = [1, 2, 3, 4, 5, 6, 7, 8, 9, 10, 11, 12, 13]\n",
    "and write a program that returns a list that contains only the elements that are common between the lists (without duplicates). Make sure your program works on two lists of different sizes.\n",
    "\n",
    "Extras:\n",
    "\n",
    "1. Randomly generate two lists to test this\n",
    "2. Write this in one line of Python (don’t worry if you can’t figure this out at this point - we’ll get to it soon)"
   ]
  },
  {
   "cell_type": "code",
   "execution_count": 168,
   "metadata": {
    "collapsed": false
   },
   "outputs": [
    {
     "name": "stdout",
     "output_type": "stream",
     "text": [
      "The common elements between: \n",
      " [1, 1, 2, 3, 5, 8, 13, 21, 34, 55, 89] \n",
      "and\n",
      " [1, 2, 3, 4, 5, 6, 7, 8, 9, 10, 11, 12, 13] \n",
      "are: \n",
      " [1, 2, 3, 5, 8, 13]\n",
      "List1:  [18, 22, 44, 40, 77, 11, 28, 78, 27, 1]\n",
      "List2:  [6, 24, 37, 31, 75, 45, 68, 60, 15, 77]\n",
      "Common List:  [77]\n"
     ]
    }
   ],
   "source": [
    "list1 =  [1, 1, 2, 3, 5, 8, 13, 21, 34, 55, 89]\n",
    "list2 =  [1, 2, 3, 4, 5, 6, 7, 8, 9, 10, 11, 12, 13]\n",
    "\n",
    "# create new list which has only common elements\n",
    "common_list = []\n",
    "for x in list1:\n",
    "    if x in list2 and x not in common_list:\n",
    "        common_list.append(x)\n",
    "        \n",
    "# remove duplicates from common_list\n",
    "#for i in range(len(common_list)-1):\n",
    "#    if common_list[i] in common_list[i+1:]:\n",
    "#        del common_list[i]\n",
    "\n",
    "# output the common list without duplicates\n",
    "print('The common elements between:','\\n',list1,'\\nand\\n',list2,'\\nare: \\n',common_list)\n",
    "\n",
    "### Randomly generate two lists to test this\n",
    "import random\n",
    "random_list1 = [int(100*random.random()) for i in range(10)]\n",
    "random_list2 = [int(100*random.random()) for i in range(10)]\n",
    "list1 = random_list1    #comment this line if you want to use the initial list - list1\n",
    "list2 = random_list2    #comment this line if you want to use the initial list - list2\n",
    "\n",
    "### Write this in one line of Python\n",
    "common_list = [x for x in list1 if x in list2]\n",
    "# remove duplicates from common_list\n",
    "for i in range(len(common_list)-1):\n",
    "    if common_list[i] in common_list[i+1:]:\n",
    "        del common_list[i]\n",
    "# print the list\n",
    "print('List1: ', list1)\n",
    "print('List2: ', list2)\n",
    "print('Common List: ', common_list)"
   ]
  },
  {
   "cell_type": "markdown",
   "metadata": {},
   "source": [
    "# Exercise 6\n",
    "\n",
    "Ask the user for a string and print out whether this string is a palindrome or not. (A palindrome is a string that reads the same forwards and backwards.)"
   ]
  },
  {
   "cell_type": "code",
   "execution_count": 178,
   "metadata": {
    "collapsed": false
   },
   "outputs": [
    {
     "name": "stdout",
     "output_type": "stream",
     "text": [
      "Please enter a string: letter\n",
      "The entered string \"letter\" is not a palindrome\n"
     ]
    }
   ],
   "source": [
    "def is_palindrome(s):\n",
    "    \"\"\"(str) --> bool\n",
    "    \n",
    "    Returns True if and only if the string s is a palindrome (a string \n",
    "    that reads the same forwards and backwards). \n",
    "    \n",
    "    >>>is_palindrome('racecar')\n",
    "    True\n",
    "    >>>is_palindrome('letter')\n",
    "    False\n",
    "    >>>is_palindrome('deed')\n",
    "    True\n",
    "    \"\"\"\n",
    "    \n",
    "    length = len(s)\n",
    "    for i in range(length//2):\n",
    "        if s[i] != s[length-1-i]:\n",
    "            return False\n",
    "    \n",
    "    return True\n",
    "\n",
    "input_string = input('Please enter a string: ')\n",
    "if is_palindrome(input_string):\n",
    "    palindrome = 'a palindrome'\n",
    "else:\n",
    "    palindrome = 'not a palindrome'\n",
    "    \n",
    "print('The entered string \"' + input_string +'\" is', palindrome)"
   ]
  },
  {
   "cell_type": "markdown",
   "metadata": {
    "collapsed": true
   },
   "source": [
    "# Exercise 7 \n",
    "\n",
    "Let’s say I give you a list saved in a variable: a = [1, 4, 9, 16, 25, 36, 49, 64, 81, 100]. Write one line of Python that takes this list a and makes a new list that has only the even elements of this list in it."
   ]
  },
  {
   "cell_type": "code",
   "execution_count": 182,
   "metadata": {
    "collapsed": false
   },
   "outputs": [
    {
     "name": "stdout",
     "output_type": "stream",
     "text": [
      "The even elements from below list: \n",
      " [1, 4, 9, 16, 25, 36, 49, 64, 81, 100, 102, 88, 77, 66]\n",
      "are: \n",
      " [4, 16, 36, 64, 100, 102, 88, 66]\n"
     ]
    }
   ],
   "source": [
    "a = [1, 4, 9, 16, 25, 36, 49, 64, 81, 100, 102, 88, 77, 66]\n",
    "\n",
    "list_even = [x for x in a if x % 2 == 0]\n",
    "\n",
    "print('The even elements from below list: \\n',a)\n",
    "\n",
    "print('are: \\n', list_even)"
   ]
  },
  {
   "cell_type": "markdown",
   "metadata": {
    "collapsed": true
   },
   "source": [
    "# Exercise 8 (and Solution)\n",
    "\n",
    "Make a two-player Rock-Paper-Scissors game. (Hint: Ask for player plays (using input), compare them, print out a message of congratulations to the winner, and ask if the players want to start a new game)\n",
    "\n",
    "Remember the rules:\n",
    "\n",
    "1. Rock beats scissors\n",
    "2. Scissors beats paper\n",
    "3. Paper beats rock"
   ]
  },
  {
   "cell_type": "code",
   "execution_count": 22,
   "metadata": {
    "collapsed": false
   },
   "outputs": [
    {
     "name": "stdout",
     "output_type": "stream",
     "text": [
      "User1 - Please enter your choice (rock, paper or scissors): scissors\n",
      "User2 - Please enter your choice (rock, paper or scissors): paper\n",
      "User1 beats User2\n"
     ]
    }
   ],
   "source": [
    "# list of valid inputs for verification\n",
    "valid_strings = ['rock', 'paper', 'scissors']\n",
    "\n",
    "# Get valid inputs from the users\n",
    "invalid_input = True\n",
    "while invalid_input:\n",
    "    user1_input = input('User1 - Please enter your choice (rock, paper or scissors): ')\n",
    "    user1_input = user1_input.lower()\n",
    "    invalid_input = False\n",
    "    if user1_input not in valid_strings:\n",
    "        print('Please enter a valid input.')\n",
    "        invalid_input = True\n",
    "\n",
    "invalid_input = True\n",
    "while invalid_input:\n",
    "    user2_input = input('User2 - Please enter your choice (rock, paper or scissors): ')\n",
    "    user2_input = user2_input.lower()\n",
    "    invalid_input = False\n",
    "    if user2_input not in valid_strings:\n",
    "        print('Please enter a valid input.')\n",
    "        invalid_input = True\n",
    "\n",
    "# winning combinations\n",
    "win = [['rock','scissors'], ['scissors','paper'], ['paper','rock']]\n",
    "\n",
    "# loosing combinations\n",
    "loose = [['rock','paper'],['scissors','rock'],['paper','scissors']]\n",
    "\n",
    "if [user1_input, user2_input] in win:\n",
    "    print('User1 beats User2')\n",
    "elif [user1_input, user2_input] in loose:\n",
    "    print('User2 beats User1')\n",
    "else:\n",
    "    print('It is a tie!!')      \n",
    "        "
   ]
  },
  {
   "cell_type": "markdown",
   "metadata": {},
   "source": [
    "# Exercise 9\n",
    "\n",
    "Generate a random number between 1 and 9 (including 1 and 9). Ask the user to guess the number, then tell them whether they guessed too low, too high, or exactly right. (Hint: remember to use the user input lessons from the very first exercise)\n",
    "\n",
    "Extras:\n",
    "\n",
    "1. Keep the game going until the user types “exit”\n",
    "2. Keep track of how many guesses the user has taken, and when the game ends, print this out."
   ]
  },
  {
   "cell_type": "code",
   "execution_count": 143,
   "metadata": {
    "collapsed": false
   },
   "outputs": [
    {
     "name": "stdout",
     "output_type": "stream",
     "text": [
      "3\n",
      "Enter \"Exit\" anytime in the input to exit.\n",
      "Please guess a number between 1 and 9: 2\n",
      "Your guess was too low\n",
      "Please guess a number between 1 and 9: 3\n",
      "You guessed right!!\n",
      "No of total attempts: 2\n"
     ]
    }
   ],
   "source": [
    "# Generate a random number between 1 and 9\n",
    "import random\n",
    "random_num = int(10*random.random()) \n",
    "\n",
    "# random_num give a number between 0 to 9. The below code converts it to a number \n",
    "# between 1 and 9\n",
    "if random_num < 9:\n",
    "    random_num = random_num + 1\n",
    "print(random_num)\n",
    "print('Enter \"Exit\" anytime in the input to exit.')\n",
    "\n",
    "# initiate the counter\n",
    "count = 0\n",
    "\n",
    "# while loop which will run untill the guess is right or user enters exit\n",
    "while True:\n",
    "    # Ask the user to guess a number\n",
    "    guess = input('Please guess a number between 1 and 9: ')\n",
    "    \n",
    "    # check if the user entered exit\n",
    "    if guess.lower() == 'exit':\n",
    "        print('No of total attempts:', count)\n",
    "        break\n",
    "    \n",
    "    # if user didn't eneterd exit increment the counter\n",
    "    count = count + 1\n",
    "    \n",
    "    # Check if the entered input is an integer between 1 and 9. if not print message.\n",
    "    if guess not in '123456789':\n",
    "        print('Please enter a valid input (number between 1 and 9 or \"Exit\").')\n",
    "        continue\n",
    "    elif random_num == int(guess):\n",
    "        print('You guessed right!!')\n",
    "        print('No of total attempts:', count)\n",
    "        break\n",
    "    elif random_num < int(guess):\n",
    "        print('Your guess was too high')\n",
    "    else:\n",
    "        print('Your guess was too low')\n",
    "\n",
    "    "
   ]
  }
 ],
 "metadata": {
  "kernelspec": {
   "display_name": "Python 3",
   "language": "python",
   "name": "python3"
  },
  "language_info": {
   "codemirror_mode": {
    "name": "ipython",
    "version": 3
   },
   "file_extension": ".py",
   "mimetype": "text/x-python",
   "name": "python",
   "nbconvert_exporter": "python",
   "pygments_lexer": "ipython3",
   "version": "3.5.2"
  },
  "widgets": {
   "state": {},
   "version": "1.1.2"
  }
 },
 "nbformat": 4,
 "nbformat_minor": 0
}
